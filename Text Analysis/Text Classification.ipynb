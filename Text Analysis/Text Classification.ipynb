{
 "cells": [
  {
   "cell_type": "markdown",
   "metadata": {},
   "source": [
    "## Text Classification"
   ]
  },
  {
   "cell_type": "code",
   "execution_count": 2,
   "metadata": {
    "collapsed": true
   },
   "outputs": [],
   "source": [
    "%matplotlib inline\n",
    "import numpy as np\n",
    "import pandas as pd\n",
    "import scipy as sp\n",
    "import re\n",
    "import requests\n",
    "\n",
    "from sklearn.pipeline import Pipeline\n",
    "from sklearn.metrics import accuracy_score\n",
    "from sklearn.linear_model import LogisticRegression\n",
    "\n",
    "from sklearn.feature_extraction.text import CountVectorizer, TfidfVectorizer\n",
    "from sklearn.utils import check_random_state\n",
    "from sklearn.cross_validation import StratifiedShuffleSplit\n",
    "\n",
    "\n",
    "from nose.tools import (\n",
    "    assert_equal,\n",
    "    assert_is_instance,\n",
    "    assert_almost_equal,\n",
    "    assert_true\n",
    ")\n",
    "from numpy.testing import assert_array_equal\n",
    "\n",
    "import warnings\n",
    "warnings.filterwarnings(\"ignore\")"
   ]
  },
  {
   "cell_type": "code",
   "execution_count": 3,
   "metadata": {},
   "outputs": [
    {
     "data": {
      "text/html": [
       "<div>\n",
       "<style>\n",
       "    .dataframe thead tr:only-child th {\n",
       "        text-align: right;\n",
       "    }\n",
       "\n",
       "    .dataframe thead th {\n",
       "        text-align: left;\n",
       "    }\n",
       "\n",
       "    .dataframe tbody tr th {\n",
       "        vertical-align: top;\n",
       "    }\n",
       "</style>\n",
       "<table border=\"1\" class=\"dataframe\">\n",
       "  <thead>\n",
       "    <tr style=\"text-align: right;\">\n",
       "      <th></th>\n",
       "      <th>Label</th>\n",
       "      <th>Text</th>\n",
       "    </tr>\n",
       "  </thead>\n",
       "  <tbody>\n",
       "    <tr>\n",
       "      <th>0</th>\n",
       "      <td>linq</td>\n",
       "      <td>How do I fill a DataSet or a DataTable from a ...</td>\n",
       "    </tr>\n",
       "    <tr>\n",
       "      <th>1</th>\n",
       "      <td>linq</td>\n",
       "      <td>How do you page a collection with LINQ?</td>\n",
       "    </tr>\n",
       "    <tr>\n",
       "      <th>2</th>\n",
       "      <td>svn</td>\n",
       "      <td>Best Subversion clients for Windows Vista (64bit)</td>\n",
       "    </tr>\n",
       "    <tr>\n",
       "      <th>3</th>\n",
       "      <td>svn</td>\n",
       "      <td>Best Practice: Collaborative Environment, Bin ...</td>\n",
       "    </tr>\n",
       "    <tr>\n",
       "      <th>4</th>\n",
       "      <td>visual-studio</td>\n",
       "      <td>Visual Studio Setup Project - Per User Registr...</td>\n",
       "    </tr>\n",
       "  </tbody>\n",
       "</table>\n",
       "</div>"
      ],
      "text/plain": [
       "           Label                                               Text\n",
       "0           linq  How do I fill a DataSet or a DataTable from a ...\n",
       "1           linq            How do you page a collection with LINQ?\n",
       "2            svn  Best Subversion clients for Windows Vista (64bit)\n",
       "3            svn  Best Practice: Collaborative Environment, Bin ...\n",
       "4  visual-studio  Visual Studio Setup Project - Per User Registr..."
      ]
     },
     "execution_count": 3,
     "metadata": {},
     "output_type": "execute_result"
    }
   ],
   "source": [
    "file_path = \"combined_StackOverFlow.txt\"\n",
    "sof_df = pd.read_table(file_path, header=None, names=[\"Label\",\"Text\"])\n",
    "sof_df.head()"
   ]
  },
  {
   "cell_type": "markdown",
   "metadata": {},
   "source": [
    "### Splitting data set for training and testing"
   ]
  },
  {
   "cell_type": "code",
   "execution_count": 4,
   "metadata": {
    "collapsed": true
   },
   "outputs": [],
   "source": [
    "def train_test_split(X, y, test_size, random_state):\n",
    "    '''\n",
    "    Creates a training set and a test from the data set.\n",
    "    \n",
    "    Parameters\n",
    "    ----------\n",
    "    X: pd.core.series.Series object.\n",
    "    y: pd.core.series.Series object.\n",
    "    fileids: A list of strings.\n",
    "    categories: A list of strings.\n",
    "    \n",
    "    Returns\n",
    "    -------\n",
    "    A 4-tuple (X_train, X_test, y_train, y_test)\n",
    "    All four elements in the tuple are pd.core.series.Series.\n",
    "    '''\n",
    "    \n",
    "    sss=StratifiedShuffleSplit(y, test_size=test_size, random_state=random_state)\n",
    "    for train_index, test_index in sss:\n",
    "        X_train, X_test = X[train_index], X[test_index]\n",
    "        y_train, y_test = y[train_index], y[test_index]\n",
    "    return X_train, X_test, y_train, y_test"
   ]
  },
  {
   "cell_type": "code",
   "execution_count": 5,
   "metadata": {
    "collapsed": true
   },
   "outputs": [],
   "source": [
    "X_train, X_test, y_train, y_test= train_test_split(sof_df['Text'], sof_df['Label'], 0.25, check_random_state(0))"
   ]
  },
  {
   "cell_type": "code",
   "execution_count": 6,
   "metadata": {
    "collapsed": true
   },
   "outputs": [],
   "source": [
    "assert_is_instance(X_train, pd.core.series.Series)\n",
    "assert_is_instance(X_test, pd.core.series.Series)\n",
    "assert_is_instance(y_train, pd.core.series.Series)\n",
    "assert_is_instance(y_test, pd.core.series.Series)\n",
    "\n",
    "assert_true(all(isinstance(elem, str) for elem in X_train))\n",
    "assert_true(all(isinstance(elem, str) for elem in X_test))\n",
    "assert_true(all(isinstance(elem, str) for elem in y_train))\n",
    "assert_true(all(isinstance(elem, str) for elem in y_test))\n",
    "\n",
    "assert_equal(len(X_train), 15000)\n",
    "assert_equal(len(X_test), 5000)\n",
    "assert_equal(len(X_train), len(y_train))\n",
    "assert_equal(len(X_test), len(y_test))\n",
    "\n",
    "assert_equal(X_train[0][:20], 'How do I fill a Data')\n",
    "assert_equal(y_train[0], 'linq')\n",
    "assert_equal(X_test.iloc[0][:20], 'Can MacOS be run in ')\n",
    "assert_equal(y_test.iloc[0], 'osx')\n",
    "\n",
    "assert_equal(X_train[2][:20], 'Best Subversion clie')\n",
    "assert_equal(y_train[2], 'svn')\n",
    "assert_equal(X_test.iloc[2][:20], 'How to format a inpu')\n",
    "assert_equal(y_test.iloc[2], 'matlab')"
   ]
  },
  {
   "cell_type": "markdown",
   "metadata": {},
   "source": [
    "### Logistic Regression (no pipeline, no stop words)"
   ]
  },
  {
   "cell_type": "code",
   "execution_count": 7,
   "metadata": {
    "collapsed": true
   },
   "outputs": [],
   "source": [
    "def cv_lr(X_train, y_train, X_test, random_state):\n",
    "    '''\n",
    "    Creates a document term matrix and uses LR classifier to make text classifications.\n",
    "    \n",
    "    Parameters\n",
    "    ----------\n",
    "    X_train: A pd.core.Core. Series object.\n",
    "    y_train: A pd.core.Core. Series object.\n",
    "    X_test: A pd.core.Core. Series object.\n",
    "    random_state: A np.random.RandomState instance.\n",
    "    \n",
    "    Returns\n",
    "    -------\n",
    "    A tuple of (cv, lr, y_pred)\n",
    "    cv: A CountVectorizer instance.\n",
    "    lr: A LogisticRegression instance.\n",
    "    y_pred: A numpy array.\n",
    "    '''\n",
    "    \n",
    "    cv = CountVectorizer()\n",
    "    train_counts = cv.fit_transform(X_train)\n",
    "    test_data = cv.transform(X_test)\n",
    "    lr=LogisticRegression(random_state=random_state)\n",
    "    clf = lr.fit(train_counts, y_train)\n",
    "    y_pred = clf.predict(test_data)\n",
    "    return cv, lr, y_pred"
   ]
  },
  {
   "cell_type": "code",
   "execution_count": 8,
   "metadata": {},
   "outputs": [
    {
     "name": "stdout",
     "output_type": "stream",
     "text": [
      "LR prediction accuracy = 87.1%\n"
     ]
    }
   ],
   "source": [
    "cv1, lr1, y_pred1 = cv_lr(X_train, y_train, X_test, random_state=check_random_state(0))\n",
    "score1 = accuracy_score(y_pred1, y_test)\n",
    "print(\"LR prediction accuracy = {0:3.1f}%\".format(100.0 * score1))"
   ]
  },
  {
   "cell_type": "code",
   "execution_count": 9,
   "metadata": {
    "collapsed": true
   },
   "outputs": [],
   "source": [
    "assert_is_instance(cv1, CountVectorizer)\n",
    "assert_is_instance(lr1, LogisticRegression)\n",
    "assert_is_instance(y_pred1, np.ndarray)\n",
    "assert_equal(cv1.stop_words, None)\n",
    "assert_equal(len(y_pred1), len(y_test))\n",
    "assert_array_equal(y_pred1[:5], ['osx', 'ajax', 'matlab', 'qt', 'matlab'])\n",
    "assert_array_equal(y_pred1[-5:], ['haskell', 'svn', 'drupal', 'cocoa', 'scala'])\n",
    "assert_almost_equal(score1, 0.871)"
   ]
  },
  {
   "cell_type": "markdown",
   "metadata": {},
   "source": [
    "### Logistic Regression (Pipeline, no stop words)"
   ]
  },
  {
   "cell_type": "code",
   "execution_count": 10,
   "metadata": {
    "collapsed": true
   },
   "outputs": [],
   "source": [
    "def cv_lr_pipe(X_train, y_train, X_test, random_state):\n",
    "    '''\n",
    "    Creates a document term matrix and uses LR classifier to make text classifications.\n",
    "    \n",
    "    Parameters\n",
    "    ----------\n",
    "    X_train: A pd.core.Core. Series object.\n",
    "    y_train: A pd.core.Core. Series object.\n",
    "    X_test: A pd.core.Core. Series object.\n",
    "    random_state: A np.random.RandomState instance.\n",
    "    \n",
    "    Returns\n",
    "    -------\n",
    "    A tuple of (clf, y_pred)\n",
    "    clf: A Pipeline instance.\n",
    "    y_pred: A numpy array.\n",
    "    '''\n",
    "    \n",
    "    tools = [('cv', CountVectorizer()), ('lr', LogisticRegression())]\n",
    "    clf = Pipeline(tools)\n",
    "    clf.set_params(lr__random_state=random_state)\n",
    "    clf = clf.fit(X_train, y_train)\n",
    "    predicted = clf.predict(X_test)\n",
    "    return clf, predicted"
   ]
  },
  {
   "cell_type": "code",
   "execution_count": 11,
   "metadata": {},
   "outputs": [
    {
     "name": "stdout",
     "output_type": "stream",
     "text": [
      "LR prediction accuracy = 87.1%\n"
     ]
    }
   ],
   "source": [
    "clf2, y_pred2 = cv_lr_pipe(X_train, y_train, X_test, random_state=check_random_state(0))\n",
    "score2 = accuracy_score(y_pred2, y_test)\n",
    "print(\"LR prediction accuracy = {0:3.1f}%\".format(100.0 * score2))"
   ]
  },
  {
   "cell_type": "code",
   "execution_count": 12,
   "metadata": {
    "collapsed": true
   },
   "outputs": [],
   "source": [
    "assert_is_instance(clf2, Pipeline)\n",
    "assert_is_instance(y_pred2, np.ndarray)\n",
    "cv2 = clf2.named_steps['cv']\n",
    "assert_is_instance(cv2, CountVectorizer)\n",
    "assert_is_instance(clf2.named_steps['lr'], LogisticRegression)\n",
    "assert_equal(cv2.stop_words, None)\n",
    "assert_equal(len(y_pred2), len(y_test))\n",
    "assert_array_equal(y_pred1, y_pred2)\n",
    "assert_array_equal(y_pred1, y_pred2)\n",
    "assert_almost_equal(score1, score2)"
   ]
  },
  {
   "cell_type": "markdown",
   "metadata": {},
   "source": [
    "### Logistic Regression (Pipeline and stop words)"
   ]
  },
  {
   "cell_type": "code",
   "execution_count": 13,
   "metadata": {
    "collapsed": true
   },
   "outputs": [],
   "source": [
    "def cv_lr_pipe_sw(X_train, y_train, X_test, random_state):\n",
    "    '''\n",
    "    Creates a document term matrix and uses LR classifier to make document classifications.\n",
    "    Uses English stop words.\n",
    "    \n",
    "    Parameters\n",
    "    ----------\n",
    "    X_train: A pd.core.Core. Series object.\n",
    "    y_train: A pd.core.Core. Series object.\n",
    "    X_test: A pd.core.Core. Series object.\n",
    "    random_state: A np.random.RandomState instance.\n",
    "    \n",
    "    Returns\n",
    "    -------\n",
    "    A tuple of (clf, y_pred)\n",
    "    clf: A Pipeline instance.\n",
    "    y_pred: A numpy array.\n",
    "    '''\n",
    "\n",
    "    tools = [('cv', CountVectorizer()), ('lr', LogisticRegression())]\n",
    "    clf = Pipeline(tools)\n",
    "    clf.set_params(cv__stop_words = 'english')\n",
    "    clf.set_params(lr__random_state=random_state)\n",
    "    clf = clf.fit(X_train, y_train)\n",
    "    predicted = clf.predict(X_test)\n",
    "    return clf, predicted"
   ]
  },
  {
   "cell_type": "code",
   "execution_count": 14,
   "metadata": {},
   "outputs": [
    {
     "name": "stdout",
     "output_type": "stream",
     "text": [
      "LR prediction accuracy = 87.2%\n"
     ]
    }
   ],
   "source": [
    "clf3, y_pred3 = cv_lr_pipe_sw(X_train, y_train, X_test, random_state=check_random_state(0))\n",
    "score3 = accuracy_score(y_pred3, y_test)\n",
    "print(\"LR prediction accuracy = {0:3.1f}%\".format(100.0 * score3))"
   ]
  },
  {
   "cell_type": "code",
   "execution_count": 15,
   "metadata": {
    "collapsed": true
   },
   "outputs": [],
   "source": [
    "assert_is_instance(clf3, Pipeline)\n",
    "assert_is_instance(y_pred3, np.ndarray)\n",
    "cv3 = clf3.named_steps['cv']\n",
    "assert_is_instance(cv3, CountVectorizer)\n",
    "assert_is_instance(clf3.named_steps['lr'], LogisticRegression)\n",
    "assert_equal(cv3.stop_words, 'english')\n",
    "assert_equal(len(y_pred3), len(y_test))\n",
    "assert_array_equal(y_pred3[:5], ['osx', 'ajax', 'matlab', 'cocoa', 'matlab'])\n",
    "assert_array_equal(y_pred3[-5:], ['haskell', 'svn', 'drupal', 'cocoa', 'scala'])\n",
    "assert_almost_equal(score3, 0.87239999999999995)"
   ]
  },
  {
   "cell_type": "markdown",
   "metadata": {},
   "source": [
    "### Pipeline of TF-IDF and Logistic Regression with stop words"
   ]
  },
  {
   "cell_type": "code",
   "execution_count": 18,
   "metadata": {
    "collapsed": true
   },
   "outputs": [],
   "source": [
    "def tfidf_lr(X_train, y_train, X_test, random_state):\n",
    "    '''\n",
    "    Creates a document term matrix and uses Logistic Regression classifier to make text classifications.\n",
    "    Uses English stop words.\n",
    "    \n",
    "    Parameters\n",
    "    ----------\n",
    "    X_train: A pd.core.Core. Series object.\n",
    "    y_train: A pd.core.Core. Series object.\n",
    "    X_test: A pd.core.Core. Series object.\n",
    "    random_state: A np.random.RandomState instance.\n",
    "    \n",
    "    Returns\n",
    "    -------\n",
    "    A tuple of (clf, y_pred)\n",
    "    clf: A Pipeline instance.\n",
    "    y_pred: A numpy array.\n",
    "    '''\n",
    "    \n",
    "    tools = [('tf', TfidfVectorizer()), ('lr', LogisticRegression())]\n",
    "    clf = Pipeline(tools)\n",
    "    clf.set_params(tf__stop_words = 'english')\n",
    "    clf.set_params(lr__random_state=random_state)\n",
    "    clf = clf.fit(X_train, y_train)\n",
    "    predicted = clf.predict(X_test)\n",
    "    return clf, predicted"
   ]
  },
  {
   "cell_type": "code",
   "execution_count": 19,
   "metadata": {},
   "outputs": [
    {
     "name": "stdout",
     "output_type": "stream",
     "text": [
      "LR prediction accuracy =  87.2%\n"
     ]
    }
   ],
   "source": [
    "clf4, y_pred4 = tfidf_lr(X_train, y_train, X_test, random_state=check_random_state(0))\n",
    "score4 = accuracy_score(y_pred4, y_test)\n",
    "print(\"LR prediction accuracy = {0:5.1f}%\".format(100.0 * score4))"
   ]
  },
  {
   "cell_type": "code",
   "execution_count": 20,
   "metadata": {
    "collapsed": true
   },
   "outputs": [],
   "source": [
    "assert_is_instance(clf4, Pipeline)\n",
    "assert_is_instance(y_pred4, np.ndarray)\n",
    "tf4 = clf4.named_steps['tf']\n",
    "assert_is_instance(tf4, TfidfVectorizer)\n",
    "assert_is_instance(clf4.named_steps['lr'], LogisticRegression)\n",
    "assert_equal(tf4.stop_words, 'english')\n",
    "assert_equal(len(y_pred4), len(y_test))\n",
    "assert_array_equal(y_pred4[:5], ['osx', 'ajax', 'matlab', 'cocoa', 'matlab'])\n",
    "assert_array_equal(y_pred4[-5:], ['haskell', 'svn', 'drupal', 'cocoa', 'scala'])\n",
    "assert_almost_equal(score4, 0.872)"
   ]
  }
 ],
 "metadata": {
  "kernelspec": {
   "display_name": "Python 3",
   "language": "python",
   "name": "python3"
  },
  "language_info": {
   "codemirror_mode": {
    "name": "ipython",
    "version": 3
   },
   "file_extension": ".py",
   "mimetype": "text/x-python",
   "name": "python",
   "nbconvert_exporter": "python",
   "pygments_lexer": "ipython3",
   "version": "3.6.1"
  }
 },
 "nbformat": 4,
 "nbformat_minor": 2
}
