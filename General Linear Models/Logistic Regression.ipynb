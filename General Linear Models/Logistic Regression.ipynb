{
 "cells": [
  {
   "cell_type": "markdown",
   "metadata": {},
   "source": [
    "## Logistic Regression"
   ]
  },
  {
   "cell_type": "code",
   "execution_count": 2,
   "metadata": {
    "collapsed": true
   },
   "outputs": [],
   "source": [
    "%matplotlib inline\n",
    "\n",
    "import warnings\n",
    "warnings.filterwarnings(\"ignore\", category=UserWarning)\n",
    "\n",
    "import numpy as np\n",
    "import pandas as pd\n",
    "import matplotlib as mpl\n",
    "import matplotlib.pyplot as plt\n",
    "import seaborn as sns\n",
    "    \n",
    "import statsmodels\n",
    "import statsmodels.api as sm\n",
    "\n",
    "from nose.tools import assert_equal\n",
    "from numpy.testing import assert_array_equal, assert_array_almost_equal\n",
    "from pandas.util.testing import assert_frame_equal\n",
    "\n",
    "sns.set(style=\"white\", font_scale=2.0)"
   ]
  },
  {
   "cell_type": "code",
   "execution_count": 3,
   "metadata": {
    "collapsed": true
   },
   "outputs": [],
   "source": [
    "filename = '2001.csv'\n",
    "\n",
    "usecols = (3, 8, 15, 17)\n",
    "columns = ['DayOfWeek', 'UniqueCarrier', 'DepDelay', 'Origin']\n",
    "\n",
    "all_data = pd.read_csv(filename, header=0, na_values=['NA'], usecols=usecols, names=columns).dropna()\n",
    "\n",
    "local = all_data.loc[all_data['Origin'] == 'ORD'].dropna()"
   ]
  },
  {
   "cell_type": "code",
   "execution_count": 32,
   "metadata": {},
   "outputs": [
    {
     "name": "stdout",
     "output_type": "stream",
     "text": [
      "      DayOfWeek UniqueCarrier  DepDelay Origin\n",
      "1855          2            US      -1.0    ORD\n",
      "1856          3            US      -4.0    ORD\n",
      "1857          4            US      -3.0    ORD\n",
      "1858          5            US      -3.0    ORD\n",
      "1859          6            US      -4.0    ORD\n"
     ]
    }
   ],
   "source": [
    "print(local.head())"
   ]
  },
  {
   "cell_type": "markdown",
   "metadata": {},
   "source": [
    "### Convert DepDelay to binary"
   ]
  },
  {
   "cell_type": "code",
   "execution_count": 4,
   "metadata": {
    "collapsed": true
   },
   "outputs": [],
   "source": [
    "def convert_to_binary(df, column, cutoff):\n",
    "    '''\n",
    "    Converts one column in Pandas.DataFrame \"df\" into binary\n",
    "    as a new column, and returns the new DataFrame (\"df\" plus new binary column).\n",
    "    Note that \"df\" should NOT be altered.\n",
    "    \n",
    "    The returned DataFrame has one more column than \"df\".\n",
    "    The name of this column is in the form \"column_binary\".\n",
    "    For example, if \"column\" is \"DepDelay\", the name of the extra column\n",
    "    in the returned DataFrame is \"DepDelay_binary\".\n",
    "    \n",
    "    We assume that df[column] contains only ints or floats.\n",
    "    If df[column] < cutoff, df[column_binary] is 0.\n",
    "    If df[column] >= cutoff, df[column_binary] is 1.\n",
    "    \n",
    "    Parameters\n",
    "    ----------\n",
    "    df: A Pandas.DataFrame.\n",
    "    column: A string.\n",
    "    cutoff: An int.\n",
    "    \n",
    "    Returns\n",
    "    -------\n",
    "    A Pandas.DataFrame.\n",
    "    '''\n",
    "    \n",
    "    new=df.copy()\n",
    "    new[column+'_binary']=(new[column] >= cutoff).astype(int)\n",
    "    return new"
   ]
  },
  {
   "cell_type": "code",
   "execution_count": 5,
   "metadata": {
    "collapsed": true
   },
   "outputs": [],
   "source": [
    "local = convert_to_binary(local, 'DepDelay', 5)"
   ]
  },
  {
   "cell_type": "code",
   "execution_count": 62,
   "metadata": {},
   "outputs": [
    {
     "name": "stdout",
     "output_type": "stream",
     "text": [
      "         DayOfWeek UniqueCarrier  DepDelay Origin  DepDelay_binary\n",
      "5960735          6            DL       4.0    ORD                0\n",
      "5960736          7            DL       7.0    ORD                1\n",
      "5960737          1            DL      -2.0    ORD                0\n",
      "5960738          2            DL      -3.0    ORD                0\n",
      "5960739          3            DL       0.0    ORD                0\n",
      "5960740          4            DL      58.0    ORD                1\n",
      "5960741          5            DL       1.0    ORD                0\n",
      "5960742          6            DL       0.0    ORD                0\n",
      "5960743          7            DL      -8.0    ORD                0\n",
      "5960744          1            DL      -3.0    ORD                0\n"
     ]
    }
   ],
   "source": [
    "print(local.tail(10))"
   ]
  },
  {
   "cell_type": "code",
   "execution_count": 6,
   "metadata": {
    "collapsed": true
   },
   "outputs": [],
   "source": [
    "df0 = pd.DataFrame({\n",
    "    'a': list(range(-5, 5)),\n",
    "    'b': list(range(10))\n",
    "    })\n",
    "\n",
    "test1 = convert_to_binary(df0, 'a', 0)\n",
    "answer1 = df0.join(pd.DataFrame({'a_binary': [0] * 5 + [1] * 5}))\n",
    "assert_frame_equal(test1, answer1)\n",
    "\n",
    "test2 = convert_to_binary(df0, 'b', 4)\n",
    "answer2 = df0.join(pd.DataFrame({'b_binary': [0] * 4 + [1] * 6}))\n",
    "assert_frame_equal(test2, answer2)"
   ]
  },
  {
   "cell_type": "markdown",
   "metadata": {},
   "source": [
    "### Convert categorical variables to dummy indicator variables"
   ]
  },
  {
   "cell_type": "code",
   "execution_count": 31,
   "metadata": {
    "collapsed": true
   },
   "outputs": [],
   "source": [
    "def convert_to_dummy(df, dummy_columns, keep_columns):\n",
    "    '''\n",
    "    Transforms categorical variables of dummy_columns into binary indicator variables.\n",
    "    \n",
    "    Parameters\n",
    "    ----------\n",
    "    df: A pandas.DataFrame\n",
    "    dummy_columns: A list of strings. Columns of df that are converted to dummies.\n",
    "    keep_columns: A list of strings. Columns of df that are kept in the result.\n",
    "    \n",
    "    \n",
    "    Returns\n",
    "    -------\n",
    "    A pandas.DataFrame\n",
    "    '''\n",
    "    \n",
    "    new=df[keep_columns+dummy_columns]\n",
    "    new=pd.get_dummies(new,columns=dummy_columns)\n",
    "    return new"
   ]
  },
  {
   "cell_type": "code",
   "execution_count": 32,
   "metadata": {},
   "outputs": [
    {
     "name": "stdout",
     "output_type": "stream",
     "text": [
      "      DepDelay_binary  DayOfWeek_1  DayOfWeek_2  DayOfWeek_3  DayOfWeek_4  \\\n",
      "1855                0            0            1            0            0   \n",
      "1856                0            0            0            1            0   \n",
      "1857                0            0            0            0            1   \n",
      "1858                0            0            0            0            0   \n",
      "1859                0            0            0            0            0   \n",
      "\n",
      "      DayOfWeek_5  DayOfWeek_6  DayOfWeek_7  UniqueCarrier_AA  \\\n",
      "1855            0            0            0                 0   \n",
      "1856            0            0            0                 0   \n",
      "1857            0            0            0                 0   \n",
      "1858            1            0            0                 0   \n",
      "1859            0            1            0                 0   \n",
      "\n",
      "      UniqueCarrier_AS  UniqueCarrier_CO  UniqueCarrier_DL  UniqueCarrier_HP  \\\n",
      "1855                 0                 0                 0                 0   \n",
      "1856                 0                 0                 0                 0   \n",
      "1857                 0                 0                 0                 0   \n",
      "1858                 0                 0                 0                 0   \n",
      "1859                 0                 0                 0                 0   \n",
      "\n",
      "      UniqueCarrier_MQ  UniqueCarrier_NW  UniqueCarrier_TW  UniqueCarrier_UA  \\\n",
      "1855                 0                 0                 0                 0   \n",
      "1856                 0                 0                 0                 0   \n",
      "1857                 0                 0                 0                 0   \n",
      "1858                 0                 0                 0                 0   \n",
      "1859                 0                 0                 0                 0   \n",
      "\n",
      "      UniqueCarrier_US  \n",
      "1855                 1  \n",
      "1856                 1  \n",
      "1857                 1  \n",
      "1858                 1  \n",
      "1859                 1  \n"
     ]
    }
   ],
   "source": [
    "data = convert_to_dummy(local, dummy_columns=['DayOfWeek', 'UniqueCarrier'], keep_columns=['DepDelay_binary'])\n",
    "print(data.head())"
   ]
  },
  {
   "cell_type": "markdown",
   "metadata": {},
   "source": [
    "### Add intercept"
   ]
  },
  {
   "cell_type": "code",
   "execution_count": 50,
   "metadata": {
    "collapsed": true
   },
   "outputs": [],
   "source": [
    "def add_intercept(df):\n",
    "    '''\n",
    "    Appends to \"df\" an \"Intercept\" column whose values are all 1.0.\n",
    "    Note that \"df\" should NOT be altered.\n",
    "    \n",
    "    Parameters\n",
    "    ----------\n",
    "    df: A pandas.DataFrame\n",
    "    \n",
    "    Returns\n",
    "    -------\n",
    "    A pandas.DataFrame\n",
    "    '''\n",
    "    \n",
    "    new=df.copy()\n",
    "    new['Intercept']=1\n",
    "    return new"
   ]
  },
  {
   "cell_type": "code",
   "execution_count": 51,
   "metadata": {},
   "outputs": [
    {
     "name": "stdout",
     "output_type": "stream",
     "text": [
      "1855    1\n",
      "1856    1\n",
      "1857    1\n",
      "1858    1\n",
      "1859    1\n",
      "Name: Intercept, dtype: int64\n"
     ]
    }
   ],
   "source": [
    "data = add_intercept(data)\n",
    "print(data['Intercept'].head())"
   ]
  },
  {
   "cell_type": "code",
   "execution_count": 52,
   "metadata": {
    "collapsed": true
   },
   "outputs": [],
   "source": [
    "df0 = pd.DataFrame({'a': [c for c in 'abcde']})\n",
    "\n",
    "test1 = add_intercept(df0)\n",
    "answer1 = df0.join(pd.DataFrame({'Intercept': [1] * 5}))\n",
    "\n",
    "assert_frame_equal(test1, answer1)"
   ]
  },
  {
   "cell_type": "markdown",
   "metadata": {},
   "source": [
    "### Function: fit_logistic()"
   ]
  },
  {
   "cell_type": "code",
   "execution_count": 62,
   "metadata": {
    "collapsed": true
   },
   "outputs": [],
   "source": [
    "def fit_logitistic(df, train_columns, test_column):\n",
    "    '''\n",
    "    Fits a logistic regression model on \"train_columns\" to predict \"test_column\".\n",
    "    \n",
    "    The function returns a tuple of (model ,result).\n",
    "    \"model\" is an instance of Logit(). \"result\" is the result of Logit.fit() method.\n",
    "    \n",
    "    Parameters\n",
    "    ----------\n",
    "    train_columns: A list of strings\n",
    "    test_column: A string\n",
    "    \n",
    "    Returns\n",
    "    -------\n",
    "    A tuple of (model, result)\n",
    "    model: An object of type statsmodels.discrete.discrete_model.Logit\n",
    "    result: An object of type statsmodels.discrete.discrete_model.BinaryResultsWrapper\n",
    "    '''\n",
    "    \n",
    "    logit = sm.Logit(data[test_column], data[train_columns])\n",
    "    result = logit.fit()\n",
    "    return logit,result"
   ]
  },
  {
   "cell_type": "code",
   "execution_count": 63,
   "metadata": {},
   "outputs": [
    {
     "name": "stdout",
     "output_type": "stream",
     "text": [
      "Optimization terminated successfully.\n",
      "         Current function value: 0.589094\n",
      "         Iterations 5\n"
     ]
    }
   ],
   "source": [
    "train_columns = [\n",
    "        'DayOfWeek_2', 'DayOfWeek_3', 'DayOfWeek_4',\n",
    "        'DayOfWeek_5', 'DayOfWeek_6', 'DayOfWeek_7',\n",
    "        'UniqueCarrier_AS', 'UniqueCarrier_CO', 'UniqueCarrier_DL',\n",
    "        'UniqueCarrier_HP', 'UniqueCarrier_MQ', 'UniqueCarrier_NW',\n",
    "        'UniqueCarrier_TW', 'UniqueCarrier_UA', 'UniqueCarrier_US',\n",
    "        'Intercept'\n",
    "        ]\n",
    "\n",
    "model, result = fit_logitistic(data, train_columns=train_columns, test_column='DepDelay_binary')"
   ]
  },
  {
   "cell_type": "code",
   "execution_count": 64,
   "metadata": {},
   "outputs": [
    {
     "name": "stdout",
     "output_type": "stream",
     "text": [
      "                           Logit Regression Results                           \n",
      "==============================================================================\n",
      "Dep. Variable:        DepDelay_binary   No. Observations:               321227\n",
      "Model:                          Logit   Df Residuals:                   321211\n",
      "Method:                           MLE   Df Model:                           15\n",
      "Date:                Wed, 19 Jul 2017   Pseudo R-squ.:                0.005735\n",
      "Time:                        18:33:49   Log-Likelihood:            -1.8923e+05\n",
      "converged:                       True   LL-Null:                   -1.9032e+05\n",
      "                                        LLR p-value:                     0.000\n",
      "====================================================================================\n",
      "                       coef    std err          z      P>|z|      [0.025      0.975]\n",
      "------------------------------------------------------------------------------------\n",
      "DayOfWeek_2         -0.1574      0.015    -10.479      0.000      -0.187      -0.128\n",
      "DayOfWeek_3          0.0164      0.015      1.113      0.266      -0.012       0.045\n",
      "DayOfWeek_4          0.2148      0.014     14.911      0.000       0.187       0.243\n",
      "DayOfWeek_5          0.2059      0.014     14.274      0.000       0.178       0.234\n",
      "DayOfWeek_6          0.0229      0.015      1.514      0.130      -0.007       0.053\n",
      "DayOfWeek_7          0.1085      0.015      7.397      0.000       0.080       0.137\n",
      "UniqueCarrier_AS    -0.3596      0.134     -2.679      0.007      -0.623      -0.096\n",
      "UniqueCarrier_CO    -0.0101      0.030     -0.339      0.735      -0.069       0.048\n",
      "UniqueCarrier_DL     0.5507      0.024     22.889      0.000       0.504       0.598\n",
      "UniqueCarrier_HP     0.8619      0.039     22.121      0.000       0.786       0.938\n",
      "UniqueCarrier_MQ     0.0906      0.012      7.502      0.000       0.067       0.114\n",
      "UniqueCarrier_NW     0.2597      0.025     10.572      0.000       0.212       0.308\n",
      "UniqueCarrier_TW     0.3749      0.036     10.343      0.000       0.304       0.446\n",
      "UniqueCarrier_UA     0.1901      0.010     19.987      0.000       0.172       0.209\n",
      "UniqueCarrier_US     0.2573      0.027      9.632      0.000       0.205       0.310\n",
      "Intercept           -1.1426      0.012    -94.960      0.000      -1.166      -1.119\n",
      "====================================================================================\n"
     ]
    }
   ],
   "source": [
    "print(result.summary())"
   ]
  },
  {
   "cell_type": "code",
   "execution_count": 65,
   "metadata": {
    "collapsed": true
   },
   "outputs": [],
   "source": [
    "assert_equal(isinstance(model, statsmodels.discrete.discrete_model.Logit), True)\n",
    "assert_equal(isinstance(result, statsmodels.discrete.discrete_model.BinaryResultsWrapper), True)\n",
    "\n",
    "assert_equal(model.exog_names, train_columns)\n",
    "assert_equal(model.endog_names, 'DepDelay_binary')\n",
    "\n",
    "assert_array_equal(model.exog, data[train_columns].values)\n",
    "assert_array_equal(model.endog, data['DepDelay_binary'].values)\n",
    "\n",
    "test_conf_int = result.conf_int()\n",
    "answer_conf_int = pd.DataFrame(\n",
    "    index=train_columns,\n",
    "    data={\n",
    "        0: np.array([\n",
    "            -0.18681953, -0.01247828,  0.18652782,  0.17760447, -0.00675086,\n",
    "            0.07974488, -0.6227236 , -0.06873794,  0.50352299,  0.78551841,\n",
    "            0.06694527,  0.21153022,  0.30383117,  0.17150234,  0.20497387,\n",
    "            -1.166157  ]),\n",
    "        1: np.array([\n",
    "            -0.12794527,  0.04524193,  0.24298324,  0.23413964,  0.05254801,\n",
    "            0.13724129, -0.09649653,  0.04848345,  0.59783265,  0.93824414,\n",
    "            0.11429806,  0.30780938,  0.44591082,  0.20879553,  0.30969833,\n",
    "            -1.11899193])\n",
    "        }\n",
    "    )\n",
    "assert_frame_equal(test_conf_int, answer_conf_int)"
   ]
  },
  {
   "cell_type": "code",
   "execution_count": 66,
   "metadata": {},
   "outputs": [
    {
     "name": "stdout",
     "output_type": "stream",
     "text": [
      "            DepDelay  DepDelay_binary\n",
      "DayOfWeek                            \n",
      "4          11.419251         0.311135\n",
      "5          11.306297         0.309324\n",
      "7          10.244282         0.288786\n",
      "3           9.962156         0.270426\n",
      "1           9.336543         0.267238\n",
      "6           9.015426         0.271879\n",
      "2           7.230843         0.237644\n"
     ]
    }
   ],
   "source": [
    "print(local.groupby('DayOfWeek').mean().sort_values(by='DepDelay', ascending=False))"
   ]
  },
  {
   "cell_type": "code",
   "execution_count": 67,
   "metadata": {},
   "outputs": [
    {
     "name": "stdout",
     "output_type": "stream",
     "text": [
      "               DayOfWeek   DepDelay  DepDelay_binary\n",
      "UniqueCarrier                                       \n",
      "HP              3.973684  18.245494         0.444845\n",
      "DL              3.972141  11.719453         0.370235\n",
      "UA              3.953615  11.027225         0.291036\n",
      "TW              3.881535  10.183537         0.330645\n",
      "NW              3.827438   9.445194         0.305562\n",
      "CO              3.788118   9.215042         0.251857\n",
      "US              3.922626   9.207263         0.305168\n",
      "MQ              3.937944   9.099671         0.270765\n",
      "AA              3.957042   8.298827         0.253498\n",
      "AS              3.991667   4.791667         0.191667\n"
     ]
    }
   ],
   "source": [
    "print(local.groupby('UniqueCarrier').mean().sort_values(by='DepDelay', ascending=False))"
   ]
  }
 ],
 "metadata": {
  "kernelspec": {
   "display_name": "Python 3",
   "language": "python",
   "name": "python3"
  },
  "language_info": {
   "codemirror_mode": {
    "name": "ipython",
    "version": 3
   },
   "file_extension": ".py",
   "mimetype": "text/x-python",
   "name": "python",
   "nbconvert_exporter": "python",
   "pygments_lexer": "ipython3",
   "version": "3.6.1"
  }
 },
 "nbformat": 4,
 "nbformat_minor": 2
}
