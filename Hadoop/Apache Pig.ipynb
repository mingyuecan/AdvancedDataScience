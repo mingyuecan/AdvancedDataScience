{
 "cells": [
  {
   "cell_type": "markdown",
   "metadata": {},
   "source": [
    "# Apache Pig"
   ]
  },
  {
   "cell_type": "code",
   "execution_count": 4,
   "metadata": {
    "collapsed": true
   },
   "outputs": [],
   "source": [
    "from nose.tools import assert_equal, assert_almost_equal"
   ]
  },
  {
   "cell_type": "markdown",
   "metadata": {},
   "source": [
    "## Raw Data Preview"
   ]
  },
  {
   "cell_type": "code",
   "execution_count": 5,
   "metadata": {},
   "outputs": [
    {
     "name": "stdout",
     "output_type": "stream",
     "text": [
      "\"User-ID\";\"ISBN\";\"Book-Rating\"\r",
      "\r\n",
      "\"276725\";\"034545104X\";\"0\"\r",
      "\r\n",
      "\"276726\";\"0155061224\";\"5\"\r",
      "\r\n",
      "\"276727\";\"0446520802\";\"0\"\r",
      "\r\n",
      "\"276729\";\"052165615X\";\"3\"\r",
      "\r\n"
     ]
    }
   ],
   "source": [
    "!head -5 $HOME/book-crossing/BX-Book-Ratings.csv"
   ]
  },
  {
   "cell_type": "code",
   "execution_count": 6,
   "metadata": {},
   "outputs": [
    {
     "name": "stdout",
     "output_type": "stream",
     "text": [
      "\"ISBN\";\"Book-Title\";\"Book-Author\";\"Year-Of-Publication\";\"Publisher\";\"Image-URL-S\";\"Image-URL-M\";\"Image-URL-L\"\r",
      "\r\n",
      "\"0195153448\";\"Classical Mythology\";\"Mark P. O. Morford\";\"2002\";\"Oxford University Press\";\"http://images.amazon.com/images/P/0195153448.01.THUMBZZZ.jpg\";\"http://images.amazon.com/images/P/0195153448.01.MZZZZZZZ.jpg\";\"http://images.amazon.com/images/P/0195153448.01.LZZZZZZZ.jpg\"\r",
      "\r\n",
      "\"0002005018\";\"Clara Callan\";\"Richard Bruce Wright\";\"2001\";\"HarperFlamingo Canada\";\"http://images.amazon.com/images/P/0002005018.01.THUMBZZZ.jpg\";\"http://images.amazon.com/images/P/0002005018.01.MZZZZZZZ.jpg\";\"http://images.amazon.com/images/P/0002005018.01.LZZZZZZZ.jpg\"\r",
      "\r\n",
      "\"0060973129\";\"Decision in Normandy\";\"Carlo D'Este\";\"1991\";\"HarperPerennial\";\"http://images.amazon.com/images/P/0060973129.01.THUMBZZZ.jpg\";\"http://images.amazon.com/images/P/0060973129.01.MZZZZZZZ.jpg\";\"http://images.amazon.com/images/P/0060973129.01.LZZZZZZZ.jpg\"\r",
      "\r\n",
      "\"0374157065\";\"Flu: The Story of the Great Influenza Pandemic of 1918 and the Search for the Virus That Caused It\";\"Gina Bari Kolata\";\"1999\";\"Farrar Straus Giroux\";\"http://images.amazon.com/images/P/0374157065.01.THUMBZZZ.jpg\";\"http://images.amazon.com/images/P/0374157065.01.MZZZZZZZ.jpg\";\"http://images.amazon.com/images/P/0374157065.01.LZZZZZZZ.jpg\"\r",
      "\r\n"
     ]
    }
   ],
   "source": [
    "!head -5 $HOME/book-crossing/BX-Books.csv"
   ]
  },
  {
   "cell_type": "markdown",
   "metadata": {},
   "source": [
    "## Data Preprocessing"
   ]
  },
  {
   "cell_type": "code",
   "execution_count": 7,
   "metadata": {},
   "outputs": [
    {
     "name": "stdout",
     "output_type": "stream",
     "text": [
      "\n",
      "***** Ratings File *****\n",
      "276725;034545104X;0\r\n",
      "276726;0155061224;5\r\n",
      "276727;0446520802;0\r\n",
      "276729;052165615X;3\r\n",
      "276729;0521795028;6\r\n",
      "276733;2080674722;0\r\n",
      "276736;3257224281;8\r\n",
      "276737;0600570967;6\r\n",
      "276744;038550120X;7\r\n",
      "276745;342310538;10\r\n",
      "\n",
      "***** Books File *****\n",
      "0195153448;Classical Mythology;Mark P. O. Morford;2002\n",
      "0002005018;Clara Callan;Richard Bruce Wright;2001\n",
      "0060973129;Decision in Normandy;Carlo D'Este;1991\n",
      "0374157065;Flu: The Story of the Great Influenza Pandemic of 1918 and the Search for the Virus That Caused It;Gina Bari Kolata;1999\n",
      "0393045218;The Mummies of Urumchi;E. J. W. Barber;1999\n",
      "0399135782;The Kitchen God's Wife;Amy Tan;1991\n",
      "0425176428;What If?: The World's Foremost Military Historians Imagine What Might Have Been;Robert Cowley;2000\n",
      "0671870432;PLEADING GUILTY;Scott Turow;1993\n",
      "0679425608;Under the Black Flag: The Romance and the Reality of Life Among the Pirates;David Cordingly;1996\n",
      "074322678X;Where You'll Find Me: And Other Stories;Ann Beattie;2002\n"
     ]
    },
    {
     "name": "stderr",
     "output_type": "stream",
     "text": [
      "sed: RE error: illegal byte sequence\n",
      "sed: RE error: illegal byte sequence\n"
     ]
    }
   ],
   "source": [
    "%%bash\n",
    "\n",
    "sed 's/\"//g' $HOME/book-crossing/BX-Book-Ratings.csv | sed '1d' > ratings.csv\n",
    "sed 's/\"//g' $HOME/book-crossing/BX-Books.csv | cut -d';' -f -4 | sed '1d' > books.csv\n",
    "\n",
    "echo\n",
    "echo '***** Ratings File *****'\n",
    "head ratings.csv\n",
    "\n",
    "echo\n",
    "echo '***** Books File *****'\n",
    "head books.csv"
   ]
  },
  {
   "cell_type": "markdown",
   "metadata": {},
   "source": [
    "## Pig Latin: Average"
   ]
  },
  {
   "cell_type": "code",
   "execution_count": 78,
   "metadata": {},
   "outputs": [
    {
     "name": "stdout",
     "output_type": "stream",
     "text": [
      "Overwriting average.pig\n"
     ]
    }
   ],
   "source": [
    "%%writefile average.pig\n",
    "\n",
    "ratings = LOAD 'ratings.csv' USING PigStorage(';') AS (UserID:int, ISBN:chararray, rating:int) ;\n",
    "books = LOAD 'books.csv' USING PigStorage(';') AS (ISBN:chararray, title:chararray, author:chararray, year:int); \n",
    "groups = GROUP ratings BY ISBN ;\n",
    "avg = FOREACH groups GENERATE group AS GISBN, AVG (ratings.rating) ;\n",
    "results = JOIN avg by GISBN, books by ISBN ;\n",
    "ordered_results = ORDER results BY title;\n",
    "Top_Results = LIMIT ordered_results 10 ;\n",
    "DUMP Top_Results;"
   ]
  },
  {
   "cell_type": "code",
   "execution_count": 79,
   "metadata": {},
   "outputs": [
    {
     "name": "stdout",
     "output_type": "stream",
     "text": [
      "(1558746218,0.0,1558746218,A Second Chicken Soup for the Woman's Soul (Chicken Soup for the Soul Series),Jack Canfield,1998)\n",
      "(0345402871,2.0,0345402871,Airframe,Michael Crichton,1997)\n",
      "(0452264464,4.3076923076923075,0452264464,Beloved (Plume Contemporary Fiction),Toni Morrison,1994)\n",
      "(0425163091,0.0,0425163091,Chocolate Jesus,Stephan Jaramillo,1998)\n",
      "(0002005018,4.333333333333333,0002005018,Clara Callan,Richard Bruce Wright,2001)\n",
      "(0195153448,0.0,0195153448,Classical Mythology,Mark P. O. Morford,2002)\n",
      "(0060973129,4.0,0060973129,Decision in Normandy,Carlo D'Este,1991)\n",
      "(0689821166,6.0,0689821166,Flood : Mississippi 1927,Kathleen Duey,1998)\n",
      "(0374157065,0.0,0374157065,Flu: The Story of the Great Influenza Pandemic of 1918 and the Search for the Virus That Caused It,Gina Bari Kolata,1999)\n",
      "(1881320189,7.0,1881320189,Goodbye to the Buttermilk Sky,Julia Oliver,1994)\n"
     ]
    }
   ],
   "source": [
    "average_ratings = !pig -x local -f average.pig 2> pig_stderr.log\n",
    "print('\\n'.join(average_ratings))"
   ]
  },
  {
   "cell_type": "markdown",
   "metadata": {},
   "source": [
    "## Cleanup"
   ]
  },
  {
   "cell_type": "code",
   "execution_count": 2,
   "metadata": {
    "collapsed": true
   },
   "outputs": [],
   "source": [
    "%%bash\n",
    "# Remove pig log files\n",
    "rm -f pig*.log\n",
    "\n",
    "# Remove our pig scripts\n",
    "rm -f *.pig\n",
    "\n",
    "# Remove csv files\n",
    "rm books.csv ratings.csv"
   ]
  }
 ],
 "metadata": {
  "kernelspec": {
   "display_name": "Python 3",
   "language": "python",
   "name": "python3"
  },
  "language_info": {
   "codemirror_mode": {
    "name": "ipython",
    "version": 3
   },
   "file_extension": ".py",
   "mimetype": "text/x-python",
   "name": "python",
   "nbconvert_exporter": "python",
   "pygments_lexer": "ipython3",
   "version": "3.6.1"
  }
 },
 "nbformat": 4,
 "nbformat_minor": 2
}
