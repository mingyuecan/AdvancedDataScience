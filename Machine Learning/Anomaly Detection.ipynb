{
 "cells": [
  {
   "cell_type": "markdown",
   "metadata": {},
   "source": [
    "## Anomaly Detection"
   ]
  },
  {
   "cell_type": "code",
   "execution_count": 1,
   "metadata": {
    "collapsed": true
   },
   "outputs": [],
   "source": [
    "% matplotlib inline\n",
    "\n",
    "import seaborn as sns\n",
    "import matplotlib as mpl\n",
    "import matplotlib.pyplot as plt\n",
    "import numpy as np\n",
    "import pandas as pd\n",
    "import matplotlib.pyplot as plt\n",
    "from scipy import stats\n",
    "\n",
    "from sklearn.preprocessing import StandardScaler\n",
    "from sklearn.decomposition import PCA\n",
    "from sklearn import preprocessing\n",
    "from sklearn import svm\n",
    "from sklearn.utils import check_random_state\n",
    "\n",
    "from nose.tools import assert_equal, assert_almost_equal, assert_is_instance, assert_is_not, assert_in\n",
    "from numpy.testing import assert_array_equal, assert_array_almost_equal\n",
    "from pandas.util.testing import assert_frame_equal\n",
    "\n",
    "import warnings\n",
    "warnings.filterwarnings(\"ignore\")"
   ]
  },
  {
   "cell_type": "markdown",
   "metadata": {},
   "source": [
    "### Vertebral Column Data set"
   ]
  },
  {
   "cell_type": "code",
   "execution_count": 2,
   "metadata": {},
   "outputs": [
    {
     "name": "stdout",
     "output_type": "stream",
     "text": [
      "   PelvicIncidence  PelvicTilt  LumbarLordosisAngle  SacralSlope  \\\n",
      "0            63.03       22.55                39.61        40.48   \n",
      "1            39.06       10.06                25.02        29.00   \n",
      "2            68.83       22.22                50.09        46.61   \n",
      "3            69.30       24.65                44.31        44.64   \n",
      "4            49.71        9.65                28.32        40.06   \n",
      "\n",
      "   PelvicRadius  SpondylolisthesisGrade PatientCondition  \n",
      "0         98.67                   -0.25               AB  \n",
      "1        114.41                    4.56               AB  \n",
      "2        105.99                   -3.53               AB  \n",
      "3        101.87                   11.21               AB  \n",
      "4        108.17                    7.92               AB  \n"
     ]
    }
   ],
   "source": [
    "vc_data = pd.read_csv('vert_column.csv', header=0, na_values='NA')\n",
    "print(vc_data.head())"
   ]
  },
  {
   "cell_type": "code",
   "execution_count": 3,
   "metadata": {},
   "outputs": [
    {
     "data": {
      "text/html": [
       "<div>\n",
       "<style>\n",
       "    .dataframe thead tr:only-child th {\n",
       "        text-align: right;\n",
       "    }\n",
       "\n",
       "    .dataframe thead th {\n",
       "        text-align: left;\n",
       "    }\n",
       "\n",
       "    .dataframe tbody tr th {\n",
       "        vertical-align: top;\n",
       "    }\n",
       "</style>\n",
       "<table border=\"1\" class=\"dataframe\">\n",
       "  <thead>\n",
       "    <tr style=\"text-align: right;\">\n",
       "      <th></th>\n",
       "      <th>PelvicIncidence</th>\n",
       "      <th>PelvicTilt</th>\n",
       "      <th>LumbarLordosisAngle</th>\n",
       "      <th>SacralSlope</th>\n",
       "      <th>PelvicRadius</th>\n",
       "      <th>SpondylolisthesisGrade</th>\n",
       "    </tr>\n",
       "  </thead>\n",
       "  <tbody>\n",
       "    <tr>\n",
       "      <th>count</th>\n",
       "      <td>310.000000</td>\n",
       "      <td>310.000000</td>\n",
       "      <td>310.000000</td>\n",
       "      <td>310.000000</td>\n",
       "      <td>310.000000</td>\n",
       "      <td>310.000000</td>\n",
       "    </tr>\n",
       "    <tr>\n",
       "      <th>mean</th>\n",
       "      <td>60.496484</td>\n",
       "      <td>17.542903</td>\n",
       "      <td>51.930710</td>\n",
       "      <td>42.953871</td>\n",
       "      <td>117.920548</td>\n",
       "      <td>26.296742</td>\n",
       "    </tr>\n",
       "    <tr>\n",
       "      <th>std</th>\n",
       "      <td>17.236109</td>\n",
       "      <td>10.008140</td>\n",
       "      <td>18.553766</td>\n",
       "      <td>13.422748</td>\n",
       "      <td>13.317629</td>\n",
       "      <td>37.558883</td>\n",
       "    </tr>\n",
       "    <tr>\n",
       "      <th>min</th>\n",
       "      <td>26.150000</td>\n",
       "      <td>-6.550000</td>\n",
       "      <td>14.000000</td>\n",
       "      <td>13.370000</td>\n",
       "      <td>70.080000</td>\n",
       "      <td>-11.060000</td>\n",
       "    </tr>\n",
       "    <tr>\n",
       "      <th>25%</th>\n",
       "      <td>46.432500</td>\n",
       "      <td>10.667500</td>\n",
       "      <td>37.000000</td>\n",
       "      <td>33.347500</td>\n",
       "      <td>110.710000</td>\n",
       "      <td>1.600000</td>\n",
       "    </tr>\n",
       "    <tr>\n",
       "      <th>50%</th>\n",
       "      <td>58.690000</td>\n",
       "      <td>16.360000</td>\n",
       "      <td>49.565000</td>\n",
       "      <td>42.405000</td>\n",
       "      <td>118.265000</td>\n",
       "      <td>11.765000</td>\n",
       "    </tr>\n",
       "    <tr>\n",
       "      <th>75%</th>\n",
       "      <td>72.880000</td>\n",
       "      <td>22.120000</td>\n",
       "      <td>63.000000</td>\n",
       "      <td>52.692500</td>\n",
       "      <td>125.467500</td>\n",
       "      <td>41.285000</td>\n",
       "    </tr>\n",
       "    <tr>\n",
       "      <th>max</th>\n",
       "      <td>129.830000</td>\n",
       "      <td>49.430000</td>\n",
       "      <td>125.740000</td>\n",
       "      <td>121.430000</td>\n",
       "      <td>163.070000</td>\n",
       "      <td>418.540000</td>\n",
       "    </tr>\n",
       "  </tbody>\n",
       "</table>\n",
       "</div>"
      ],
      "text/plain": [
       "       PelvicIncidence  PelvicTilt  LumbarLordosisAngle  SacralSlope  \\\n",
       "count       310.000000  310.000000           310.000000   310.000000   \n",
       "mean         60.496484   17.542903            51.930710    42.953871   \n",
       "std          17.236109   10.008140            18.553766    13.422748   \n",
       "min          26.150000   -6.550000            14.000000    13.370000   \n",
       "25%          46.432500   10.667500            37.000000    33.347500   \n",
       "50%          58.690000   16.360000            49.565000    42.405000   \n",
       "75%          72.880000   22.120000            63.000000    52.692500   \n",
       "max         129.830000   49.430000           125.740000   121.430000   \n",
       "\n",
       "       PelvicRadius  SpondylolisthesisGrade  \n",
       "count    310.000000              310.000000  \n",
       "mean     117.920548               26.296742  \n",
       "std       13.317629               37.558883  \n",
       "min       70.080000              -11.060000  \n",
       "25%      110.710000                1.600000  \n",
       "50%      118.265000               11.765000  \n",
       "75%      125.467500               41.285000  \n",
       "max      163.070000              418.540000  "
      ]
     },
     "execution_count": 3,
     "metadata": {},
     "output_type": "execute_result"
    }
   ],
   "source": [
    "vc_data.describe()"
   ]
  },
  {
   "cell_type": "markdown",
   "metadata": {},
   "source": [
    "### Standardization"
   ]
  },
  {
   "cell_type": "code",
   "execution_count": 6,
   "metadata": {
    "collapsed": true
   },
   "outputs": [],
   "source": [
    "def standardize(df):\n",
    "    '''\n",
    "    Uses sklearn.preprocessing.StandardScaler to make each features look like\n",
    "    a Gaussian with zero mean and unit variance.\n",
    "    \n",
    "    Parameters\n",
    "    ----------\n",
    "    df: A pandas.DataFrame\n",
    "    \n",
    "    Returns\n",
    "    -------\n",
    "    A numpy array.\n",
    "    '''\n",
    "    \n",
    "    scaler=StandardScaler().fit(df)\n",
    "    scaled=scaler.transform(df) \n",
    "    return scaled"
   ]
  },
  {
   "cell_type": "code",
   "execution_count": 7,
   "metadata": {
    "collapsed": true
   },
   "outputs": [],
   "source": [
    "scaled = standardize(vc_data[vc_data.columns[:6]])"
   ]
  },
  {
   "cell_type": "code",
   "execution_count": 8,
   "metadata": {
    "collapsed": true
   },
   "outputs": [],
   "source": [
    "rng = np.random.RandomState(0)\n",
    "n_samples, n_features = 4, 5\n",
    "\n",
    "df_t1 = pd.DataFrame(\n",
    "    rng.randn(n_samples, n_features),\n",
    "    index=[i for i in 'abcd'],\n",
    "    columns=[c for c  in 'abcde']\n",
    "    )\n",
    "df_t1.loc[:, 'a'] = 0.0  # make first feature zero\n",
    "\n",
    "scaled_t1 = standardize(df_t1)\n",
    "\n",
    "assert_is_not(df_t1, scaled_t1)\n",
    "assert_is_instance(scaled_t1, np.ndarray)\n",
    "assert_array_almost_equal(\n",
    "    scaled_t1.mean(axis=0),\n",
    "    n_features * [0.0] # scaled data should have mean zero\n",
    "    ) \n",
    "assert_array_almost_equal(\n",
    "    scaled_t1.std(axis=0),\n",
    "    [0., 1., 1., 1., 1.] # unit variance except for 1st feature\n",
    "    )"
   ]
  },
  {
   "cell_type": "markdown",
   "metadata": {},
   "source": [
    "### Principal Components Analysis"
   ]
  },
  {
   "cell_type": "code",
   "execution_count": 9,
   "metadata": {
    "collapsed": true
   },
   "outputs": [],
   "source": [
    "def fit_pca(df, n_components):\n",
    "    '''\n",
    "    Uses sklearn.decomposition.PCA to fit a PCA model on \"df\" via fit using fit_transform()\n",
    "    \n",
    "    Parameters\n",
    "    ----------\n",
    "    df: A pandas.DataFrame. Comes from delta.csv.\n",
    "    n_components: An int. Number of principal components to keep.\n",
    "    \n",
    "    Returns\n",
    "    -------\n",
    "    a tuple of an sklearn.decomposition.pca.PCA instance and a numpy array containing the reduced data set\n",
    "    '''\n",
    "    \n",
    "    pca = PCA(n_components=n_components)\n",
    "    reduced = pca.fit_transform(df)\n",
    "    return pca, reduced"
   ]
  },
  {
   "cell_type": "code",
   "execution_count": 10,
   "metadata": {
    "collapsed": true
   },
   "outputs": [],
   "source": [
    "n_components = 4\n",
    "pca, reduced = fit_pca(scaled, n_components=n_components)"
   ]
  },
  {
   "cell_type": "code",
   "execution_count": 11,
   "metadata": {
    "collapsed": true
   },
   "outputs": [],
   "source": [
    "assert_almost_equal(pca.explained_variance_ratio_.sum(), 0.945664604953, 3)\n",
    "assert_is_instance(reduced, np.ndarray)\n",
    "\n",
    "\n",
    "t_pca, t_reduced = fit_pca(scaled_t1, 5)\n",
    "assert_almost_equal(t_pca.explained_variance_ratio_.sum(), 1.0, 3)"
   ]
  },
  {
   "cell_type": "markdown",
   "metadata": {},
   "source": [
    "### Calculating gamma and nu for oneClass SVM"
   ]
  },
  {
   "cell_type": "code",
   "execution_count": 12,
   "metadata": {
    "collapsed": true
   },
   "outputs": [],
   "source": [
    "def get_gamma_nu(df, frac_of_outliers):\n",
    "    '''\n",
    "    Calculates the gamma and nu values to be used for the model. \n",
    "    Uses the inverse of the number of cases for calculating gamma.\n",
    "    Uses the scikit learn recommended formula for calculating nu.\n",
    "    \n",
    "    Parameters\n",
    "    ----------\n",
    "    df: A pandas.DataFrame containing pca data.\n",
    "    frac_of_outliers: A float. Expected Outlier Fraction.\n",
    "    \n",
    "    Returns\n",
    "    -------\n",
    "    A tuple of gamma and nu values\n",
    "    '''\n",
    "    \n",
    "    gamma=1/len(df)\n",
    "    nu=0.95 * frac_of_outliers + 0.05\n",
    "    return gamma, nu"
   ]
  },
  {
   "cell_type": "code",
   "execution_count": 13,
   "metadata": {
    "collapsed": true
   },
   "outputs": [],
   "source": [
    "rng = np.random.RandomState(0)\n",
    "n_samples, n_features = 4, 5\n",
    "\n",
    "df_t1 = pd.DataFrame(\n",
    "    rng.randn(n_samples, n_features),\n",
    "    index=[i for i in 'abcd'],\n",
    "    columns=[c for c  in 'abcde']\n",
    "    )\n",
    "df_t1.loc[:, 'a'] = 0.0  # make first feature zero\n",
    "\n",
    "\n",
    "test1, test2 = get_gamma_nu(scaled,0.1)\n",
    "assert_almost_equal(test1, 0.0032258064516129032, 5)\n",
    "assert_almost_equal(test2, 0.14500000000000002, 3)\n",
    "\n",
    "scaled_t1 = standardize(df_t1)\n",
    "pca_t1,t_reduced = fit_pca(scaled_t1,5)\n",
    "test3, test4 = get_gamma_nu(t_reduced, 0.2)\n",
    "assert_almost_equal(test3, 0.25, 2)\n",
    "assert_almost_equal(test4, 0.24, 2)\n"
   ]
  },
  {
   "cell_type": "markdown",
   "metadata": {},
   "source": [
    "### OneClassSVM fitting and estimates"
   ]
  },
  {
   "cell_type": "code",
   "execution_count": 14,
   "metadata": {
    "collapsed": true
   },
   "outputs": [],
   "source": [
    "def get_svc(df, kernel, frac_of_outliers, random_state):\n",
    "    '''\n",
    "    Takes in df, kernel and random state parameters, calculates nu & gamma using get_gamma_nu()\n",
    "    and returns a One Class SVM classifier\n",
    "    \n",
    "    Parameters\n",
    "    ----------\n",
    "    df: A pandas.DataFrame. Standardized version of data.\n",
    "    kernel: A string that specifies kernel to be used in SVM\n",
    "    random_state: A numpy.random.RandomState instance\n",
    "    \n",
    "    Returns\n",
    "    -------\n",
    "    An sklearn.svm.OneClassSVM\n",
    "    '''\n",
    "    \n",
    "    gamma, nu=get_gamma_nu(df, frac_of_outliers)\n",
    "    svc = svm.OneClassSVM(nu=nu, kernel=kernel, gamma=gamma,random_state=random_state )\n",
    "    return svc"
   ]
  },
  {
   "cell_type": "code",
   "execution_count": 15,
   "metadata": {
    "collapsed": true
   },
   "outputs": [],
   "source": [
    "t_ocSVM1 = get_svc(scaled_t1, 'rbf',0.1, check_random_state(0))\n",
    "assert_is_instance(t_ocSVM1, svm.OneClassSVM)\n",
    "assert_equal(t_ocSVM1.kernel, 'rbf')\n",
    "assert_almost_equal(t_ocSVM1.gamma,0.25)\n",
    "\n",
    "t_ocSVM2 = get_svc(scaled_t1, 'linear',0.1, check_random_state(0))\n",
    "assert_is_instance(t_ocSVM2, svm.OneClassSVM)\n",
    "assert_equal(t_ocSVM2.kernel, 'linear')\n",
    "assert_almost_equal(t_ocSVM1.gamma,0.25)"
   ]
  },
  {
   "cell_type": "markdown",
   "metadata": {},
   "source": [
    "### Fit and Predict"
   ]
  },
  {
   "cell_type": "code",
   "execution_count": 16,
   "metadata": {
    "collapsed": true
   },
   "outputs": [],
   "source": [
    "def fit_and_pred(svc, df):\n",
    "    '''\n",
    "    Fits the \"svc\" model on the standardized dataframe \"df\"\n",
    "    Makes predictions on \"df\".\n",
    "    \n",
    "    Parameters\n",
    "    ----------\n",
    "    ocSVM: A sklearn classifier instance.\n",
    "    df: A pandas.DataFrame. Standardized version of data.\n",
    "    \n",
    "    Returns\n",
    "    -------\n",
    "    A numpy array\n",
    "    '''\n",
    "    \n",
    "    svc.fit(df)\n",
    "    preds = svc.predict(df)\n",
    "    return preds"
   ]
  },
  {
   "cell_type": "code",
   "execution_count": 17,
   "metadata": {
    "collapsed": true
   },
   "outputs": [],
   "source": [
    "t_svc = get_svc(scaled_t1, 'rbf',0.1, check_random_state(0))\n",
    "test_pred = fit_and_pred(t_svc, scaled_t1)\n",
    "assert_array_equal(test_pred, np.array([ 1.,  1., -1., -1.]))\n",
    "\n",
    "t_data = pd.DataFrame({\n",
    "    'X0': np.arange(100), \n",
    "    'X1': np.arange(-25, 75),\n",
    "    })\n",
    "scaled_t2 =standardize(t_data) \n",
    "pca_t2 = fit_pca(scaled_t2, 2)\n",
    "t2_svc = get_svc(scaled_t2, 'rbf',0.1, check_random_state(0))\n",
    "test2_pred = fit_and_pred(t2_svc, scaled_t2)\n",
    "assert_array_equal(test2_pred, np.array(\n",
    "[-1., -1., -1., -1., -1., -1., -1., -1.,  1.,  1.,  1.,  1.,  1.,  1.,  1.,  1.,  1.,  1.,\n",
    "  1.,  1.,  1.,  1.,  1.,  1.,  1.,  1.,  1.,  1.,  1.,  1.,  1.,  1.,  1.,  1.,  1.,  1.,\n",
    "  1.,  1.,  1.,  1.,  1.,  1.,  1.,  1.,  1.,  1.,  1.,  1.,  1.,  1.,  1.,  1.,  1.,  1.,\n",
    "  1.,  1.,  1.,  1.,  1.,  1.,  1.,  1.,  1.,  1.,  1.,  1.,  1.,  1.,  1.,  1.,  1.,  1.,\n",
    "  1.,  1.,  1.,  1.,  1.,  1.,  1.,  1.,  1.,  1.,  1.,  1.,  1.,  1.,  1.,  1.,  1.,  1.,\n",
    "  1.,  1., -1., -1., -1., -1., -1., -1., -1., -1.]))"
   ]
  },
  {
   "cell_type": "code",
   "execution_count": 18,
   "metadata": {
    "collapsed": true
   },
   "outputs": [],
   "source": [
    "svc = get_svc(reduced,'rbf',0.1, check_random_state(0))\n",
    "preds = fit_and_pred(svc, scaled)"
   ]
  },
  {
   "cell_type": "code",
   "execution_count": 24,
   "metadata": {},
   "outputs": [
    {
     "data": {
      "text/plain": [
       "(array([  9,  11,  17,  24,  26,  35,  37,  40,  51,  75,  76,  85,  94,\n",
       "         95,  96, 112, 114, 115, 122, 141, 142, 145, 155, 162, 163, 167,\n",
       "        168, 173, 179, 180, 192, 197, 201, 202, 206, 208, 215, 224, 250,\n",
       "        252, 257, 263, 278, 287, 303]),)"
      ]
     },
     "execution_count": 24,
     "metadata": {},
     "output_type": "execute_result"
    }
   ],
   "source": [
    "np.where(preds<0)"
   ]
  },
  {
   "cell_type": "markdown",
   "metadata": {},
   "source": [
    "### Identifying inliers and outliers"
   ]
  },
  {
   "cell_type": "code",
   "execution_count": 25,
   "metadata": {
    "collapsed": true
   },
   "outputs": [],
   "source": [
    "def get_pred_classes(preds):\n",
    "    '''\n",
    "    Retrieves prediction classes (outliers and inliers) from the data from the predictions\n",
    "    made by the model.\n",
    "    \n",
    "    Parameters\n",
    "    ----------\n",
    "    preds: A numpy array, containing predictions.\n",
    "    \n",
    "    Returns\n",
    "    -------\n",
    "    A tuple of outliers and inliers that contain indices from the data set\n",
    "    '''\n",
    "    \n",
    "    outliers=np.where(preds<0)\n",
    "    inliers=np.where(preds>0)\n",
    "    return outliers, inliers"
   ]
  },
  {
   "cell_type": "code",
   "execution_count": 26,
   "metadata": {
    "collapsed": true
   },
   "outputs": [],
   "source": [
    "t_outliers, t_inliers = get_pred_classes(test_pred)\n",
    "assert_array_equal(t_outliers, [[2,3]])\n",
    "assert_array_equal(t_inliers, [[0, 1]])\n",
    "\n",
    "t2_outliers, t2_inliers = get_pred_classes(test2_pred)\n",
    "assert_array_equal(t2_outliers, [[ 0,  1,  2,  3,  4,  5,  6,  7, 92, 93, 94, 95, 96, 97, 98, 99]])\n",
    "assert_array_equal(t2_inliers, [[ 8,  9, 10, 11, 12, 13, 14, 15, 16, 17, 18, 19, 20, 21, 22, 23, 24,\n",
    "       25, 26, 27, 28, 29, 30, 31, 32, 33, 34, 35, 36, 37, 38, 39, 40, 41,\n",
    "       42, 43, 44, 45, 46, 47, 48, 49, 50, 51, 52, 53, 54, 55, 56, 57, 58,\n",
    "       59, 60, 61, 62, 63, 64, 65, 66, 67, 68, 69, 70, 71, 72, 73, 74, 75,\n",
    "       76, 77, 78, 79, 80, 81, 82, 83, 84, 85, 86, 87, 88, 89, 90, 91]])"
   ]
  },
  {
   "cell_type": "code",
   "execution_count": 27,
   "metadata": {
    "collapsed": true
   },
   "outputs": [],
   "source": [
    "outliers, inliers = get_pred_classes(preds)"
   ]
  },
  {
   "cell_type": "markdown",
   "metadata": {},
   "source": [
    "### Visualizing data along the first two principal components"
   ]
  },
  {
   "cell_type": "code",
   "execution_count": 28,
   "metadata": {},
   "outputs": [
    {
     "name": "stdout",
     "output_type": "stream",
     "text": [
      "Explained Variance per PCA component\n",
      " -----------------------------------\n",
      "PCA component  0: 54.1%\n",
      "PCA component  1: 19.9%\n",
      "PCA component  2: 12.7%\n",
      "PCA component  3:  7.9%\n",
      "----------------------------------- \n",
      "Total Explained Variance (All PCA components: 94.6%\n",
      "\n",
      "Variance explained (First two PCA components): 74.0%\n",
      "\n",
      "Variance explained (Last two PCA components): 20.6%\n",
      "\n"
     ]
    }
   ],
   "source": [
    "print(\"Explained Variance per PCA component\\n\", 35*'-')\n",
    "for idx, val in enumerate(pca.explained_variance_ratio_):\n",
    "    print('PCA component {0:2d}: {1:4.1f}%'.format(idx, val*100))\n",
    "    \n",
    "print(35*'-', '\\nTotal Explained Variance (All PCA components: {0:4.1f}%\\n'.format(\n",
    " sum(pca.explained_variance_ratio_[:]*100)))\n",
    "\n",
    "print('Variance explained (First two PCA components): {0:4.1f}%\\n'.format(\n",
    "    sum(pca.explained_variance_ratio_[:2]*100)))\n",
    "\n",
    "print('Variance explained (Last two PCA components): {0:4.1f}%\\n'.format(\n",
    "    sum(pca.explained_variance_ratio_[-2:]*100)))"
   ]
  },
  {
   "cell_type": "code",
   "execution_count": 81,
   "metadata": {
    "collapsed": true
   },
   "outputs": [],
   "source": [
    "def draw_scatter_plot(inliers, outliers, reduced):\n",
    "    '''\n",
    "    Uses matplotlib.plt to plot a scatter plot with PCA1 on x-axis and PCA2 on the y-axis\n",
    "    First plot the inliers on the scatter plot and then plot the outliers on the same graph.\n",
    "    \n",
    "    Parameters\n",
    "    ----------\n",
    "    inliers: array containing indices of the data points identified as inliers\n",
    "    outliers: array containing indices of the data points identified as outliers\n",
    "    reduced: dataFrame containing the principal components of our data (returned by pca_fit() )\n",
    "    \n",
    "    Returns\n",
    "    -------\n",
    "    A maplotlib.Axes instance\n",
    "    '''\n",
    "    \n",
    "    fig, ax = plt.subplots(figsize=(12, 8))\n",
    "    ax.scatter(reduced[inliers][:,0],reduced[inliers][:,1],color='b', marker='d', \\\n",
    "               alpha=0.5, label='inliers')\n",
    "    ax.scatter(reduced[outliers][:,0],reduced[outliers][:,1],color='r', marker='o', \\\n",
    "               alpha=0.5, label='outliers')\n",
    "    ax.legend(loc=1)\n",
    "    ax.set_xlim(-4.5,5.5)\n",
    "    ax.set_ylim(-4.5,4.5)\n",
    "    ax.set_title('Variance explained (First two PCA components): 74.0%')\n",
    "    ax.set_xlabel('PCA component 1 (54.1%)')\n",
    "    ax.set_ylabel('PCA component 2 (19.9%)')\n",
    "    return ax"
   ]
  },
  {
   "cell_type": "code",
   "execution_count": 82,
   "metadata": {},
   "outputs": [
    {
     "data": {
      "image/png": "[encoded data removed]",
      "text/plain": [
       "<matplotlib.figure.Figure at 0x120178be0>"
      ]
     },
     "metadata": {},
     "output_type": "display_data"
    }
   ],
   "source": [
    "ax = draw_scatter_plot(inliers, outliers, reduced)"
   ]
  },
  {
   "cell_type": "code",
   "execution_count": 97,
   "metadata": {
    "collapsed": true
   },
   "outputs": [],
   "source": [
    "assert_is_instance(ax, mpl.axes.Axes, msg=\"Your function should return a matplotlib.axes.Axes object.\")\n",
    "assert_is_not(len(ax.title.get_text()), 0, msg=\"Your plot doesn't have a title.\")\n",
    "assert_is_not(ax.xaxis.get_label_text(), '', msg=\"Change the x-axis label to something more descriptive.\")\n",
    "assert_is_not(ax.yaxis.get_label_text(), '', msg=\"Change the y-axis label to something more descriptive.\")\n"
   ]
  }
 ],
 "metadata": {
  "kernelspec": {
   "display_name": "Python 3",
   "language": "python",
   "name": "python3"
  },
  "language_info": {
   "codemirror_mode": {
    "name": "ipython",
    "version": 3
   },
   "file_extension": ".py",
   "mimetype": "text/x-python",
   "name": "python",
   "nbconvert_exporter": "python",
   "pygments_lexer": "ipython3",
   "version": "3.6.1"
  }
 },
 "nbformat": 4,
 "nbformat_minor": 2
}
