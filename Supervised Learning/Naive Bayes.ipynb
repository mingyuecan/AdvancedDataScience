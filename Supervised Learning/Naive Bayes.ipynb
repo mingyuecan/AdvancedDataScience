{
 "cells": [
  {
   "cell_type": "markdown",
   "metadata": {},
   "source": [
    "## Naive Bayes"
   ]
  },
  {
   "cell_type": "code",
   "execution_count": 41,
   "metadata": {
    "collapsed": true
   },
   "outputs": [],
   "source": [
    "import numpy as np\n",
    "from numpy.testing import assert_array_equal, assert_array_almost_equal"
   ]
  },
  {
   "cell_type": "markdown",
   "metadata": {},
   "source": [
    "### Separate Data by Class"
   ]
  },
  {
   "cell_type": "code",
   "execution_count": 136,
   "metadata": {
    "collapsed": true
   },
   "outputs": [],
   "source": [
    "def separate_by_class(X, y):\n",
    "    '''\n",
    "    Separate the training set (\"X\") by class value (\"y\")\n",
    "    so that we can calculate statistics for each class.\n",
    "    \n",
    "    Parameters\n",
    "    ----------\n",
    "    X: A 2d numpy array\n",
    "    y: A 1d numpy array\n",
    "    Returns\n",
    "    -------\n",
    "    A dictionary of 2d numpy arrays\n",
    "    '''\n",
    "    \n",
    "    d=np.column_stack((X, y))\n",
    "    separated = {}\n",
    "    for i in range(len(d)):\n",
    "        vector = d[i]\n",
    "        if (vector[-1] not in separated):\n",
    "            separated[vector[-1]] = []\n",
    "        separated[vector[-1]].append(vector[:-1])\n",
    "    for j in range(len(separated)):\n",
    "        separated[j]=np.vstack(separated[j])\n",
    "    return separated"
   ]
  },
  {
   "cell_type": "code",
   "execution_count": 137,
   "metadata": {
    "collapsed": true
   },
   "outputs": [],
   "source": [
    "X_t = np.array( [[2, 21], [1, 20], [3, 22]] )\n",
    "y_t = np.array( [1, 0, 1] )\n",
    "separated_t = separate_by_class(X_t, y_t)\n",
    "assert_array_equal(separated_t[0], np.array( [ [1, 20] ] ))\n",
    "assert_array_equal(separated_t[1], np.array( [ [2, 21], [3, 22] ] ))"
   ]
  },
  {
   "cell_type": "markdown",
   "metadata": {},
   "source": [
    "### Calculate Mean"
   ]
  },
  {
   "cell_type": "code",
   "execution_count": 140,
   "metadata": {
    "collapsed": true
   },
   "outputs": [],
   "source": [
    "def calculate_mean(array):\n",
    "    '''\n",
    "    Calculates the mean of each column, i.e. each attribute.\n",
    "    \n",
    "    Parameters\n",
    "    ----------\n",
    "    A 1d or 2d numpy array\n",
    "    \n",
    "    Returns\n",
    "    -------\n",
    "    A 1d or 2d numpy array\n",
    "    '''\n",
    "    \n",
    "    mean=np.mean(array,axis=0)\n",
    "    return mean"
   ]
  },
  {
   "cell_type": "code",
   "execution_count": 141,
   "metadata": {
    "collapsed": true
   },
   "outputs": [],
   "source": [
    "array_t = np.array( [ [1, 4, 7], [2, 5, 6], [3, 6, 8] ] )\n",
    "mean_t = calculate_mean(array_t)\n",
    "assert_array_equal(mean_t, np.array( [2., 5., 7.] ))"
   ]
  },
  {
   "cell_type": "markdown",
   "metadata": {},
   "source": [
    "### Calculate Standard Deviation"
   ]
  },
  {
   "cell_type": "code",
   "execution_count": 142,
   "metadata": {
    "collapsed": true
   },
   "outputs": [],
   "source": [
    "def calculate_stdev(array):\n",
    "    '''\n",
    "    Calculates the standard deviation (N-1 method) of each column, i.e. each attribute.\n",
    "\n",
    "    Parameters\n",
    "    ----------\n",
    "    A 1d or 2d numpy array\n",
    "    \n",
    "    Returns\n",
    "    -------\n",
    "    A 1d or 2d numpy array\n",
    "    '''\n",
    "    \n",
    "    stdev=np.std(array,axis=0,ddof=1)\n",
    "    return stdev"
   ]
  },
  {
   "cell_type": "code",
   "execution_count": 143,
   "metadata": {
    "collapsed": true
   },
   "outputs": [],
   "source": [
    "array_t = np.array( [ [1, 20, 14], [2, 21, 15], [3, 22, 16] ] )\n",
    "stdev_t = calculate_stdev(array_t)\n",
    "assert_array_equal(stdev_t, np.array( [1., 1., 1.] ))"
   ]
  },
  {
   "cell_type": "code",
   "execution_count": 144,
   "metadata": {
    "collapsed": true
   },
   "outputs": [],
   "source": [
    "X_t = np.array( [ [1, 20], [2, 21], [3, 22] ] )"
   ]
  },
  {
   "cell_type": "markdown",
   "metadata": {},
   "source": [
    "### Summarize Data Set"
   ]
  },
  {
   "cell_type": "code",
   "execution_count": 176,
   "metadata": {
    "collapsed": true
   },
   "outputs": [],
   "source": [
    "def summarize(X):\n",
    "    '''\n",
    "    For a given list of instances (for a class value),\n",
    "    calculates the mean and the standard deviation for each attribute.\n",
    "    \n",
    "    Parameters\n",
    "    ----------\n",
    "    A 2d numpy array\n",
    "    \n",
    "    Returns\n",
    "    -------\n",
    "    A 2d numpy array\n",
    "    '''\n",
    "    \n",
    "    a=calculate_mean(X)\n",
    "    b=calculate_stdev(X)\n",
    "    summary=np.stack((a, b), axis=1)\n",
    "    return summary"
   ]
  },
  {
   "cell_type": "code",
   "execution_count": 177,
   "metadata": {
    "collapsed": true
   },
   "outputs": [],
   "source": [
    "X_t = np.array( [ [1, 20], [2, 21], [3, 22] ] )\n",
    "summary_t = summarize(X_t)\n",
    "assert_array_equal(summary_t, np.array( [ (2.0, 1.0), (21.0, 1.0) ] ))"
   ]
  },
  {
   "cell_type": "code",
   "execution_count": 178,
   "metadata": {
    "collapsed": true
   },
   "outputs": [],
   "source": [
    "X_t = np.array( [ [1, 20], [2, 21], [3, 22], [4, 22] ] )\n",
    "y_t = np.array( [1, 0, 1, 0] )"
   ]
  },
  {
   "cell_type": "code",
   "execution_count": 180,
   "metadata": {
    "collapsed": true
   },
   "outputs": [],
   "source": [
    "new=separate_by_class(X_t,y_t)"
   ]
  },
  {
   "cell_type": "code",
   "execution_count": 182,
   "metadata": {},
   "outputs": [
    {
     "data": {
      "text/plain": [
       "array([[  3.        ,   1.41421356],\n",
       "       [ 21.5       ,   0.70710678]])"
      ]
     },
     "execution_count": 182,
     "metadata": {},
     "output_type": "execute_result"
    }
   ],
   "source": [
    "summarize(new[0])"
   ]
  },
  {
   "cell_type": "markdown",
   "metadata": {},
   "source": [
    "### Summarize Attributes By Class"
   ]
  },
  {
   "cell_type": "code",
   "execution_count": 190,
   "metadata": {
    "collapsed": true
   },
   "outputs": [],
   "source": [
    "def summarize_by_class(X, y):\n",
    "    '''\n",
    "    Separates a training set into instances grouped by class.\n",
    "    It then calculates the summaries for each attribute.\n",
    "    \n",
    "    Parameters\n",
    "    ----------\n",
    "    X: A 2d numpy array. Represents training attributes.\n",
    "    y: A 1d numpy array. Represents class labels.\n",
    "    Returns\n",
    "    -------\n",
    "    A dictionary of 2d numpy arrays. Uses each class label as keys\n",
    "    and summary for each class label as values.\n",
    "    '''\n",
    "    \n",
    "    new=separate_by_class(X,y)\n",
    "    result={}\n",
    "    for i in range((len(new))):\n",
    "        result[i]=summarize(new[i])\n",
    "    return result"
   ]
  },
  {
   "cell_type": "code",
   "execution_count": 191,
   "metadata": {
    "collapsed": true
   },
   "outputs": [],
   "source": [
    "X_t = np.array( [ [1, 20], [2, 21], [3, 22], [4, 22] ] )\n",
    "y_t = np.array( [1, 0, 1, 0] )\n",
    "summaries_t = summarize_by_class(X_t, y_t)\n",
    "assert_array_almost_equal(summaries_t[0], np.array( [ (3., 1.41421356), (21.5, 0.70710678) ] ))\n",
    "assert_array_almost_equal(summaries_t[1], np.array( [ (2., 1.41421356), (21.0, 1.41421356) ] ))"
   ]
  },
  {
   "cell_type": "markdown",
   "metadata": {},
   "source": [
    "### Calculate Log of Gaussian Probability Density Function"
   ]
  },
  {
   "cell_type": "code",
   "execution_count": 272,
   "metadata": {
    "collapsed": true
   },
   "outputs": [],
   "source": [
    "def calculate_log_probability(x, mean, stdev):\n",
    "    '''\n",
    "    Calculates log of Gaussian function to estimate\n",
    "    the log probability of a given attribute value.\n",
    "    Assume x, mean, stdev have the same length.\n",
    "    \n",
    "    Parameters\n",
    "    ----------\n",
    "    x: A float or 1d numpy array\n",
    "    mean: A float or 1d numpy array\n",
    "    stdev: A float or 1d numpy array\n",
    "    \n",
    "    Returns\n",
    "    -------\n",
    "    A float or 1d numpy array\n",
    "    '''\n",
    "    \n",
    "    exponent = np.exp(-(np.power(x-mean,2)/(2*np.power(stdev,2))))\n",
    "    log_probability=np.log((1 / (np.sqrt(2*np.pi) * stdev)) * exponent)\n",
    "    return log_probability"
   ]
  },
  {
   "cell_type": "code",
   "execution_count": 288,
   "metadata": {
    "collapsed": true
   },
   "outputs": [],
   "source": [
    "array_t = calculate_log_probability(np.array( [71.5] ), np.array( [73] ), np.array( [6.2] ))\n",
    "assert_array_almost_equal(array_t, np.array( [ -2.7727542144336588 ] ))\n",
    "\n",
    "array_t2 = calculate_log_probability(np.array( [1, 2] ), np.array( [3, 4] ), np.array( [5, 6] ))\n",
    "assert_array_almost_equal(array_t2, np.array( [-2.60837645, -2.76625356] ))"
   ]
  },
  {
   "cell_type": "markdown",
   "metadata": {},
   "source": [
    "### Calculate Class Probabilities"
   ]
  },
  {
   "cell_type": "code",
   "execution_count": 326,
   "metadata": {
    "collapsed": true
   },
   "outputs": [],
   "source": [
    "def calculate_class_log_probabilities(summaries, input_array):\n",
    "    '''\n",
    "    Combines the probabilities of all of the attribute values for a data instance\n",
    "    and comes up with a probability of the entire data instance belonging to the class.\n",
    "\n",
    "    Parameters\n",
    "    ----------\n",
    "    summaries: A dictionary of 2d numpy arrays\n",
    "    input_array: A numpy array of instances; each instance is a numpy array of attributes\n",
    "    \n",
    "    Returns\n",
    "    -------\n",
    "    A dictionary of 1d numpy arrays of summed log probabilities\n",
    "    '''\n",
    "    \n",
    "    probabilities = {}\n",
    "    for classValue, classSummaries in summaries.items():\n",
    "        probabilities[classValue] = []\n",
    "        for i in range(len(classSummaries)):\n",
    "            mean, stdev = classSummaries[i]\n",
    "            for j in range(len(input_array)):\n",
    "                x = input_array[j]\n",
    "                y=calculate_log_probability(x, mean, stdev)\n",
    "                probabilities[classValue].append(y)\n",
    "    for k in range(len(probabilities)):\n",
    "        probabilities[k]=np.vstack(probabilities[k]).flatten()\n",
    "    return probabilities"
   ]
  },
  {
   "cell_type": "code",
   "execution_count": 327,
   "metadata": {
    "collapsed": true
   },
   "outputs": [],
   "source": [
    "summaries_t = {0: np.array( [ (1, 0.5) ]), 1: np.array( [ (20, 5.0) ] )}\n",
    "input_t = np.array( [[1.1]] )\n",
    "log_probabilities = calculate_class_log_probabilities(summaries_t, input_t)\n",
    "assert_array_almost_equal(log_probabilities[0], np.array( [-0.24579135264472743] ))\n",
    "assert_array_almost_equal(log_probabilities[1], np.array( [-9.6725764456387715] ))\n",
    "\n",
    "input_t2 = np.array( [[4], [.9], [0]] )\n",
    "log_probabilities2 = calculate_class_log_probabilities(summaries_t, input_t2)\n",
    "assert_array_almost_equal(log_probabilities2[0], np.array( [-18.225791352644727, -0.24579135264472729, -2.2257913526447273] ))\n",
    "assert_array_almost_equal(log_probabilities2[1], np.array( [-7.6483764456387728, -9.8245764456387743, -10.528376445638774] ))"
   ]
  },
  {
   "cell_type": "markdown",
   "metadata": {},
   "source": [
    "### Make Predictions"
   ]
  },
  {
   "cell_type": "code",
   "execution_count": 469,
   "metadata": {
    "collapsed": true
   },
   "outputs": [],
   "source": [
    "def predict(summaries, input_array):\n",
    "    '''\n",
    "    Calculates the probability of each data instance belonging to each class value,\n",
    "    looks for the largest probability, and return the associated class.\n",
    "    \n",
    "    Parameters\n",
    "    ----------\n",
    "    summaries: A dictionary of numpy arrays\n",
    "    input_array: A numpy array of instances; each instance is a numpy array of attributes\n",
    "    \n",
    "    Returns\n",
    "    -------\n",
    "    A 1d numpy array\n",
    "    '''\n",
    "    \n",
    "    prob = calculate_class_log_probabilities(summaries, input_array)\n",
    "    new=pd.DataFrame(prob)\n",
    "    return np.array(new.idxmax(axis=1))"
   ]
  },
  {
   "cell_type": "code",
   "execution_count": 472,
   "metadata": {
    "collapsed": true
   },
   "outputs": [],
   "source": [
    "summaries_t = {0: np.array( [ (1, 0.5) ] ), 1: np.array( [ (20, 5.0) ] )}\n",
    "input_t1 = np.array( [[1.1]] )\n",
    "result_t1 = predict(summaries_t, input_t1)\n",
    "assert_array_equal(result_t1, np.array( [0.] ))\n",
    "\n",
    "test_set_t2 = np.array( [[1.1], [19.1]] )\n",
    "result_t2 = predict(summaries_t, test_set_t2)\n",
    "assert_array_equal(result_t2, np.array( [0., 1.] ))\n",
    "\n",
    "test_set_t3 = np.array( [[4], [.9], [0]] )\n",
    "result_t3 = predict(summaries_t, test_set_t3)\n",
    "assert_array_equal(result_t3, np.array( [1., 0., 0.] ))"
   ]
  }
 ],
 "metadata": {
  "kernelspec": {
   "display_name": "Python 3",
   "language": "python",
   "name": "python3"
  },
  "language_info": {
   "codemirror_mode": {
    "name": "ipython",
    "version": 3
   },
   "file_extension": ".py",
   "mimetype": "text/x-python",
   "name": "python",
   "nbconvert_exporter": "python",
   "pygments_lexer": "ipython3",
   "version": "3.6.1"
  }
 },
 "nbformat": 4,
 "nbformat_minor": 2
}
