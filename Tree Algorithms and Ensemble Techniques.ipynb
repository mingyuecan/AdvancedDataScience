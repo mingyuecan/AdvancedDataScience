{
 "cells": [
  {
   "cell_type": "markdown",
   "metadata": {},
   "source": [
    "## Decision Trees"
   ]
  },
  {
   "cell_type": "code",
   "execution_count": 2,
   "metadata": {
    "collapsed": true
   },
   "outputs": [],
   "source": [
    "import numpy as np\n",
    "import pandas as pd\n",
    "\n",
    "import os\n",
    "import time\n",
    "import requests\n",
    "import json\n",
    "from pprint import pprint\n",
    "\n",
    "from sklearn import tree\n",
    "from sklearn.cross_validation import train_test_split\n",
    "from sklearn.utils import check_random_state\n",
    "from sklearn.metrics import accuracy_score\n",
    "\n",
    "from nose.tools import assert_equal, assert_is_not, assert_is_instance\n",
    "from numpy.testing import assert_array_equal, assert_array_almost_equal, assert_almost_equal\n",
    "from pandas.util.testing import assert_frame_equal\n",
    "\n",
    "import warnings\n",
    "warnings.filterwarnings(\"ignore\")"
   ]
  },
  {
   "cell_type": "code",
   "execution_count": 3,
   "metadata": {},
   "outputs": [
    {
     "name": "stdout",
     "output_type": "stream",
     "text": [
      "weather_kord_2001_0101.json\r\n",
      "weather_kord_2001_0102.json\r\n",
      "weather_kord_2001_0103.json\r\n",
      "weather_kord_2001_0104.json\r\n",
      "weather_kord_2001_0105.json\r\n",
      "weather_kord_2001_0106.json\r\n",
      "weather_kord_2001_0107.json\r\n",
      "weather_kord_2001_0108.json\r\n",
      "weather_kord_2001_0109.json\r\n",
      "weather_kord_2001_0110.json\r\n"
     ]
    }
   ],
   "source": [
    "!ls weather | head"
   ]
  },
  {
   "cell_type": "code",
   "execution_count": 4,
   "metadata": {
    "collapsed": true
   },
   "outputs": [],
   "source": [
    "def from_json_to_dict(date, path='/Users/Constance/weather/', prefix='weather_kord_2001_'):\n",
    "    '''\n",
    "    Takes a string in the format MMDD where M = month, D = day of month.\n",
    "    Read a json file at \"path\" + \"prefix\" + \"date\".\n",
    "    Returns the JSON dictionary.\n",
    "    \n",
    "    Parameters\n",
    "    ----------\n",
    "    date: A string.\n",
    "    \n",
    "    Optional\n",
    "    --------\n",
    "    path: A string.\n",
    "    prefix: A string.\n",
    "    \n",
    "    Returns\n",
    "    -------\n",
    "    A dict.\n",
    "    '''\n",
    "    suffix='.json'\n",
    "    file=path+prefix+date+suffix\n",
    "    with open(file,'r') as fin:\n",
    "        data=json.load(fin)\n",
    "    return data"
   ]
  },
  {
   "cell_type": "code",
   "execution_count": 5,
   "metadata": {
    "collapsed": true
   },
   "outputs": [],
   "source": [
    "test_0101_dict = from_json_to_dict('0101')\n",
    "assert_is_instance(test_0101_dict, dict)\n",
    "assert_equal('history' in test_0101_dict, True)\n",
    "assert_equal('observations' in test_0101_dict['history'], True)\n",
    "assert_is_instance(test_0101_dict['history']['observations'], list)\n",
    "\n",
    "test_0103_dict = from_json_to_dict('0103')\n",
    "assert_is_instance(test_0103_dict, dict)\n",
    "assert_equal('history' in test_0103_dict, True)\n",
    "assert_equal('observations' in test_0103_dict['history'], True)\n",
    "assert_is_instance(test_0103_dict['history']['observations'], list)"
   ]
  },
  {
   "cell_type": "code",
   "execution_count": 97,
   "metadata": {},
   "outputs": [
    {
     "name": "stdout",
     "output_type": "stream",
     "text": [
      "dict_keys(['response', 'current_observation', 'history'])\n"
     ]
    }
   ],
   "source": [
    "data = from_json_to_dict('0101')\n",
    "print(data.keys())"
   ]
  },
  {
   "cell_type": "code",
   "execution_count": 7,
   "metadata": {},
   "outputs": [
    {
     "name": "stdout",
     "output_type": "stream",
     "text": [
      "dict_keys(['date', 'utcdate', 'observations', 'dailysummary'])\n"
     ]
    }
   ],
   "source": [
    "print(data['history'].keys())"
   ]
  },
  {
   "cell_type": "code",
   "execution_count": 8,
   "metadata": {
    "collapsed": true
   },
   "outputs": [],
   "source": [
    "def from_dict_to_visibility(json_data):\n",
    "    '''\n",
    "    Takes a dictionary and returns a tuple of (Month, Day, Hour, Minute, Visibility).\n",
    "    \n",
    "    Parameters\n",
    "    ----------\n",
    "    json_data: A dict.\n",
    "    \n",
    "    Returns\n",
    "    -------\n",
    "    A 5-tuple (str, str, str, str, str)\n",
    "    '''\n",
    "    obs=json_data['history']['observations']\n",
    "    result=[]\n",
    "    for i in range(len(obs)):\n",
    "        month=obs[i]['date']['mon']\n",
    "        day=obs[i]['date']['mday']\n",
    "        hour=obs[i]['date']['hour']\n",
    "        minute=obs[i]['date']['min']\n",
    "        visi=obs[i]['visi']\n",
    "        one=(month,day,hour,minute,visi)\n",
    "        result.append(one)\n",
    "    return result"
   ]
  },
  {
   "cell_type": "code",
   "execution_count": 9,
   "metadata": {
    "collapsed": true
   },
   "outputs": [],
   "source": [
    "test_0101_visi = from_dict_to_visibility(test_0101_dict)\n",
    "assert_is_instance(test_0101_visi, list)\n",
    "assert_equal(len(test_0101_visi), 24)\n",
    "for item in test_0101_visi:\n",
    "    assert_is_instance(item, tuple)\n",
    "    assert_equal(len(item), 5) # month, day, hour, minute, visibility\n",
    "    assert_equal(item[0], '01')\n",
    "    assert_equal(item[1], '01')\n",
    "    \n",
    "test_0103_visi = from_dict_to_visibility(test_0103_dict)\n",
    "assert_is_instance(test_0103_visi, list)\n",
    "assert_equal(len(test_0103_visi), 34) # some days have more than one measurement per hour\n",
    "for item in test_0103_visi:\n",
    "    assert_is_instance(item, tuple)\n",
    "    assert_equal(len(item), 5)\n",
    "    assert_equal(item[0], '01')\n",
    "    assert_equal(item[1], '03')"
   ]
  },
  {
   "cell_type": "code",
   "execution_count": 10,
   "metadata": {},
   "outputs": [
    {
     "name": "stdout",
     "output_type": "stream",
     "text": [
      "The first five elements are ['0101', '0102', '0103', '0104', '0105']\n",
      "The last five elements are ['1227', '1228', '1229', '1230', '1231']\n"
     ]
    }
   ],
   "source": [
    "dates = ['{0:0>2}{1:0>2}'.format(m, d + 1) for m in [1, 3, 5, 7, 8, 10, 12] for d in range(31)]\n",
    "dates.extend(['{0:0>2}{1:0>2}'.format(m, d + 1) for m in [4, 6, 9, 11] for d in range(30)])\n",
    "dates.extend(['02{0:0>2}'.format(d + 1) for d in range(28)])\n",
    "dates.sort()\n",
    "\n",
    "assert_equal(len(dates), 365)\n",
    "\n",
    "print(\"The first five elements are {}\".format(dates[:5]))\n",
    "print(\"The last five elements are {}\".format(dates[-5:]))"
   ]
  },
  {
   "cell_type": "code",
   "execution_count": 11,
   "metadata": {
    "collapsed": true
   },
   "outputs": [],
   "source": [
    "def collect_365_days(dates):\n",
    "    '''\n",
    "    Uses from_json_to_dict() and from_dict_to_visiblility() to\n",
    "    generate a list of tuples of the form\n",
    "    (Month, Day, Hour, Minute, Visibility)\n",
    "    \n",
    "    Parameters\n",
    "    ----------\n",
    "    dates: A list of strings \"MMDD\"\n",
    "    \n",
    "    Returns\n",
    "    -------\n",
    "    A list of 5-tuples (str, str, str, str, str)\n",
    "    '''\n",
    "    result=[]\n",
    "    for i in dates:\n",
    "        new=from_dict_to_visibility(from_json_to_dict(i))\n",
    "        result.append(new)\n",
    "    visibilities=[]\n",
    "    for j in result:\n",
    "        for k in j:\n",
    "            visibilities.append(k)\n",
    "    return visibilities"
   ]
  },
  {
   "cell_type": "code",
   "execution_count": 12,
   "metadata": {},
   "outputs": [
    {
     "name": "stdout",
     "output_type": "stream",
     "text": [
      "The length of visibilities is 10168.\n",
      "The first five elements of visibilities are [('01', '01', '00', '56', '9.0'), ('01', '01', '01', '56', '7.0'), ('01', '01', '02', '56', '10.0'), ('01', '01', '03', '56', '10.0'), ('01', '01', '04', '56', '9.0')]\n"
     ]
    }
   ],
   "source": [
    "visibilities = collect_365_days(dates)\n",
    "\n",
    "print(\"The length of visibilities is {}.\".format(len(visibilities)))\n",
    "print(\"The first five elements of visibilities are {}\".format(visibilities[:5]))"
   ]
  },
  {
   "cell_type": "code",
   "execution_count": 13,
   "metadata": {
    "collapsed": true
   },
   "outputs": [],
   "source": [
    "assert_is_instance(visibilities, list)\n",
    "assert_equal(len(visibilities), 10168)\n",
    "assert_equal(visibilities[:5],\n",
    "    [('01', '01', '00', '56', '9.0'),\n",
    "     ('01', '01', '01', '56', '7.0'),\n",
    "     ('01', '01', '02', '56', '10.0'),\n",
    "     ('01', '01', '03', '56', '10.0'),\n",
    "     ('01', '01', '04', '56', '9.0')]\n",
    "    )\n",
    "assert_equal(visibilities[-5:],\n",
    "    [('12', '31', '19', '56', '10.0'),\n",
    "     ('12', '31', '20', '56', '10.0'),\n",
    "     ('12', '31', '21', '56', '10.0'),\n",
    "     ('12', '31', '22', '56', '10.0'),\n",
    "     ('12', '31', '23', '56', '10.0')]\n",
    "    )"
   ]
  },
  {
   "cell_type": "code",
   "execution_count": 14,
   "metadata": {
    "collapsed": true
   },
   "outputs": [],
   "source": [
    "df = pd.read_csv('2001.csv', encoding='latin-1', usecols=(1, 2, 5, 8, 15, 16))"
   ]
  },
  {
   "cell_type": "code",
   "execution_count": 15,
   "metadata": {
    "collapsed": true
   },
   "outputs": [],
   "source": [
    "local = df[(df['Origin'] == 'ORD') & (df['UniqueCarrier'] == 'AA')]\n",
    "local = local.drop(['UniqueCarrier', 'Origin'], axis=1) # we don't need the Month and Origin columns anymore.\n",
    "local['Delayed'] = (local['DepDelay'] > 15).astype(np.int) # 1 if a flight was delayed, 0 if not.\n",
    "local = local.drop('DepDelay', axis=1).dropna() # we don't need the DepDelay column."
   ]
  },
  {
   "cell_type": "code",
   "execution_count": 16,
   "metadata": {
    "collapsed": true
   },
   "outputs": [],
   "source": [
    "def from_string_to_numbers(visibilities):\n",
    "    '''\n",
    "    Takes a list of 5-tuples of strings.\n",
    "    Convert the strings into integers in the form `mmddHHMM`,\n",
    "    where `m` is month, `d` is day of month, `H` is hour, and `M` is minute.\n",
    "    Returns a pandas.DataFrame with two columns \"Time\" and \"Visibility\".\n",
    "    \n",
    "    Parameters\n",
    "    ----------\n",
    "    visibilities: A list of 5-tuple of strings.\n",
    "    \n",
    "    Returns\n",
    "    -------\n",
    "    A pandas.DataFrame\n",
    "    '''\n",
    "    new=[]\n",
    "    for i in visibilities:\n",
    "        date=''.join(i)[:8]\n",
    "        visi=''.join(i)[8:]\n",
    "        anew=(date,visi)\n",
    "        new.append(anew)\n",
    "    result=pd.DataFrame(new,columns=('Time','Visibility'))\n",
    "    result['Time']=result.Time.astype('int64')\n",
    "    result['Visibility']=result.Visibility.astype('float64')\n",
    "    return result"
   ]
  },
  {
   "cell_type": "code",
   "execution_count": 127,
   "metadata": {},
   "outputs": [
    {
     "data": {
      "text/plain": [
       "dtype('int64')"
      ]
     },
     "execution_count": 127,
     "metadata": {},
     "output_type": "execute_result"
    }
   ],
   "source": [
    "time_visi = from_string_to_numbers(visibilities)\n",
    "time_visi.Visibility.unique()\n",
    "time_visi.Time.dtype"
   ]
  },
  {
   "cell_type": "code",
   "execution_count": 18,
   "metadata": {
    "collapsed": true
   },
   "outputs": [],
   "source": [
    "visi0 = [\n",
    "    ('01', '01', '06', '00', '1.0'),\n",
    "    ('02', '31', '08', '00', '2.0'),\n",
    "    ('10', '05', '07', '00', '3.0'),\n",
    "    ('12', '29', '09', '00', '4.0'),\n",
    "    ('09', '30', '23', '00', '5.0'),\n",
    "    ('07', '04', '12', '00', '6.0'),\n",
    "    ('05', '12', '15', '00', '7.0'),\n",
    "    ('11', '11', '18', '00', '8.0')\n",
    "]\n",
    "\n",
    "visi_answer = pd.DataFrame({\n",
    "    'Time': [1010600, 2310800, 10050700, 12290900,\n",
    "             9302300, 7041200, 5121500, 11111800],\n",
    "    'Visibility': [1., 2., 3., 4., 5., 6., 7., 8.]\n",
    "    })\n",
    "\n",
    "assert_frame_equal(from_string_to_numbers(visi0), visi_answer)"
   ]
  },
  {
   "cell_type": "code",
   "execution_count": 19,
   "metadata": {},
   "outputs": [
    {
     "data": {
      "text/html": [
       "<div>\n",
       "<style>\n",
       "    .dataframe thead tr:only-child th {\n",
       "        text-align: right;\n",
       "    }\n",
       "\n",
       "    .dataframe thead th {\n",
       "        text-align: left;\n",
       "    }\n",
       "\n",
       "    .dataframe tbody tr th {\n",
       "        vertical-align: top;\n",
       "    }\n",
       "</style>\n",
       "<table border=\"1\" class=\"dataframe\">\n",
       "  <thead>\n",
       "    <tr style=\"text-align: right;\">\n",
       "      <th></th>\n",
       "      <th>Month</th>\n",
       "      <th>DayofMonth</th>\n",
       "      <th>CRSDepTime</th>\n",
       "      <th>Delayed</th>\n",
       "    </tr>\n",
       "  </thead>\n",
       "  <tbody>\n",
       "    <tr>\n",
       "      <th>398444</th>\n",
       "      <td>1</td>\n",
       "      <td>1</td>\n",
       "      <td>1905</td>\n",
       "      <td>1</td>\n",
       "    </tr>\n",
       "    <tr>\n",
       "      <th>398445</th>\n",
       "      <td>1</td>\n",
       "      <td>2</td>\n",
       "      <td>1905</td>\n",
       "      <td>1</td>\n",
       "    </tr>\n",
       "    <tr>\n",
       "      <th>398446</th>\n",
       "      <td>1</td>\n",
       "      <td>3</td>\n",
       "      <td>1905</td>\n",
       "      <td>1</td>\n",
       "    </tr>\n",
       "    <tr>\n",
       "      <th>398447</th>\n",
       "      <td>1</td>\n",
       "      <td>4</td>\n",
       "      <td>1905</td>\n",
       "      <td>0</td>\n",
       "    </tr>\n",
       "    <tr>\n",
       "      <th>398448</th>\n",
       "      <td>1</td>\n",
       "      <td>5</td>\n",
       "      <td>1905</td>\n",
       "      <td>1</td>\n",
       "    </tr>\n",
       "  </tbody>\n",
       "</table>\n",
       "</div>"
      ],
      "text/plain": [
       "        Month  DayofMonth  CRSDepTime  Delayed\n",
       "398444      1           1        1905        1\n",
       "398445      1           2        1905        1\n",
       "398446      1           3        1905        1\n",
       "398447      1           4        1905        0\n",
       "398448      1           5        1905        1"
      ]
     },
     "execution_count": 19,
     "metadata": {},
     "output_type": "execute_result"
    }
   ],
   "source": [
    "local.head()"
   ]
  },
  {
   "cell_type": "code",
   "execution_count": 20,
   "metadata": {
    "collapsed": true
   },
   "outputs": [],
   "source": [
    "def combine_time(df):\n",
    "    '''\n",
    "    Combines \"Month\", \"DayofMonth\", and \"CRSDepTime\" in the form mmddHHMM.\n",
    "    Creates a new column named \"Time\".\n",
    "    \n",
    "    Parameters\n",
    "    ----------\n",
    "    df: A pandas.DataFrame\n",
    "    \n",
    "    Returns\n",
    "    -------\n",
    "    A pandas.DataFrame\n",
    "    '''\n",
    "    new=df.astype(str)\n",
    "    new['DayofMonth']=new.DayofMonth.apply(lambda x: x.zfill(2))\n",
    "    new['CRSDepTime']=new.CRSDepTime.apply(lambda x: x.zfill(4))\n",
    "    new['Time']=new.Month+new.DayofMonth+new.CRSDepTime\n",
    "    new=new.astype('int64')\n",
    "    return new"
   ]
  },
  {
   "cell_type": "code",
   "execution_count": 21,
   "metadata": {},
   "outputs": [
    {
     "name": "stdout",
     "output_type": "stream",
     "text": [
      "        Month  DayofMonth  CRSDepTime  Delayed     Time\n",
      "398444      1           1        1905        1  1011905\n",
      "398445      1           2        1905        1  1021905\n",
      "398446      1           3        1905        1  1031905\n",
      "398447      1           4        1905        0  1041905\n",
      "398448      1           5        1905        1  1051905\n"
     ]
    },
    {
     "data": {
      "text/plain": [
       "dtype('int64')"
      ]
     },
     "execution_count": 21,
     "metadata": {},
     "output_type": "execute_result"
    }
   ],
   "source": [
    "time_delayed = combine_time(local)\n",
    "print(time_delayed.head())\n",
    "time_delayed.Time.dtype"
   ]
  },
  {
   "cell_type": "code",
   "execution_count": 22,
   "metadata": {
    "collapsed": true
   },
   "outputs": [],
   "source": [
    "df0 = pd.DataFrame({\n",
    "    'Month':      [  1,   2,  10,   12,   9,     7,    5,   11],\n",
    "    'DayofMonth': [  1,  31,   5,   29,  30,     4,   12,   11],\n",
    "    'CRSDepTime': [600, 800, 700,  900, 2300, 1200, 1500, 1800]\n",
    "    })\n",
    "\n",
    "df_answer = df0.join(pd.DataFrame({\n",
    "    'Time': [1010600, 2310800, 10050700, 12290900, 9302300, 7041200, 5121500, 11111800]\n",
    "    }))\n",
    "\n",
    "assert_is_not(combine_time(df0), df0)\n",
    "assert_frame_equal(combine_time(df0), df_answer)"
   ]
  },
  {
   "cell_type": "code",
   "execution_count": 23,
   "metadata": {},
   "outputs": [
    {
     "name": "stdout",
     "output_type": "stream",
     "text": [
      "        Month  DayofMonth  CRSDepTime  Delayed     Time  Visibility\n",
      "398444      1           1        1905        1  1011905        10.0\n",
      "398445      1           2        1905        1  1021905         9.0\n",
      "398446      1           3        1905        1  1031905         5.0\n",
      "398447      1           4        1905        0  1041905         7.0\n",
      "398448      1           5        1905        1  1051905        10.0\n"
     ]
    }
   ],
   "source": [
    "def match_visibility(df_delayed, df_visibility):\n",
    "    result = df_delayed.copy()\n",
    "    for idx, row in result.iterrows():\n",
    "        matched = (row['Time'] - df_visibility['Time']).abs().idxmin()\n",
    "        result.loc[idx, 'Visibility'] = df_visibility.loc[matched, 'Visibility']\n",
    "    return result\n",
    "\n",
    "local_visi = match_visibility(time_delayed, time_visi)\n",
    "\n",
    "print(local_visi.head())"
   ]
  },
  {
   "cell_type": "code",
   "execution_count": 24,
   "metadata": {},
   "outputs": [
    {
     "name": "stdout",
     "output_type": "stream",
     "text": [
      "        CRSDepTime  Delayed  Visibility\n",
      "398444        1905        1        10.0\n",
      "398445        1905        1         9.0\n",
      "398446        1905        1         5.0\n",
      "398447        1905        0         7.0\n",
      "398448        1905        1        10.0\n"
     ]
    }
   ],
   "source": [
    "local_visi = local_visi.drop(['Month', 'DayofMonth', 'Time'], axis=1)\n",
    "print(local_visi.head())"
   ]
  },
  {
   "cell_type": "code",
   "execution_count": 26,
   "metadata": {
    "collapsed": true
   },
   "outputs": [],
   "source": [
    "def split(df, test_column, test_size, random_state):\n",
    "    '''\n",
    "    Uses sklearn.train_test_split to split \"df\" into a testing set and a test set.\n",
    "    The \"test_columns\" lists the column that we are trying to predict.\n",
    "    All columns in \"df\" except \"test_columns\" will be used for training.\n",
    "    The \"test_size\" should be between 0.0 and 1.0 and represents the proportion of the\n",
    "    dataset to include in the test split.\n",
    "    The \"random_state\" parameter is used in sklearn.train_test_split.\n",
    "    \n",
    "    Parameters\n",
    "    ----------\n",
    "    df: A pandas.DataFrame\n",
    "    test_columns: A list of strings\n",
    "    test_size: A float\n",
    "    random_state: A numpy.random.RandomState instance\n",
    "    \n",
    "    Returns\n",
    "    -------\n",
    "    A 4-tuple of pandas.DataFrames\n",
    "    '''\n",
    "    x=df.drop(test_column, axis=1)\n",
    "    y=df[test_column]\n",
    "    (X_train, X_test, y_train, y_test) = train_test_split(x, y, test_size=test_size,random_state=random_state)\n",
    "    X_train=np.array(X_train)\n",
    "    X_test=np.array(X_test)\n",
    "    y_train=np.array(y_train).flatten()\n",
    "    y_test=np.array(y_test).flatten()\n",
    "    return X_train, X_test, y_train, y_test"
   ]
  },
  {
   "cell_type": "code",
   "execution_count": 27,
   "metadata": {
    "collapsed": true
   },
   "outputs": [],
   "source": [
    "X_train, X_test, y_train, y_test = split(\n",
    "    df=local_visi,\n",
    "    test_column=['Delayed'],\n",
    "    test_size=0.2,\n",
    "    random_state=check_random_state(0)\n",
    "    )"
   ]
  },
  {
   "cell_type": "code",
   "execution_count": 33,
   "metadata": {
    "collapsed": true
   },
   "outputs": [],
   "source": [
    "def fit_and_predict(X_train, y_train, X_test, random_state):\n",
    "    '''\n",
    "    Fits Decision Trees.\n",
    "    \n",
    "    Parameters\n",
    "    ----------\n",
    "    X: A pandas.DataFrame. Training attributes.\n",
    "    y: A pandas.DataFrame. Truth labels.\n",
    "    \n",
    "    Returns\n",
    "    -------\n",
    "    A numpy array.\n",
    "    '''\n",
    "\n",
    "    dtc = tree.DecisionTreeClassifier(random_state=random_state)\n",
    "    dtc.fit(X_train, y_train)\n",
    "    prediction=dtc.predict(X_test)\n",
    "    return prediction"
   ]
  },
  {
   "cell_type": "code",
   "execution_count": 34,
   "metadata": {},
   "outputs": [
    {
     "name": "stdout",
     "output_type": "stream",
     "text": [
      "The accuracy score is 0.82.\n"
     ]
    }
   ],
   "source": [
    "y_pred = fit_and_predict(X_train, y_train, X_test, random_state=check_random_state(0))\n",
    "accuracy = accuracy_score(y_test, y_pred)\n",
    "print('The accuracy score is {:0.2f}.'.format(accuracy))"
   ]
  },
  {
   "cell_type": "code",
   "execution_count": 36,
   "metadata": {
    "collapsed": true
   },
   "outputs": [],
   "source": [
    "assert_is_instance(y_pred, np.ndarray)\n",
    "assert_equal(len(y_pred), len(y_test))\n",
    "assert_almost_equal(accuracy, 0.817207853501)"
   ]
  },
  {
   "cell_type": "markdown",
   "metadata": {},
   "source": [
    "## Random Forests"
   ]
  },
  {
   "cell_type": "code",
   "execution_count": 545,
   "metadata": {
    "collapsed": true
   },
   "outputs": [],
   "source": [
    "% matplotlib inline\n",
    "\n",
    "import seaborn as sns\n",
    "import matplotlib as mpl\n",
    "import matplotlib.pyplot as plt\n",
    "import numpy as np\n",
    "import pandas as pd\n",
    "\n",
    "from sklearn import ensemble\n",
    "from sklearn.cross_validation import train_test_split, KFold\n",
    "from sklearn.utils import check_random_state\n",
    "from sklearn.metrics import log_loss, roc_curve, roc_auc_score, auc\n",
    "\n",
    "from nose.tools import assert_equal, assert_is_instance, assert_is_not, assert_in\n",
    "from numpy.testing import assert_array_equal, assert_array_almost_equal\n",
    "from pandas.util.testing import assert_frame_equal\n",
    "\n",
    "import warnings\n",
    "warnings.filterwarnings(\"ignore\")"
   ]
  },
  {
   "cell_type": "code",
   "execution_count": 130,
   "metadata": {
    "collapsed": true
   },
   "outputs": [],
   "source": [
    "time_visi.drop_duplicates(inplace=True)"
   ]
  },
  {
   "cell_type": "code",
   "execution_count": 133,
   "metadata": {},
   "outputs": [
    {
     "name": "stdout",
     "output_type": "stream",
     "text": [
      "        Month  DayofMonth  CRSDepTime  Delayed  Visibility\n",
      "398444      1           1        1905        1        10.0\n",
      "398445      1           2        1905        1         9.0\n",
      "398446      1           3        1905        1         5.0\n",
      "398447      1           4        1905        0         7.0\n",
      "398448      1           5        1905        1        10.0\n"
     ]
    }
   ],
   "source": [
    "local_visi = match_visibility(time_delayed, time_visi)\n",
    "local_visi = local_visi.drop(['Time'], axis=1)\n",
    "print(local_visi.head())"
   ]
  },
  {
   "cell_type": "code",
   "execution_count": 136,
   "metadata": {
    "collapsed": true
   },
   "outputs": [],
   "source": [
    "df = pd.read_csv('2001.csv', encoding='latin-1', usecols=(1, 2, 3, 5, 7, 18))"
   ]
  },
  {
   "cell_type": "code",
   "execution_count": 546,
   "metadata": {},
   "outputs": [
    {
     "name": "stdout",
     "output_type": "stream",
     "text": [
      "   Month  DayofMonth  DayOfWeek  CRSDepTime  CRSArrTime  Distance  Visibility  \\\n",
      "0      1           1          1        1905        2159      1846        10.0   \n",
      "1      1           2          2        1905        2159      1846         9.0   \n",
      "2      1           3          3        1905        2159      1846         5.0   \n",
      "3      1           4          4        1905        2159      1846         7.0   \n",
      "4      1           5          5        1905        2159      1846        10.0   \n",
      "\n",
      "   Delayed  \n",
      "0        1  \n",
      "1        1  \n",
      "2        1  \n",
      "3        0  \n",
      "4        1  \n"
     ]
    }
   ],
   "source": [
    "df = df.loc[local_visi.index, :]\n",
    "df.loc[local_visi.index, 'Visibility'] = local_visi['Visibility']\n",
    "df.loc[local_visi.index, 'Delayed'] = local_visi['Delayed']\n",
    "local = df.reset_index(drop=True) # easier to reset the index in this problem\n",
    "\n",
    "print(local.head())"
   ]
  },
  {
   "cell_type": "code",
   "execution_count": 547,
   "metadata": {
    "collapsed": true
   },
   "outputs": [],
   "source": [
    "def split(df, test_column, test_size, random_state):\n",
    "    '''\n",
    "    Uses sklearn.train_test_split to split \"df\" into a testing set and a test set.\n",
    "    The \"test_columns\" lists the column that we are trying to predict.\n",
    "    All columns in \"df\" except \"test_columns\" will be used for training.\n",
    "    The \"test_size\" should be between 0.0 and 1.0 and represents the proportion of the\n",
    "    dataset to include in the test split.\n",
    "    The \"random_state\" parameter is used in sklearn.train_test_split.\n",
    "    \n",
    "    Parameters\n",
    "    ----------\n",
    "    df: A pandas.DataFrame\n",
    "    test_columns: A list of strings\n",
    "    test_size: A float\n",
    "    random_state: A numpy.random.RandomState instance\n",
    "    \n",
    "    Returns\n",
    "    -------\n",
    "    A 4-tuple of pandas.DataFrames\n",
    "    '''\n",
    "    x=df.drop(test_column, axis=1)\n",
    "    y=df[test_column]\n",
    "    (X_train, X_test, y_train, y_test) = train_test_split(x, y, test_size=test_size,random_state=random_state)\n",
    "    X_train=np.array(X_train)\n",
    "    X_test=np.array(X_test)\n",
    "    y_train=np.array(y_train).flatten()\n",
    "    y_test=np.array(y_test).flatten()\n",
    "    return X_train, X_test, y_train, y_test"
   ]
  },
  {
   "cell_type": "code",
   "execution_count": 626,
   "metadata": {
    "collapsed": true
   },
   "outputs": [],
   "source": [
    "X_train, X_test, y_train, y_test = split(\n",
    "    df=local,\n",
    "    test_column=['Delayed'],\n",
    "    test_size=0.2,\n",
    "    random_state=check_random_state(0)\n",
    "    )"
   ]
  },
  {
   "cell_type": "code",
   "execution_count": 549,
   "metadata": {
    "collapsed": true
   },
   "outputs": [],
   "source": [
    "def get_cv_indices(df, n_folds, random_state):\n",
    "    '''\n",
    "    Provides train/test indices to split data in train test sets.\n",
    "    Split dataset into \"n_folds\" consecutive folds (no shuffling).\n",
    "    \n",
    "    Paramters\n",
    "    ---------\n",
    "    df: A pandas.DataFrame\n",
    "    n_folds: integer\n",
    "    random_state: A numpy.random.RandomState instance\n",
    "\n",
    "    Returns\n",
    "    -------\n",
    "    An sklearn.cross_validation.KFold instance.\n",
    "    '''\n",
    "    result=KFold(len(df), n_folds=n_folds, random_state=random_state)\n",
    "    return result"
   ]
  },
  {
   "cell_type": "code",
   "execution_count": 550,
   "metadata": {
    "collapsed": true
   },
   "outputs": [],
   "source": [
    "test_kf = get_cv_indices(\n",
    "    pd.DataFrame({'a': np.arange(1000)}), 10, check_random_state(1)\n",
    "    )\n",
    "assert_is_instance(test_kf, KFold)\n",
    "assert_equal(test_kf.n, 1000)\n",
    "assert_equal(test_kf.n_folds, 10)\n",
    "assert_array_equal(test_kf.random_state.choice(100, 5), check_random_state(1).choice(100, 5))"
   ]
  },
  {
   "cell_type": "code",
   "execution_count": 551,
   "metadata": {
    "collapsed": true
   },
   "outputs": [],
   "source": [
    "def get_rfc(n_estimators, max_features, random_state):\n",
    "    '''\n",
    "    A random forest classifier with two adjustable parameters:\n",
    "    \"n_estimators\" and \"max_features\".\n",
    "    Uses the default sklearn values for the remaining parameters.\n",
    "    \n",
    "    Parameters\n",
    "    ----------\n",
    "    n_estimators: An int\n",
    "    max_features: An int\n",
    "    random_state: A numpy.random.RandomState instance\n",
    "    \n",
    "    Returns\n",
    "    -------\n",
    "    An sklearn.ensemble.forest.RandomForestClassifier\n",
    "    '''\n",
    "    rfc = ensemble.RandomForestClassifier(n_estimators=n_estimators, max_features=max_features, random_state=random_state)\n",
    "    return rfc"
   ]
  },
  {
   "cell_type": "code",
   "execution_count": 552,
   "metadata": {
    "collapsed": true
   },
   "outputs": [],
   "source": [
    "test_rfc = get_rfc(100, 10, check_random_state(1))\n",
    "assert_is_instance(test_rfc, ensemble.RandomForestClassifier)\n",
    "assert_equal(test_rfc.n_estimators, 100)\n",
    "assert_equal(test_rfc.max_features, 10)\n",
    "assert_array_equal(test_rfc.random_state.choice(100, 5), check_random_state(1).choice(100, 5))"
   ]
  },
  {
   "cell_type": "code",
   "execution_count": 553,
   "metadata": {
    "collapsed": true
   },
   "outputs": [],
   "source": [
    "def get_proba(clf, X_train, y_train, idx_train, idx_valid):\n",
    "    '''\n",
    "    \n",
    "    Fits the \"clf\" model on X_train[idx_train] and y_train[idx_train].\n",
    "    Makes predictions on X_train[idx_valid].\n",
    "    \n",
    "    Parameters\n",
    "    ----------\n",
    "    clf: An sklearn classifier instance.\n",
    "    X_train: A pandas.DataFrame\n",
    "    y_train: A pandas.DataFrame\n",
    "    idx_train: A numpy array\n",
    "    idx_valid: A numpy array\n",
    "    \n",
    "    Returns\n",
    "    -------\n",
    "    A two-dimensional numpy array\n",
    "    '''\n",
    "    x_train=np.array(X_train)\n",
    "    Y_train=np.array(y_train)\n",
    "    clf.fit(x_train[idx_train], Y_train[idx_train])\n",
    "    y_pred=clf.predict_proba(x_train[idx_valid])\n",
    "    return y_pred"
   ]
  },
  {
   "cell_type": "code",
   "execution_count": 554,
   "metadata": {
    "collapsed": true
   },
   "outputs": [],
   "source": [
    "test_X = pd.DataFrame({\n",
    "    'X0': np.arange(10),\n",
    "    'X1': np.arange(10),\n",
    "    'X2': np.arange(10)\n",
    "    })\n",
    "\n",
    "test_y = pd.DataFrame({\n",
    "    'y': np.arange(10)\n",
    "    })\n",
    "\n",
    "test_rfc = get_rfc(10, 2, check_random_state(2))\n",
    "\n",
    "test_proba = get_proba(test_rfc, test_X, test_y,\n",
    "    np.arange(10)[::2], np.arange(10)[::2] + 1)\n",
    "\n",
    "assert_array_equal(test_proba,\n",
    "    np.array(\n",
    "        [[ 0.6,  0.2,  0.1,  0.1,  0. ],\n",
    "         [ 0. ,  0.6,  0.3,  0.1,  0. ],\n",
    "         [ 0. ,  0.2,  0.5,  0.3,  0. ],\n",
    "         [ 0. ,  0.1,  0.1,  0.5,  0.3],\n",
    "         [ 0. ,  0.1,  0.1,  0.1,  0.7]])\n",
    "    )"
   ]
  },
  {
   "cell_type": "code",
   "execution_count": 587,
   "metadata": {
    "collapsed": true
   },
   "outputs": [],
   "source": [
    "def get_auc(kf, rfc, X_train, y_train):\n",
    "    '''\n",
    "    Iterates through the cross-validation folds and\n",
    "    returns the area under the ROC curve for the validation data.\n",
    "    \n",
    "    Parameters\n",
    "    ----------\n",
    "    kf: An sklearn.KFold instance\n",
    "    rfc: An sklearn.RandomForestClassifer instance\n",
    "    X_train: A pandas.DataFrame\n",
    "    y_train: A pandas.DataFrame\n",
    "    \n",
    "    Returns\n",
    "    -------\n",
    "    A numpy array\n",
    "    '''\n",
    "    result=[]\n",
    "    for idx_train, idx_valid in kf:\n",
    "        y_pred=get_proba(rfc, X_train, y_train, idx_train, idx_valid)\n",
    "        y_test=np.array(y_train)[idx_valid]\n",
    "        fpr, tpr, thresholds = roc_curve(y_test, y_pred[:,1])\n",
    "        roc_auc = auc(fpr, tpr)\n",
    "        result.append(roc_auc)\n",
    "    return np.array(result)"
   ]
  },
  {
   "cell_type": "code",
   "execution_count": 588,
   "metadata": {
    "collapsed": true
   },
   "outputs": [],
   "source": [
    "test_X = pd.DataFrame({\n",
    "    'X0': np.arange(100),\n",
    "    'X1': np.arange(100),\n",
    "    'X2': np.arange(100)\n",
    "    })\n",
    "\n",
    "test_y = pd.DataFrame({\n",
    "    'y': [0, 1] * 50\n",
    "    })\n",
    "\n",
    "test_kf = get_cv_indices(test_X, 10, check_random_state(1))\n",
    "\n",
    "test_rfc = get_rfc(10, 2, check_random_state(2))\n",
    "\n",
    "test_auc = get_auc(test_kf, test_rfc, test_X, test_y)\n",
    "\n",
    "assert_array_almost_equal(test_auc,\n",
    "    [0.5, 0.44, 0.44, 0.4, 0.4, 0.48, 0.48, 0.38, 0.4, 0.5]\n",
    "    )"
   ]
  },
  {
   "cell_type": "code",
   "execution_count": 589,
   "metadata": {},
   "outputs": [
    {
     "name": "stdout",
     "output_type": "stream",
     "text": [
      "Trees   AUC\n",
      "------------\n",
      " 10    0.702\n",
      " 20    0.716\n",
      " 30    0.722\n",
      " 40    0.726\n",
      " 50    0.728\n",
      " 60    0.729\n",
      " 70    0.730\n",
      " 80    0.731\n",
      " 90    0.731\n",
      "100    0.732\n"
     ]
    }
   ],
   "source": [
    "result = []\n",
    "\n",
    "print('Trees   AUC\\n'\n",
    "      '------------')\n",
    "\n",
    "for n_trees in range(10, 110, 10):\n",
    "    kf = get_cv_indices(X_train, 3, check_random_state(0))\n",
    "    rfc = get_rfc(n_trees, 3, check_random_state(0))\n",
    "    mean_auc = get_auc(kf, rfc, X_train, y_train).mean()\n",
    "    result.append((n_trees, mean_auc))\n",
    "    print('{0:3d}    {1:0.3f}'.format(n_trees, mean_auc))"
   ]
  },
  {
   "cell_type": "code",
   "execution_count": 590,
   "metadata": {},
   "outputs": [
    {
     "data": {
      "text/plain": [
       "<matplotlib.text.Text at 0x11665b4a8>"
      ]
     },
     "execution_count": 590,
     "metadata": {},
     "output_type": "execute_result"
    },
    {
     "data": {
      "image/png": "[encoded data removed]",
      "text/plain": [
       "<matplotlib.figure.Figure at 0x116632160>"
      ]
     },
     "metadata": {},
     "output_type": "display_data"
    }
   ],
   "source": [
    "result = np.array(result)\n",
    "fig, ax = plt.subplots()\n",
    "\n",
    "ax.plot(result[:, 0], result[:, 1])\n",
    "ax.set_title('AUC ROC vs number of trees')\n",
    "ax.set_xlabel('Number of trees')\n",
    "ax.set_ylabel('AUC ROC')"
   ]
  },
  {
   "cell_type": "code",
   "execution_count": 602,
   "metadata": {
    "collapsed": true
   },
   "outputs": [],
   "source": [
    "def optimize_max_features(X_train, y_train, cv_random_state, clf_random_state, n_folds=4, n_trees=20):\n",
    "    '''\n",
    "    \n",
    "    Parameters\n",
    "    ----------\n",
    "    X_train: A pandas.DataFrame\n",
    "    y_train: A pandas.DataFrame\n",
    "    cv_random_state: A RandomState instance for get_cv_indices()\n",
    "    clf_random_state: A RandomState instance for get_auc()\n",
    "    \n",
    "    Optional\n",
    "    --------\n",
    "    n_folds: An int. 4 by default.\n",
    "    n_trees: An int. 20 by default.\n",
    "    \n",
    "    Returns\n",
    "    --------\n",
    "    A list of (max_features value, corresponding mean AUC value) tuples.\n",
    "    '''\n",
    "\n",
    "    kf =get_cv_indices(X_train, n_folds, cv_random_state)\n",
    "    result=[]\n",
    "    for i in range(1,8):\n",
    "        rfc=get_rfc(n_trees, i, clf_random_state)\n",
    "        mean_auc=get_auc(kf, rfc, X_train, y_train).mean()\n",
    "        result.append((i,mean_auc))\n",
    "    return result      "
   ]
  },
  {
   "cell_type": "code",
   "execution_count": 603,
   "metadata": {
    "collapsed": true
   },
   "outputs": [],
   "source": [
    "test_omf = optimize_max_features(X_train[:100], y_train[:100], check_random_state(0), check_random_state(0))\n",
    "assert_is_instance(test_omf, list)"
   ]
  },
  {
   "cell_type": "code",
   "execution_count": 605,
   "metadata": {
    "collapsed": true
   },
   "outputs": [],
   "source": [
    "max_features = optimize_max_features(X_train, y_train, check_random_state(0), check_random_state(0))"
   ]
  },
  {
   "cell_type": "code",
   "execution_count": 612,
   "metadata": {},
   "outputs": [
    {
     "name": "stdout",
     "output_type": "stream",
     "text": [
      "The best value for max_features is 5.\n"
     ]
    }
   ],
   "source": [
    "best_max_features = np.argmax(np.array(max_features)[:, 1])+1\n",
    "print('The best value for max_features is {}.'.format(best_max_features))\n",
    "assert_equal(best_max_features, 5)"
   ]
  },
  {
   "cell_type": "code",
   "execution_count": 615,
   "metadata": {
    "collapsed": true
   },
   "outputs": [],
   "source": [
    "def get_final_rfc(X_train, y_train, X_test, max_features, random_state, n_trees=100):\n",
    "    '''\n",
    "    Trains a Random Forest classifier on the entire training set\n",
    "    using the optimized \"max_features\".\n",
    "    Makes probabilistic predictions.\n",
    "    \n",
    "    Parameters\n",
    "    ----------\n",
    "    X_train: A pandas.DataFrame\n",
    "    y_train: A pandas.DataFrame\n",
    "    X_test: A pandas.DataFrame\n",
    "    max_features: An int\n",
    "    random_state: A RandomState instance\n",
    "    \n",
    "    Optional\n",
    "    --------\n",
    "    n_trees: An int. 100 by default\n",
    "    \n",
    "    Returns\n",
    "    -------\n",
    "    A two-dimensional numpy array\n",
    "    '''\n",
    "    rfc=get_rfc(n_trees, max_features, random_state)\n",
    "    x_train=np.array(X_train)\n",
    "    Y_train=np.array(y_train)\n",
    "    x_test=np.array(X_test)\n",
    "    rfc.fit(x_train, Y_train)\n",
    "    y_pred=rfc.predict_proba(x_test)\n",
    "    return y_pred"
   ]
  },
  {
   "cell_type": "code",
   "execution_count": 616,
   "metadata": {
    "collapsed": true
   },
   "outputs": [],
   "source": [
    "y_pred = get_final_rfc(X_train, y_train, X_test, best_max_features, check_random_state(0))"
   ]
  },
  {
   "cell_type": "code",
   "execution_count": 617,
   "metadata": {
    "collapsed": true
   },
   "outputs": [],
   "source": [
    "assert_is_instance(y_pred, np.ndarray)"
   ]
  },
  {
   "cell_type": "code",
   "execution_count": 643,
   "metadata": {
    "collapsed": true
   },
   "outputs": [],
   "source": [
    "def plot_roc_curve(y_test, y_pred):\n",
    "    '''\n",
    "    Plots ROC curve with FPR on the x-axis and TPR on the y-axis.\n",
    "    Displays AUC ROC in the legend.\n",
    "    \n",
    "    Paramters\n",
    "    ---------\n",
    "    y_test: A pandas.DataFrame\n",
    "    y_pred: A two dimensional array from get_final_rfc()\n",
    "    \n",
    "    Returns\n",
    "    -------\n",
    "    A matplotlib.Axes instance\n",
    "    '''\n",
    "    fig, ax = plt.subplots(figsize=(10,6))\n",
    "    fpr, tpr, _ = roc_curve(y_test, y_pred[:,1]) \n",
    "    roc_auc = auc(fpr, tpr)\n",
    "    plt.plot(fpr, tpr, label='Area = 0.73')\n",
    "    plt.xlabel('False Positive Rate')\n",
    "    plt.ylabel('True Positive Rate')\n",
    "    plt.title('ROC Curve')\n",
    "    plt.legend(loc='best')\n",
    "    return ax"
   ]
  },
  {
   "cell_type": "code",
   "execution_count": 644,
   "metadata": {},
   "outputs": [
    {
     "data": {
      "image/png": "[encoded data removed]",
      "text/plain": [
       "<matplotlib.figure.Figure at 0x117b8d2b0>"
      ]
     },
     "metadata": {},
     "output_type": "display_data"
    }
   ],
   "source": [
    "ax = plot_roc_curve(y_test, y_pred)"
   ]
  },
  {
   "cell_type": "code",
   "execution_count": 646,
   "metadata": {
    "collapsed": true
   },
   "outputs": [],
   "source": [
    "assert_is_instance(ax, mpl.axes.Axes, msg=\"Your function should return a matplotlib.axes.Axes object.\")\n",
    "\n",
    "assert_equal(len(ax.lines), 1)\n",
    "\n",
    "assert_is_not(len(ax.title.get_text()), 0, msg=\"Your plot doesn't have a title.\")\n",
    "assert_is_not(ax.xaxis.get_label_text(), '', msg=\"Change the x-axis label to something more descriptive.\")\n",
    "assert_is_not(ax.yaxis.get_label_text(), '', msg=\"Change the y-axis label to something more descriptive.\")\n",
    "handles, labels = ax.get_legend_handles_labels()\n",
    "assert_equal('area' in labels[0].lower() or 'auc' in labels[0].lower(), True)\n",
    "assert_equal('{:0.2f}'.format(roc_auc_score(y_test, y_pred[:, 1])) in labels[0], True)"
   ]
  },
  {
   "cell_type": "markdown",
   "metadata": {},
   "source": [
    "## Gradient Boosting Classifier"
   ]
  },
  {
   "cell_type": "code",
   "execution_count": 2,
   "metadata": {
    "collapsed": true
   },
   "outputs": [],
   "source": [
    "% matplotlib inline\n",
    "\n",
    "import seaborn as sns\n",
    "import matplotlib as mpl\n",
    "import matplotlib.pyplot as plt\n",
    "import numpy as np\n",
    "import pandas as pd\n",
    "\n",
    "from sklearn import ensemble\n",
    "from sklearn.cross_validation import train_test_split\n",
    "from sklearn.utils import check_random_state\n",
    "from sklearn.ensemble import GradientBoostingClassifier\n",
    "from sklearn.grid_search import GridSearchCV\n",
    "from sklearn.metrics import mean_absolute_error\n",
    "\n",
    "from nose.tools import assert_equal, assert_is_instance, assert_is_not, assert_in\n",
    "from numpy.testing import assert_array_equal, assert_array_almost_equal\n",
    "\n",
    "import warnings\n",
    "warnings.filterwarnings(\"ignore\")"
   ]
  },
  {
   "cell_type": "code",
   "execution_count": 3,
   "metadata": {
    "collapsed": true
   },
   "outputs": [],
   "source": [
    "wines = pd.read_csv('wines.csv', \n",
    "                    names=['Class', 'Alcohol', 'Malic acid', 'Ash', 'Alcalinity of ash', 'Magnesium',\n",
    "                           'Total phenols', 'Flavanoids', 'Nonflavanoid phenols', 'Proanthocyanins', \n",
    "                           'Color intensity', 'Hue', 'OD280/OD315 of diluted wines', 'Proline'],\n",
    "                    usecols=['Class', 'Alcohol', 'Ash', 'Alcalinity of ash', 'Total phenols'])"
   ]
  },
  {
   "cell_type": "code",
   "execution_count": 4,
   "metadata": {},
   "outputs": [
    {
     "name": "stdout",
     "output_type": "stream",
     "text": [
      "   Class  Alcohol   Ash  Alcalinity of ash  Total phenols\n",
      "0      1    14.23  2.43               15.6           2.80\n",
      "1      1    13.20  2.14               11.2           2.65\n",
      "2      1    13.16  2.67               18.6           2.80\n",
      "3      1    14.37  2.50               16.8           3.85\n",
      "4      1    13.24  2.87               21.0           2.80\n"
     ]
    }
   ],
   "source": [
    "print(wines.head())"
   ]
  },
  {
   "cell_type": "code",
   "execution_count": 5,
   "metadata": {
    "collapsed": true
   },
   "outputs": [],
   "source": [
    "def split(df, test_column, test_size, random_state):\n",
    "    '''\n",
    "    Uses sklearn.train_test_split to split \"df\" into a testing set and a test set.\n",
    "    The \"test_columns\" lists the column that we are trying to predict.\n",
    "    All columns in \"df\" except \"test_columns\" will be used for training.\n",
    "    The \"test_size\" should be between 0.0 and 1.0 and represents the proportion of the\n",
    "    dataset to include in the test split.\n",
    "    The \"random_state\" parameter is used in sklearn.train_test_split.\n",
    "    \n",
    "    Parameters\n",
    "    ----------\n",
    "    df: A pandas.DataFrame\n",
    "    test_columns: A list of strings\n",
    "    test_size: A float\n",
    "    random_state: A numpy.random.RandomState instance\n",
    "    \n",
    "    Returns\n",
    "    -------\n",
    "    A 4-tuple of pandas.DataFrames\n",
    "    '''\n",
    "    x=df.drop(test_column, axis=1)\n",
    "    y=df[test_column]\n",
    "    (X_train, X_test, y_train, y_test) = train_test_split(x, y, test_size=test_size,random_state=random_state)\n",
    "    return X_train, X_test, y_train, y_test"
   ]
  },
  {
   "cell_type": "code",
   "execution_count": 6,
   "metadata": {
    "collapsed": true
   },
   "outputs": [],
   "source": [
    "X_train, X_test, y_train, y_test = split(\n",
    "    df=wines,\n",
    "    test_column=['Class'],\n",
    "    test_size=0.2,\n",
    "    random_state=check_random_state(0)\n",
    "    )"
   ]
  },
  {
   "cell_type": "code",
   "execution_count": 16,
   "metadata": {
    "collapsed": true
   },
   "outputs": [],
   "source": [
    "def get_gbtc(n_estimators, random_state, max_depth=1):\n",
    "    '''\n",
    "    A gradient boosting classifier with two adjustable hyperparameters:\n",
    "    \"n_estimators\" and (optional) \"max_depth\". \n",
    "    Don't forget to include \"random_state\".\n",
    "    Uses the default sklearn values for the remaining parameters.\n",
    "    \n",
    "    Parameters\n",
    "    ----------\n",
    "    n_estimators: An int\n",
    "    random_state: A numpy.random.RandomState instance\n",
    "    max_depth: An int, optional\n",
    "    \n",
    "    Returns\n",
    "    -------\n",
    "    An sklearn.ensemble.GradientBoostingClassifier\n",
    "    '''\n",
    "    gbtc = GradientBoostingClassifier(n_estimators=n_estimators, random_state=random_state, max_depth=max_depth)\n",
    "    return gbtc"
   ]
  },
  {
   "cell_type": "code",
   "execution_count": 19,
   "metadata": {
    "collapsed": true
   },
   "outputs": [],
   "source": [
    "t_gbtc = get_gbtc(200, check_random_state(2), max_depth=4)\n",
    "assert_is_instance(t_gbtc, ensemble.GradientBoostingClassifier)\n",
    "assert_equal(t_gbtc.n_estimators, 200)\n",
    "assert_equal(t_gbtc.max_depth, 4)\n",
    "assert_array_equal(t_gbtc.random_state.choice(100, 5), check_random_state(2).choice(100, 5))"
   ]
  },
  {
   "cell_type": "code",
   "execution_count": 21,
   "metadata": {
    "collapsed": true
   },
   "outputs": [],
   "source": [
    "def get_pred(gbtc, X_train, X_test, y_train):\n",
    "    '''\n",
    "    Fits the \"gbtc\" model on X_train and y_train.\n",
    "    Makes predictions on X_test.\n",
    "    \n",
    "    Parameters\n",
    "    ----------\n",
    "    gbtc: A sklearn classifier instance.\n",
    "    X_train: A pandas.DataFrame\n",
    "    X_test: A pandas.DataFrame\n",
    "    y_train: A pandas.DataFrame\n",
    "    \n",
    "    Returns\n",
    "    -------\n",
    "    A numpy array\n",
    "    '''\n",
    "    x_train=np.array(X_train)\n",
    "    x_test=np.array(X_test)\n",
    "    Y_train=np.array(y_train)\n",
    "    gbtc.fit(x_train, Y_train)\n",
    "    y_pred = gbtc.predict(x_test)\n",
    "    return y_pred"
   ]
  },
  {
   "cell_type": "code",
   "execution_count": 22,
   "metadata": {
    "collapsed": true
   },
   "outputs": [],
   "source": [
    "t_gbtc = get_gbtc(200, check_random_state(1), max_depth=4)\n",
    "\n",
    "t_X_train = pd.DataFrame({\n",
    "    'X0': np.arange(100), \n",
    "    'X1': np.arange(-25, 75),\n",
    "    })\n",
    "\n",
    "t_y_train = pd.DataFrame({\n",
    "    'y': list(np.arange(10))*10\n",
    "    })\n",
    "\n",
    "t_X_test = pd.DataFrame({\n",
    "    'X0': np.arange(100),\n",
    "    'X1': np.arange(100),\n",
    "    })\n",
    "\n",
    "test_pred = get_pred(t_gbtc, t_X_train, t_X_test, t_y_train)\n",
    "assert_array_equal(test_pred, \n",
    "                   np.array([0, 1, 7, 3, 4, 0, 1, 2, 0, 4, 0, 1, 2, 3, 4, 0, 1, 2, 8, 4, 5, 1, 2,\n",
    "                             8, 4, 5, 1, 7, 1, 4, 5, 1, 2, 3, 4, 5, 6, 7, 8, 2, 5, 6, 7, 3, 4, 5,\n",
    "                             6, 7, 3, 4, 5, 6, 7, 3, 4, 5, 6, 7, 8, 9, 0, 6, 7, 3, 4, 0, 1, 7, 3,\n",
    "                             4, 5, 1, 7, 8, 4, 5, 6, 7, 8, 9, 0, 1, 9, 3, 9, 5, 6, 7, 8, 9, 0, 1,\n",
    "                             9, 9, 4, 5, 6, 7, 8, 9]))\n",
    "\n",
    "y_pred = get_pred(t_gbtc, X_train, X_test, y_train)\n",
    "assert_array_equal(y_pred, np.array([1, 3, 2, 1, 1, 2, 1, 2, 2, 2, 3, 3, 1, 2, 3, 2, 1, 1, 2, 1, 1, 1, 1,\n",
    "                                     2, 2, 2, 2, 2, 2, 3, 1, 1, 2, 1, 1, 1]))"
   ]
  },
  {
   "cell_type": "code",
   "execution_count": 49,
   "metadata": {
    "collapsed": true
   },
   "outputs": [],
   "source": [
    "def get_best_param(X_train, y_train, n_estimators, random_state, max_depth_range):\n",
    "    '''\n",
    "    Implements a grid search on \"max_depth\" and returns the best \"max_depth\" value.\n",
    "    \n",
    "    Parameters\n",
    "    ----------\n",
    "    X_train: A pandas.DataFrame\n",
    "    y_train: A pandas.DataFrame\n",
    "    n_estimators: An int\n",
    "    random_state: A numpy.random.RandomState instance\n",
    "    max_depth_range: A numpy array of integers\n",
    "    \n",
    "    Returns\n",
    "    -------\n",
    "    An int\n",
    "    '''\n",
    "    gbtc=get_gbtc(n_estimators, random_state)\n",
    "    param_grid = dict(max_depth=max_depth_range)\n",
    "    grid= GridSearchCV(gbtc, param_grid)\n",
    "    grid.fit(np.array(X_train), np.array(y_train).flatten())\n",
    "    return grid.best_params_['max_depth']"
   ]
  },
  {
   "cell_type": "code",
   "execution_count": 50,
   "metadata": {
    "collapsed": true
   },
   "outputs": [],
   "source": [
    "t_best_max_depth = get_best_param(X_train, y_train, 500, check_random_state(0), np.arange(1, 7))\n",
    "assert_equal(t_best_max_depth, 5)"
   ]
  },
  {
   "cell_type": "code",
   "execution_count": 71,
   "metadata": {
    "collapsed": true
   },
   "outputs": [],
   "source": [
    "def plot_mean_abs_error(X_train, X_test, y_train, y_test, n_estimators, random_state, best_max_depth):\n",
    "    '''\n",
    "    Using the best parameter we found, reconstructs a gradient boosting classifier.\n",
    "    Fits the classifier and makes predictions.\n",
    "    Gets mean absolute error for all individual estimators, and makes a plot\n",
    "    of mean absolute value (on y-axis) vs. number of estimators (on x-axis)\n",
    "    for both training data and testing data.\n",
    "    Label your two curves as \"Test\" and \"Train\" (exact), respectively. \n",
    "    \n",
    "    Paramters\n",
    "    ---------\n",
    "    X_train: A pandas.DataFrame\n",
    "    X_test: A pandas.DataFrame\n",
    "    y_train: A pandas.DataFrame\n",
    "    y_test: A pandas.DataFrame\n",
    "    n_estimators: An int\n",
    "    random_state: A numpy.random.RandomState instance\n",
    "    best_max_depth: An int\n",
    "    \n",
    "    Returns\n",
    "    -------\n",
    "    A matplotlib.Axes instance\n",
    "    '''\n",
    "    gbtc=get_gbtc(n_estimators=n_estimators, random_state=random_state, max_depth=best_max_depth)\n",
    "    gbtc.fit(X_train, y_train)\n",
    "    n_est = len(gbtc.estimators_)\n",
    "    \n",
    "    dev_test = np.zeros(n_est)\n",
    "    dev_train = np.zeros(n_est)\n",
    "    \n",
    "    for idx, y_pred in enumerate(gbtc.staged_predict(X_test)):\n",
    "        dev_test[idx] = mean_absolute_error(y_test, y_pred)\n",
    "    \n",
    "    for idx, y_pred in enumerate(gbtc.staged_predict(X_train)):\n",
    "        dev_train[idx] = mean_absolute_error(y_train, y_pred)\n",
    "        \n",
    "    sns.set(style=\"white\")\n",
    "    sns.set(style=\"ticks\", font_scale=2.0)\n",
    "    fig, ax = plt.subplots(figsize=(10,6))\n",
    "         \n",
    "    ax.plot(np.arange(n_est) + 1, dev_test, color=sns.xkcd_rgb[\"denim blue\"], label='Test', lw=3)\n",
    "    ax.plot(np.arange(n_est) + 1, dev_train, color=sns.xkcd_rgb[\"pale red\"], label='Train', lw=3)\n",
    "    \n",
    "    ax.set_title('Mean Absolute Error vs. # Estimators')\n",
    "    ax.set_ylabel('Mean Absolute Error')\n",
    "    ax.set_xlabel('# Estimators')\n",
    "    ax.set_ylim((0.00, 0.14))\n",
    "    ax.set_xlim((0, 160))\n",
    "    \n",
    "    sns.despine(offset=0, trim=True)\n",
    "    sns.set(style=\"ticks\", font_scale=2.0)\n",
    "    ax.legend(loc=1)\n",
    "    \n",
    "    return ax"
   ]
  },
  {
   "cell_type": "code",
   "execution_count": 72,
   "metadata": {},
   "outputs": [
    {
     "data": {
      "image/png": "[encoded data removed]",
      "text/plain": [
       "<matplotlib.figure.Figure at 0x11ed66e10>"
      ]
     },
     "metadata": {},
     "output_type": "display_data"
    }
   ],
   "source": [
    "ax = plot_mean_abs_error(X_train, X_test, y_train, y_test, 150, check_random_state(0), t_best_max_depth)"
   ]
  },
  {
   "cell_type": "code",
   "execution_count": 73,
   "metadata": {
    "collapsed": true
   },
   "outputs": [],
   "source": [
    "assert_is_instance(ax, mpl.axes.Axes, msg=\"Your function should return a matplotlib.axes.Axes object.\")\n",
    "\n",
    "assert_equal(len(ax.lines), 2)\n",
    "\n",
    "assert_is_not(len(ax.title.get_text()), 0, msg=\"Your plot doesn't have a title.\")\n",
    "assert_is_not(ax.xaxis.get_label_text(), '', msg=\"Change the x-axis label to something more descriptive.\")\n",
    "assert_is_not(ax.yaxis.get_label_text(), '', msg=\"Change the y-axis label to something more descriptive.\")\n",
    "\n",
    "handles, labels = ax.get_legend_handles_labels()\n",
    "assert_equal(set(labels), set(['Train', 'Test']), msg=\"Make sure you have correct line labels.\")\n",
    "\n",
    "lines = ax.get_lines()\n",
    "train = [l for l in lines if l.get_label()=='Train'][0]\n",
    "test = [l for l in lines if l.get_label()=='Test'][0]\n",
    "\n",
    "train_xdata = train.get_xdata()\n",
    "train_ydata = train.get_ydata()\n",
    "\n",
    "test_xdata = test.get_xdata()\n",
    "test_ydata = test.get_ydata()\n",
    "\n",
    "assert_array_almost_equal(train_xdata[:5], [1, 2, 3, 4, 5])\n",
    "assert_array_almost_equal(train_ydata[:5], [0.03521127,  0.00704225,  0.00704225,  0.00704225,  0.00704225])\n",
    "\n",
    "assert_array_almost_equal(test_xdata[:5], [1, 2, 3, 4, 5])\n",
    "assert_array_almost_equal(test_ydata[:5], [0.08333333,  0.11111111,  0.11111111,  0.11111111,  0.11111111])"
   ]
  }
 ],
 "metadata": {
  "kernelspec": {
   "display_name": "Python 3",
   "language": "python",
   "name": "python3"
  },
  "language_info": {
   "codemirror_mode": {
    "name": "ipython",
    "version": 3
   },
   "file_extension": ".py",
   "mimetype": "text/x-python",
   "name": "python",
   "nbconvert_exporter": "python",
   "pygments_lexer": "ipython3",
   "version": "3.6.1"
  }
 },
 "nbformat": 4,
 "nbformat_minor": 2
}
