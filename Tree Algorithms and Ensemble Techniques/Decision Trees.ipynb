{
 "cells": [
  {
   "cell_type": "markdown",
   "metadata": {},
   "source": [
    "## Decision Trees"
   ]
  },
  {
   "cell_type": "code",
   "execution_count": 2,
   "metadata": {
    "collapsed": true
   },
   "outputs": [],
   "source": [
    "import numpy as np\n",
    "import pandas as pd\n",
    "\n",
    "import os\n",
    "import time\n",
    "import requests\n",
    "import json\n",
    "from pprint import pprint\n",
    "\n",
    "from sklearn import tree\n",
    "from sklearn.cross_validation import train_test_split\n",
    "from sklearn.utils import check_random_state\n",
    "from sklearn.metrics import accuracy_score\n",
    "\n",
    "from nose.tools import assert_equal, assert_is_not, assert_is_instance\n",
    "from numpy.testing import assert_array_equal, assert_array_almost_equal, assert_almost_equal\n",
    "from pandas.util.testing import assert_frame_equal\n",
    "\n",
    "import warnings\n",
    "warnings.filterwarnings(\"ignore\")"
   ]
  },
  {
   "cell_type": "code",
   "execution_count": 3,
   "metadata": {},
   "outputs": [
    {
     "name": "stdout",
     "output_type": "stream",
     "text": [
      "weather_kord_2001_0101.json\r\n",
      "weather_kord_2001_0102.json\r\n",
      "weather_kord_2001_0103.json\r\n",
      "weather_kord_2001_0104.json\r\n",
      "weather_kord_2001_0105.json\r\n",
      "weather_kord_2001_0106.json\r\n",
      "weather_kord_2001_0107.json\r\n",
      "weather_kord_2001_0108.json\r\n",
      "weather_kord_2001_0109.json\r\n",
      "weather_kord_2001_0110.json\r\n"
     ]
    }
   ],
   "source": [
    "!ls weather | head"
   ]
  },
  {
   "cell_type": "markdown",
   "metadata": {},
   "source": [
    "### Load JSON files"
   ]
  },
  {
   "cell_type": "code",
   "execution_count": 4,
   "metadata": {
    "collapsed": true
   },
   "outputs": [],
   "source": [
    "def from_json_to_dict(date, path='/Users/Constance/weather/', prefix='weather_kord_2001_'):\n",
    "    '''\n",
    "    Takes a string in the format MMDD where M = month, D = day of month.\n",
    "    Read a json file at \"path\" + \"prefix\" + \"date\".\n",
    "    Returns the JSON dictionary.\n",
    "    \n",
    "    Parameters\n",
    "    ----------\n",
    "    date: A string.\n",
    "    \n",
    "    Optional\n",
    "    --------\n",
    "    path: A string.\n",
    "    prefix: A string.\n",
    "    \n",
    "    Returns\n",
    "    -------\n",
    "    A dict.\n",
    "    '''\n",
    "    \n",
    "    suffix='.json'\n",
    "    file=path+prefix+date+suffix\n",
    "    with open(file,'r') as fin:\n",
    "        data=json.load(fin)\n",
    "    return data"
   ]
  },
  {
   "cell_type": "code",
   "execution_count": 5,
   "metadata": {
    "collapsed": true
   },
   "outputs": [],
   "source": [
    "test_0101_dict = from_json_to_dict('0101')\n",
    "assert_is_instance(test_0101_dict, dict)\n",
    "assert_equal('history' in test_0101_dict, True)\n",
    "assert_equal('observations' in test_0101_dict['history'], True)\n",
    "assert_is_instance(test_0101_dict['history']['observations'], list)\n",
    "\n",
    "test_0103_dict = from_json_to_dict('0103')\n",
    "assert_is_instance(test_0103_dict, dict)\n",
    "assert_equal('history' in test_0103_dict, True)\n",
    "assert_equal('observations' in test_0103_dict['history'], True)\n",
    "assert_is_instance(test_0103_dict['history']['observations'], list)"
   ]
  },
  {
   "cell_type": "code",
   "execution_count": 97,
   "metadata": {},
   "outputs": [
    {
     "name": "stdout",
     "output_type": "stream",
     "text": [
      "dict_keys(['response', 'current_observation', 'history'])\n"
     ]
    }
   ],
   "source": [
    "data = from_json_to_dict('0101')\n",
    "print(data.keys())"
   ]
  },
  {
   "cell_type": "code",
   "execution_count": 7,
   "metadata": {},
   "outputs": [
    {
     "name": "stdout",
     "output_type": "stream",
     "text": [
      "dict_keys(['date', 'utcdate', 'observations', 'dailysummary'])\n"
     ]
    }
   ],
   "source": [
    "print(data['history'].keys())"
   ]
  },
  {
   "cell_type": "markdown",
   "metadata": {},
   "source": [
    "### Parse time and visibility from JSON"
   ]
  },
  {
   "cell_type": "code",
   "execution_count": 8,
   "metadata": {
    "collapsed": true
   },
   "outputs": [],
   "source": [
    "def from_dict_to_visibility(json_data):\n",
    "    '''\n",
    "    Takes a dictionary and returns a tuple of (Month, Day, Hour, Minute, Visibility).\n",
    "    \n",
    "    Parameters\n",
    "    ----------\n",
    "    json_data: A dict.\n",
    "    \n",
    "    Returns\n",
    "    -------\n",
    "    A 5-tuple (str, str, str, str, str)\n",
    "    '''\n",
    "    \n",
    "    obs=json_data['history']['observations']\n",
    "    result=[]\n",
    "    for i in range(len(obs)):\n",
    "        month=obs[i]['date']['mon']\n",
    "        day=obs[i]['date']['mday']\n",
    "        hour=obs[i]['date']['hour']\n",
    "        minute=obs[i]['date']['min']\n",
    "        visi=obs[i]['visi']\n",
    "        one=(month,day,hour,minute,visi)\n",
    "        result.append(one)\n",
    "    return result"
   ]
  },
  {
   "cell_type": "code",
   "execution_count": 9,
   "metadata": {
    "collapsed": true
   },
   "outputs": [],
   "source": [
    "test_0101_visi = from_dict_to_visibility(test_0101_dict)\n",
    "assert_is_instance(test_0101_visi, list)\n",
    "assert_equal(len(test_0101_visi), 24)\n",
    "for item in test_0101_visi:\n",
    "    assert_is_instance(item, tuple)\n",
    "    assert_equal(len(item), 5) # month, day, hour, minute, visibility\n",
    "    assert_equal(item[0], '01')\n",
    "    assert_equal(item[1], '01')\n",
    "    \n",
    "test_0103_visi = from_dict_to_visibility(test_0103_dict)\n",
    "assert_is_instance(test_0103_visi, list)\n",
    "assert_equal(len(test_0103_visi), 34) # some days have more than one measurement per hour\n",
    "for item in test_0103_visi:\n",
    "    assert_is_instance(item, tuple)\n",
    "    assert_equal(len(item), 5)\n",
    "    assert_equal(item[0], '01')\n",
    "    assert_equal(item[1], '03')"
   ]
  },
  {
   "cell_type": "markdown",
   "metadata": {},
   "source": [
    "### Process all 365 files"
   ]
  },
  {
   "cell_type": "code",
   "execution_count": 10,
   "metadata": {},
   "outputs": [
    {
     "name": "stdout",
     "output_type": "stream",
     "text": [
      "The first five elements are ['0101', '0102', '0103', '0104', '0105']\n",
      "The last five elements are ['1227', '1228', '1229', '1230', '1231']\n"
     ]
    }
   ],
   "source": [
    "dates = ['{0:0>2}{1:0>2}'.format(m, d + 1) for m in [1, 3, 5, 7, 8, 10, 12] for d in range(31)]\n",
    "dates.extend(['{0:0>2}{1:0>2}'.format(m, d + 1) for m in [4, 6, 9, 11] for d in range(30)])\n",
    "dates.extend(['02{0:0>2}'.format(d + 1) for d in range(28)])\n",
    "dates.sort()\n",
    "\n",
    "assert_equal(len(dates), 365)\n",
    "\n",
    "print(\"The first five elements are {}\".format(dates[:5]))\n",
    "print(\"The last five elements are {}\".format(dates[-5:]))"
   ]
  },
  {
   "cell_type": "code",
   "execution_count": 11,
   "metadata": {
    "collapsed": true
   },
   "outputs": [],
   "source": [
    "def collect_365_days(dates):\n",
    "    '''\n",
    "    Uses from_json_to_dict() and from_dict_to_visiblility() to\n",
    "    generate a list of tuples of the form\n",
    "    (Month, Day, Hour, Minute, Visibility)\n",
    "    \n",
    "    Parameters\n",
    "    ----------\n",
    "    dates: A list of strings \"MMDD\"\n",
    "    \n",
    "    Returns\n",
    "    -------\n",
    "    A list of 5-tuples (str, str, str, str, str)\n",
    "    '''\n",
    "    \n",
    "    result=[]\n",
    "    for i in dates:\n",
    "        new=from_dict_to_visibility(from_json_to_dict(i))\n",
    "        result.append(new)\n",
    "    visibilities=[]\n",
    "    for j in result:\n",
    "        for k in j:\n",
    "            visibilities.append(k)\n",
    "    return visibilities"
   ]
  },
  {
   "cell_type": "code",
   "execution_count": 12,
   "metadata": {},
   "outputs": [
    {
     "name": "stdout",
     "output_type": "stream",
     "text": [
      "The length of visibilities is 10168.\n",
      "The first five elements of visibilities are [('01', '01', '00', '56', '9.0'), ('01', '01', '01', '56', '7.0'), ('01', '01', '02', '56', '10.0'), ('01', '01', '03', '56', '10.0'), ('01', '01', '04', '56', '9.0')]\n"
     ]
    }
   ],
   "source": [
    "visibilities = collect_365_days(dates)\n",
    "\n",
    "print(\"The length of visibilities is {}.\".format(len(visibilities)))\n",
    "print(\"The first five elements of visibilities are {}\".format(visibilities[:5]))"
   ]
  },
  {
   "cell_type": "code",
   "execution_count": 13,
   "metadata": {
    "collapsed": true
   },
   "outputs": [],
   "source": [
    "assert_is_instance(visibilities, list)\n",
    "assert_equal(len(visibilities), 10168)\n",
    "assert_equal(visibilities[:5],\n",
    "    [('01', '01', '00', '56', '9.0'),\n",
    "     ('01', '01', '01', '56', '7.0'),\n",
    "     ('01', '01', '02', '56', '10.0'),\n",
    "     ('01', '01', '03', '56', '10.0'),\n",
    "     ('01', '01', '04', '56', '9.0')]\n",
    "    )\n",
    "assert_equal(visibilities[-5:],\n",
    "    [('12', '31', '19', '56', '10.0'),\n",
    "     ('12', '31', '20', '56', '10.0'),\n",
    "     ('12', '31', '21', '56', '10.0'),\n",
    "     ('12', '31', '22', '56', '10.0'),\n",
    "     ('12', '31', '23', '56', '10.0')]\n",
    "    )"
   ]
  },
  {
   "cell_type": "code",
   "execution_count": 14,
   "metadata": {
    "collapsed": true
   },
   "outputs": [],
   "source": [
    "df = pd.read_csv('2001.csv', encoding='latin-1', usecols=(1, 2, 5, 8, 15, 16))"
   ]
  },
  {
   "cell_type": "code",
   "execution_count": 15,
   "metadata": {
    "collapsed": true
   },
   "outputs": [],
   "source": [
    "local = df[(df['Origin'] == 'ORD') & (df['UniqueCarrier'] == 'AA')]\n",
    "local = local.drop(['UniqueCarrier', 'Origin'], axis=1) \n",
    "local['Delayed'] = (local['DepDelay'] > 15).astype(np.int) \n",
    "local = local.drop('DepDelay', axis=1).dropna() "
   ]
  },
  {
   "cell_type": "markdown",
   "metadata": {},
   "source": [
    "### Convert strings to numbers"
   ]
  },
  {
   "cell_type": "code",
   "execution_count": 16,
   "metadata": {
    "collapsed": true
   },
   "outputs": [],
   "source": [
    "def from_string_to_numbers(visibilities):\n",
    "    '''\n",
    "    Takes a list of 5-tuples of strings.\n",
    "    Convert the strings into integers in the form `mmddHHMM`,\n",
    "    where `m` is month, `d` is day of month, `H` is hour, and `M` is minute.\n",
    "    Returns a pandas.DataFrame with two columns \"Time\" and \"Visibility\".\n",
    "    \n",
    "    Parameters\n",
    "    ----------\n",
    "    visibilities: A list of 5-tuple of strings.\n",
    "    \n",
    "    Returns\n",
    "    -------\n",
    "    A pandas.DataFrame\n",
    "    '''\n",
    "    \n",
    "    new=[]\n",
    "    for i in visibilities:\n",
    "        date=''.join(i)[:8]\n",
    "        visi=''.join(i)[8:]\n",
    "        anew=(date,visi)\n",
    "        new.append(anew)\n",
    "    result=pd.DataFrame(new,columns=('Time','Visibility'))\n",
    "    result['Time']=result.Time.astype('int64')\n",
    "    result['Visibility']=result.Visibility.astype('float64')\n",
    "    return result"
   ]
  },
  {
   "cell_type": "code",
   "execution_count": 127,
   "metadata": {},
   "outputs": [
    {
     "data": {
      "text/plain": [
       "dtype('int64')"
      ]
     },
     "execution_count": 127,
     "metadata": {},
     "output_type": "execute_result"
    }
   ],
   "source": [
    "time_visi = from_string_to_numbers(visibilities)\n",
    "time_visi.Visibility.unique()\n",
    "time_visi.Time.dtype"
   ]
  },
  {
   "cell_type": "code",
   "execution_count": 18,
   "metadata": {
    "collapsed": true
   },
   "outputs": [],
   "source": [
    "visi0 = [\n",
    "    ('01', '01', '06', '00', '1.0'),\n",
    "    ('02', '31', '08', '00', '2.0'),\n",
    "    ('10', '05', '07', '00', '3.0'),\n",
    "    ('12', '29', '09', '00', '4.0'),\n",
    "    ('09', '30', '23', '00', '5.0'),\n",
    "    ('07', '04', '12', '00', '6.0'),\n",
    "    ('05', '12', '15', '00', '7.0'),\n",
    "    ('11', '11', '18', '00', '8.0')\n",
    "]\n",
    "\n",
    "visi_answer = pd.DataFrame({\n",
    "    'Time': [1010600, 2310800, 10050700, 12290900,\n",
    "             9302300, 7041200, 5121500, 11111800],\n",
    "    'Visibility': [1., 2., 3., 4., 5., 6., 7., 8.]\n",
    "    })\n",
    "\n",
    "assert_frame_equal(from_string_to_numbers(visi0), visi_answer)"
   ]
  },
  {
   "cell_type": "code",
   "execution_count": 19,
   "metadata": {},
   "outputs": [
    {
     "data": {
      "text/html": [
       "<div>\n",
       "<style>\n",
       "    .dataframe thead tr:only-child th {\n",
       "        text-align: right;\n",
       "    }\n",
       "\n",
       "    .dataframe thead th {\n",
       "        text-align: left;\n",
       "    }\n",
       "\n",
       "    .dataframe tbody tr th {\n",
       "        vertical-align: top;\n",
       "    }\n",
       "</style>\n",
       "<table border=\"1\" class=\"dataframe\">\n",
       "  <thead>\n",
       "    <tr style=\"text-align: right;\">\n",
       "      <th></th>\n",
       "      <th>Month</th>\n",
       "      <th>DayofMonth</th>\n",
       "      <th>CRSDepTime</th>\n",
       "      <th>Delayed</th>\n",
       "    </tr>\n",
       "  </thead>\n",
       "  <tbody>\n",
       "    <tr>\n",
       "      <th>398444</th>\n",
       "      <td>1</td>\n",
       "      <td>1</td>\n",
       "      <td>1905</td>\n",
       "      <td>1</td>\n",
       "    </tr>\n",
       "    <tr>\n",
       "      <th>398445</th>\n",
       "      <td>1</td>\n",
       "      <td>2</td>\n",
       "      <td>1905</td>\n",
       "      <td>1</td>\n",
       "    </tr>\n",
       "    <tr>\n",
       "      <th>398446</th>\n",
       "      <td>1</td>\n",
       "      <td>3</td>\n",
       "      <td>1905</td>\n",
       "      <td>1</td>\n",
       "    </tr>\n",
       "    <tr>\n",
       "      <th>398447</th>\n",
       "      <td>1</td>\n",
       "      <td>4</td>\n",
       "      <td>1905</td>\n",
       "      <td>0</td>\n",
       "    </tr>\n",
       "    <tr>\n",
       "      <th>398448</th>\n",
       "      <td>1</td>\n",
       "      <td>5</td>\n",
       "      <td>1905</td>\n",
       "      <td>1</td>\n",
       "    </tr>\n",
       "  </tbody>\n",
       "</table>\n",
       "</div>"
      ],
      "text/plain": [
       "        Month  DayofMonth  CRSDepTime  Delayed\n",
       "398444      1           1        1905        1\n",
       "398445      1           2        1905        1\n",
       "398446      1           3        1905        1\n",
       "398447      1           4        1905        0\n",
       "398448      1           5        1905        1"
      ]
     },
     "execution_count": 19,
     "metadata": {},
     "output_type": "execute_result"
    }
   ],
   "source": [
    "local.head()"
   ]
  },
  {
   "cell_type": "markdown",
   "metadata": {},
   "source": [
    "### Create a Time column"
   ]
  },
  {
   "cell_type": "code",
   "execution_count": 20,
   "metadata": {
    "collapsed": true
   },
   "outputs": [],
   "source": [
    "def combine_time(df):\n",
    "    '''\n",
    "    Combines \"Month\", \"DayofMonth\", and \"CRSDepTime\" in the form mmddHHMM.\n",
    "    Creates a new column named \"Time\".\n",
    "    \n",
    "    Parameters\n",
    "    ----------\n",
    "    df: A pandas.DataFrame\n",
    "    \n",
    "    Returns\n",
    "    -------\n",
    "    A pandas.DataFrame\n",
    "    '''\n",
    "    \n",
    "    new=df.astype(str)\n",
    "    new['DayofMonth']=new.DayofMonth.apply(lambda x: x.zfill(2))\n",
    "    new['CRSDepTime']=new.CRSDepTime.apply(lambda x: x.zfill(4))\n",
    "    new['Time']=new.Month+new.DayofMonth+new.CRSDepTime\n",
    "    new=new.astype('int64')\n",
    "    return new"
   ]
  },
  {
   "cell_type": "code",
   "execution_count": 21,
   "metadata": {},
   "outputs": [
    {
     "name": "stdout",
     "output_type": "stream",
     "text": [
      "        Month  DayofMonth  CRSDepTime  Delayed     Time\n",
      "398444      1           1        1905        1  1011905\n",
      "398445      1           2        1905        1  1021905\n",
      "398446      1           3        1905        1  1031905\n",
      "398447      1           4        1905        0  1041905\n",
      "398448      1           5        1905        1  1051905\n"
     ]
    },
    {
     "data": {
      "text/plain": [
       "dtype('int64')"
      ]
     },
     "execution_count": 21,
     "metadata": {},
     "output_type": "execute_result"
    }
   ],
   "source": [
    "time_delayed = combine_time(local)\n",
    "print(time_delayed.head())\n",
    "time_delayed.Time.dtype"
   ]
  },
  {
   "cell_type": "code",
   "execution_count": 22,
   "metadata": {
    "collapsed": true
   },
   "outputs": [],
   "source": [
    "df0 = pd.DataFrame({\n",
    "    'Month':      [  1,   2,  10,   12,   9,     7,    5,   11],\n",
    "    'DayofMonth': [  1,  31,   5,   29,  30,     4,   12,   11],\n",
    "    'CRSDepTime': [600, 800, 700,  900, 2300, 1200, 1500, 1800]\n",
    "    })\n",
    "\n",
    "df_answer = df0.join(pd.DataFrame({\n",
    "    'Time': [1010600, 2310800, 10050700, 12290900, 9302300, 7041200, 5121500, 11111800]\n",
    "    }))\n",
    "\n",
    "assert_is_not(combine_time(df0), df0)\n",
    "assert_frame_equal(combine_time(df0), df_answer)"
   ]
  },
  {
   "cell_type": "code",
   "execution_count": 23,
   "metadata": {},
   "outputs": [
    {
     "name": "stdout",
     "output_type": "stream",
     "text": [
      "        Month  DayofMonth  CRSDepTime  Delayed     Time  Visibility\n",
      "398444      1           1        1905        1  1011905        10.0\n",
      "398445      1           2        1905        1  1021905         9.0\n",
      "398446      1           3        1905        1  1031905         5.0\n",
      "398447      1           4        1905        0  1041905         7.0\n",
      "398448      1           5        1905        1  1051905        10.0\n"
     ]
    }
   ],
   "source": [
    "def match_visibility(df_delayed, df_visibility):\n",
    "    result = df_delayed.copy()\n",
    "    for idx, row in result.iterrows():\n",
    "        matched = (row['Time'] - df_visibility['Time']).abs().idxmin()\n",
    "        result.loc[idx, 'Visibility'] = df_visibility.loc[matched, 'Visibility']\n",
    "    return result\n",
    "\n",
    "local_visi = match_visibility(time_delayed, time_visi)\n",
    "\n",
    "print(local_visi.head())"
   ]
  },
  {
   "cell_type": "code",
   "execution_count": 24,
   "metadata": {},
   "outputs": [
    {
     "name": "stdout",
     "output_type": "stream",
     "text": [
      "        CRSDepTime  Delayed  Visibility\n",
      "398444        1905        1        10.0\n",
      "398445        1905        1         9.0\n",
      "398446        1905        1         5.0\n",
      "398447        1905        0         7.0\n",
      "398448        1905        1        10.0\n"
     ]
    }
   ],
   "source": [
    "local_visi = local_visi.drop(['Month', 'DayofMonth', 'Time'], axis=1)\n",
    "print(local_visi.head())"
   ]
  },
  {
   "cell_type": "markdown",
   "metadata": {},
   "source": [
    "### Split"
   ]
  },
  {
   "cell_type": "code",
   "execution_count": 26,
   "metadata": {
    "collapsed": true
   },
   "outputs": [],
   "source": [
    "def split(df, test_column, test_size, random_state):\n",
    "    '''\n",
    "    Uses sklearn.train_test_split to split \"df\" into a testing set and a test set.\n",
    "    The \"test_columns\" lists the column that we are trying to predict.\n",
    "    All columns in \"df\" except \"test_columns\" will be used for training.\n",
    "    The \"test_size\" should be between 0.0 and 1.0 and represents the proportion of the\n",
    "    dataset to include in the test split.\n",
    "    The \"random_state\" parameter is used in sklearn.train_test_split.\n",
    "    \n",
    "    Parameters\n",
    "    ----------\n",
    "    df: A pandas.DataFrame\n",
    "    test_columns: A list of strings\n",
    "    test_size: A float\n",
    "    random_state: A numpy.random.RandomState instance\n",
    "    \n",
    "    Returns\n",
    "    -------\n",
    "    A 4-tuple of pandas.DataFrames\n",
    "    '''\n",
    "    \n",
    "    x=df.drop(test_column, axis=1)\n",
    "    y=df[test_column]\n",
    "    (X_train, X_test, y_train, y_test) = train_test_split(x, y, test_size=test_size,random_state=random_state)\n",
    "    X_train=np.array(X_train)\n",
    "    X_test=np.array(X_test)\n",
    "    y_train=np.array(y_train).flatten()\n",
    "    y_test=np.array(y_test).flatten()\n",
    "    return X_train, X_test, y_train, y_test"
   ]
  },
  {
   "cell_type": "code",
   "execution_count": 27,
   "metadata": {
    "collapsed": true
   },
   "outputs": [],
   "source": [
    "X_train, X_test, y_train, y_test = split(\n",
    "    df=local_visi,\n",
    "    test_column=['Delayed'],\n",
    "    test_size=0.2,\n",
    "    random_state=check_random_state(0)\n",
    "    )"
   ]
  },
  {
   "cell_type": "markdown",
   "metadata": {},
   "source": [
    "### Train a Decision Trees model"
   ]
  },
  {
   "cell_type": "code",
   "execution_count": 33,
   "metadata": {
    "collapsed": true
   },
   "outputs": [],
   "source": [
    "def fit_and_predict(X_train, y_train, X_test, random_state):\n",
    "    '''\n",
    "    Fits Decision Trees.\n",
    "    \n",
    "    Parameters\n",
    "    ----------\n",
    "    X: A pandas.DataFrame. Training attributes.\n",
    "    y: A pandas.DataFrame. Truth labels.\n",
    "    \n",
    "    Returns\n",
    "    -------\n",
    "    A numpy array.\n",
    "    '''\n",
    "    \n",
    "    dtc = tree.DecisionTreeClassifier(random_state=random_state)\n",
    "    dtc.fit(X_train, y_train)\n",
    "    prediction=dtc.predict(X_test)\n",
    "    return prediction"
   ]
  },
  {
   "cell_type": "code",
   "execution_count": 34,
   "metadata": {},
   "outputs": [
    {
     "name": "stdout",
     "output_type": "stream",
     "text": [
      "The accuracy score is 0.82.\n"
     ]
    }
   ],
   "source": [
    "y_pred = fit_and_predict(X_train, y_train, X_test, random_state=check_random_state(0))\n",
    "accuracy = accuracy_score(y_test, y_pred)\n",
    "print('The accuracy score is {:0.2f}.'.format(accuracy))"
   ]
  },
  {
   "cell_type": "code",
   "execution_count": 36,
   "metadata": {
    "collapsed": true
   },
   "outputs": [],
   "source": [
    "assert_is_instance(y_pred, np.ndarray)\n",
    "assert_equal(len(y_pred), len(y_test))\n",
    "assert_almost_equal(accuracy, 0.817207853501)"
   ]
  }
 ],
 "metadata": {
  "kernelspec": {
   "display_name": "Python 3",
   "language": "python",
   "name": "python3"
  },
  "language_info": {
   "codemirror_mode": {
    "name": "ipython",
    "version": 3
   },
   "file_extension": ".py",
   "mimetype": "text/x-python",
   "name": "python",
   "nbconvert_exporter": "python",
   "pygments_lexer": "ipython3",
   "version": "3.6.1"
  }
 },
 "nbformat": 4,
 "nbformat_minor": 2
}
