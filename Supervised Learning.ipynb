{
 "cells": [
  {
   "cell_type": "markdown",
   "metadata": {},
   "source": [
    "## Nearest Neighbor"
   ]
  },
  {
   "cell_type": "code",
   "execution_count": 52,
   "metadata": {
    "collapsed": true
   },
   "outputs": [],
   "source": [
    "% matplotlib inline\n",
    "\n",
    "import seaborn as sns\n",
    "import matplotlib as mpl\n",
    "import matplotlib.pyplot as plt\n",
    "import numpy as np\n",
    "import pandas as pd\n",
    "\n",
    "from sklearn import neighbors\n",
    "from sklearn.cross_validation import train_test_split\n",
    "from sklearn.utils import check_random_state\n",
    "from sklearn.metrics import accuracy_score\n",
    "\n",
    "from nose.tools import assert_equal, assert_in, assert_is_not\n",
    "from numpy.testing import assert_array_equal, assert_array_almost_equal\n",
    "from pandas.util.testing import assert_frame_equal, assert_index_equal\n",
    "\n",
    "sns.set(style=\"white\")"
   ]
  },
  {
   "cell_type": "code",
   "execution_count": 54,
   "metadata": {
    "collapsed": true
   },
   "outputs": [],
   "source": [
    "df = pd.read_csv('2001.csv', encoding='latin-1', usecols=(1, 2, 3, 5, 7, 15, 16, 18))"
   ]
  },
  {
   "cell_type": "code",
   "execution_count": 55,
   "metadata": {
    "collapsed": true
   },
   "outputs": [],
   "source": [
    "local = df[df['Origin'] == 'ORD']\n",
    "local = local.drop('Origin', axis=1)\n",
    "local['Delayed'] = (local['DepDelay'] >= 15).astype(np.int) \n",
    "local = local.drop('DepDelay', axis=1).dropna() "
   ]
  },
  {
   "cell_type": "code",
   "execution_count": 56,
   "metadata": {},
   "outputs": [
    {
     "name": "stdout",
     "output_type": "stream",
     "text": [
      "      Month  DayofMonth  DayOfWeek  CRSDepTime  CRSArrTime  Distance  Delayed\n",
      "6367      1           1          1         951        1235       599        0\n",
      "6368      1           2          2         951        1235       599        0\n",
      "6369      1           3          3         951        1235       599        0\n",
      "6370      1           4          4         951        1235       599        1\n",
      "6371      1           5          5         951        1235       599        0\n"
     ]
    }
   ],
   "source": [
    "print(local.head(5))"
   ]
  },
  {
   "cell_type": "code",
   "execution_count": 62,
   "metadata": {
    "collapsed": true
   },
   "outputs": [],
   "source": [
    "def split(df, test_column, test_size, random_state):\n",
    "    '''\n",
    "    Uses sklearn.train_test_split to split \"df\" into a testing set and a test set.\n",
    "    The \"test_columns\" lists the column that we are trying to predict.\n",
    "    All columns in \"df\" except \"test_columns\" will be used for training.\n",
    "    The \"test_size\" should be between 0.0 and 1.0 and represents the proportion of the\n",
    "    dataset to include in the test split.\n",
    "    The \"random_state\" parameter is used in sklearn.train_test_split.\n",
    "    \n",
    "    Parameters\n",
    "    ----------\n",
    "    df: A pandas.DataFrame\n",
    "    test_columns: A list of strings\n",
    "    test_size: A float\n",
    "    random_state: A numpy.random.RandomState instance\n",
    "    \n",
    "    Returns\n",
    "    -------\n",
    "    A 4-tuple of pandas.DataFrames\n",
    "    '''\n",
    "    x=df.drop(test_column, axis=1)\n",
    "    y=df[test_column]\n",
    "    (X_train, X_test, y_train, y_test) = train_test_split(x, y, test_size=test_size,random_state=random_state)\n",
    "    return X_train, X_test, y_train, y_test"
   ]
  },
  {
   "cell_type": "code",
   "execution_count": 63,
   "metadata": {
    "collapsed": true
   },
   "outputs": [],
   "source": [
    "X_train_valid, X_test, y_train_valid, y_test = split(\n",
    "    df=local,\n",
    "    test_column=['Delayed'],\n",
    "    test_size=0.2,\n",
    "    random_state=check_random_state(0)\n",
    "    )"
   ]
  },
  {
   "cell_type": "code",
   "execution_count": 64,
   "metadata": {
    "collapsed": true
   },
   "outputs": [],
   "source": [
    "assert_equal(isinstance(X_train_valid, pd.DataFrame), True)\n",
    "assert_equal(isinstance(X_test, pd.DataFrame), True)\n",
    "assert_equal(isinstance(y_train_valid, pd.DataFrame), True)\n",
    "assert_equal(isinstance(y_test, pd.DataFrame), True)\n",
    "\n",
    "assert_equal(len(X_train_valid) - np.round(len(local) * 0.8) <= 1, True)\n",
    "assert_equal(len(X_test) - np.round(len(local) * 0.2) <= 1, True)\n",
    "assert_equal(len(y_train_valid) - np.round(len(local) * 0.8) <= 1, True)\n",
    "assert_equal(len(y_test) - np.round(len(local) * 0.2) <= 1, True)\n",
    "\n",
    "assert_index_equal(X_train_valid.columns, local.columns.drop('Delayed'))\n",
    "assert_index_equal(X_test.columns, local.columns.drop('Delayed'))\n",
    "assert_equal(y_train_valid.columns, pd.Index(['Delayed']))\n",
    "assert_equal(y_test.columns, pd.Index(['Delayed']))"
   ]
  },
  {
   "cell_type": "code",
   "execution_count": 65,
   "metadata": {
    "collapsed": true
   },
   "outputs": [],
   "source": [
    "X_train, X_valid, y_train, y_valid = split(\n",
    "    df=X_train_valid.join(y_train_valid),\n",
    "        test_column=['Delayed'],\n",
    "    test_size=0.25,\n",
    "    random_state=check_random_state(0)\n",
    "    )"
   ]
  },
  {
   "cell_type": "code",
   "execution_count": 66,
   "metadata": {
    "collapsed": true
   },
   "outputs": [],
   "source": [
    "assert_equal(len(X_train) - np.round(len(local) * 0.6) <= 1, True)\n",
    "assert_equal(len(X_valid) - np.round(len(local) * 0.2) <= 1, True)\n",
    "assert_equal(len(y_train) - np.round(len(local) * 0.6) <= 1, True)\n",
    "assert_equal(len(X_valid) - np.round(len(local) * 0.2) <= 1, True)\n",
    "\n",
    "assert_index_equal(X_train.index[:5], pd.Int64Index([5903153, 1200840, 4524718, 2419368, 4017270]))\n",
    "assert_index_equal(X_valid.index[:5], pd.Int64Index([722372, 3342898, 4673529,  896758, 1744337]))\n",
    "assert_index_equal(y_train.index, X_train.index)\n",
    "assert_index_equal(y_valid.index, X_valid.index)"
   ]
  },
  {
   "cell_type": "code",
   "execution_count": 67,
   "metadata": {},
   "outputs": [
    {
     "name": "stdout",
     "output_type": "stream",
     "text": [
      "Month           1\n",
      "DayofMonth      1\n",
      "DayOfWeek       1\n",
      "CRSDepTime    530\n",
      "CRSArrTime      1\n",
      "Distance       67\n",
      "Delayed         0\n",
      "dtype: int64\n"
     ]
    }
   ],
   "source": [
    "print(local.min())"
   ]
  },
  {
   "cell_type": "code",
   "execution_count": 68,
   "metadata": {},
   "outputs": [
    {
     "name": "stdout",
     "output_type": "stream",
     "text": [
      "Month           12\n",
      "DayofMonth      31\n",
      "DayOfWeek        7\n",
      "CRSDepTime    2245\n",
      "CRSArrTime    2359\n",
      "Distance      4243\n",
      "Delayed          1\n",
      "dtype: int64\n"
     ]
    }
   ],
   "source": [
    "print(local.max())"
   ]
  },
  {
   "cell_type": "code",
   "execution_count": 71,
   "metadata": {
    "collapsed": true
   },
   "outputs": [],
   "source": [
    "def normalize(df):\n",
    "    '''\n",
    "    Takes a dataframe and normlizes features to be in range [0, 1].\n",
    "    \n",
    "    Parameters\n",
    "    ----------\n",
    "    df: A pandas.DataFrame\n",
    "    \n",
    "    Returns\n",
    "    -------\n",
    "    A pandas.DataFrame\n",
    "    '''\n",
    "    new=(df-df.min())/(df.max()-df.min())\n",
    "    return new"
   ]
  },
  {
   "cell_type": "code",
   "execution_count": 72,
   "metadata": {},
   "outputs": [
    {
     "name": "stdout",
     "output_type": "stream",
     "text": [
      "Month         0.0\n",
      "DayofMonth    0.0\n",
      "DayOfWeek     0.0\n",
      "CRSDepTime    0.0\n",
      "CRSArrTime    0.0\n",
      "Distance      0.0\n",
      "dtype: float64\n"
     ]
    }
   ],
   "source": [
    "X_train_normal, X_valid_normal = map(normalize, [X_train, X_valid])\n",
    "print(X_train_normal.min())"
   ]
  },
  {
   "cell_type": "code",
   "execution_count": 73,
   "metadata": {},
   "outputs": [
    {
     "name": "stdout",
     "output_type": "stream",
     "text": [
      "Month         1.0\n",
      "DayofMonth    1.0\n",
      "DayOfWeek     1.0\n",
      "CRSDepTime    1.0\n",
      "CRSArrTime    1.0\n",
      "Distance      1.0\n",
      "dtype: float64\n"
     ]
    }
   ],
   "source": [
    "print(X_train_normal.max())"
   ]
  },
  {
   "cell_type": "code",
   "execution_count": 74,
   "metadata": {
    "collapsed": true
   },
   "outputs": [],
   "source": [
    "df0 = pd.DataFrame({\n",
    "    'a': [0, 1, 2, 3, 4],\n",
    "    'b': [-50, -20, 10, 45, 50],\n",
    "    'c': [-200, 450, 100, 500, -500]\n",
    "    })\n",
    "\n",
    "test1 = normalize(df0)\n",
    "answer1 = pd.DataFrame({\n",
    "    'a': [0., 0.25, 0.5, 0.75, 1.],\n",
    "    'b': [0., 0.3, 0.6, 0.95, 1.],\n",
    "    'c': [0.3, 0.95, 0.6, 1., 0.]\n",
    "    })\n",
    "assert_frame_equal(test1, answer1)"
   ]
  },
  {
   "cell_type": "code",
   "execution_count": 77,
   "metadata": {
    "collapsed": true
   },
   "outputs": [],
   "source": [
    "def train_knn(X, y, n_neighbors):\n",
    "    '''\n",
    "    Fits a $k$-Nearest Neighbors on the training data.\n",
    "    Returns the trained model (an `sklearn.neighbors.KNeighborsClassifier` object).\n",
    "    \n",
    "    Parameters\n",
    "    ----------\n",
    "    X: A pandas.DataFrame. Training attributes.\n",
    "    y: A pandas.DataFrame. Truth labels.\n",
    "    n_neighbors: Number of neighbors to use in kNN.\n",
    "    \n",
    "    Returns\n",
    "    -------\n",
    "    An sklearn.neighbors.KNeighborsClassifier object.\n",
    "    '''\n",
    "    knc = neighbors.KNeighborsClassifier(n_neighbors=n_neighbors)\n",
    "    knc.fit(X, y)\n",
    "    return knc"
   ]
  },
  {
   "cell_type": "code",
   "execution_count": 78,
   "metadata": {
    "collapsed": true
   },
   "outputs": [],
   "source": [
    "test_X_train = pd.DataFrame({\n",
    "    'a': np.random.rand(100),\n",
    "    'b': np.random.rand(100)\n",
    "    })\n",
    "test_y_train = pd.DataFrame({\n",
    "    'y': np.floor(np.random.rand(100) * 2)\n",
    "    })\n",
    "\n",
    "test2 = train_knn(test_X_train, test_y_train, 1)\n",
    "\n",
    "assert_equal(isinstance(test2, neighbors.KNeighborsClassifier), True)\n",
    "assert_equal(test2.n_neighbors, 1)\n",
    "assert_array_almost_equal(test2._fit_X, test_X_train)\n",
    "assert_array_equal(test2._y, test_y_train.values.ravel())\n",
    "\n",
    "# test with different n_neighbors\n",
    "test3 = train_knn(test_X_train, test_y_train, 5)\n",
    "assert_equal(test3.n_neighbors, 5)\n",
    "assert_array_almost_equal(test3._fit_X, test_X_train)\n",
    "assert_array_equal(test3._y, test_y_train.values.ravel())"
   ]
  },
  {
   "cell_type": "code",
   "execution_count": 91,
   "metadata": {
    "collapsed": true
   },
   "outputs": [],
   "source": [
    "def predict_knn(model, X):\n",
    "    '''\n",
    "    Fits an `sklearn.neighbors.KNeighborsClassifier` model on `X` and\n",
    "    returns a `numpy.ndarray` of predicted values.\n",
    "    \n",
    "    Parameters\n",
    "    ----------\n",
    "    model: An sklearn.neighbors.KNeighborsClassifier object.\n",
    "    X: pandas.DataFrame\n",
    "    \n",
    "    Returns\n",
    "    -------\n",
    "    A pandas.DataFrame. Has one column \"Delayed\".\n",
    "    '''\n",
    "    z = model.predict(X)\n",
    "    prediction=pd.DataFrame(z,columns=['Delayed'])\n",
    "    return prediction"
   ]
  },
  {
   "cell_type": "code",
   "execution_count": 92,
   "metadata": {
    "collapsed": true
   },
   "outputs": [],
   "source": [
    "test4_model = train_knn(X_train, y_train, 1)\n",
    "test4 = predict_knn(test4_model, X_valid)[:10]\n",
    "answer4 = pd.DataFrame({\n",
    "    'Delayed': [1, 0, 0, 1, 0, 1, 0, 0, 1, 0]\n",
    "    })\n",
    "\n",
    "assert_equal(isinstance(test4, pd.DataFrame), True)\n",
    "assert_frame_equal(test4, answer4)\n",
    "\n",
    "test5_model = train_knn(X_train, y_train, 3)\n",
    "test5 = predict_knn(test5_model, X_valid)[:10]\n",
    "answer5 = pd.DataFrame({\n",
    "    'Delayed': [1, 0, 1, 0, 0, 0, 0, 0, 0, 0]\n",
    "\n",
    "    })\n",
    "assert_frame_equal(test5, answer5)\n",
    "\n",
    "test6_model = train_knn(X_train, y_train, 5)\n",
    "test6 = predict_knn(test6_model, X_valid)[:10]\n",
    "answer6 = pd.DataFrame({\n",
    "    'Delayed': [0, 0, 0, 0, 0, 0, 0, 0, 0, 0]\n",
    "\n",
    "    })\n",
    "assert_frame_equal(test6, answer6)"
   ]
  },
  {
   "cell_type": "code",
   "execution_count": 102,
   "metadata": {
    "collapsed": true
   },
   "outputs": [],
   "source": [
    "def compute_accuracy(X_train, X_valid, y_train, y_valid, start=1, end=51):\n",
    "    '''\n",
    "    Find accuracy scores for kNN classifers\n",
    "    with n_neighbors = start, start + 1, start + 2, ..., end - 1.\n",
    "    Returns a Numpy array of length end - start.\n",
    "    For example, if start=1 and end=4, then len(scores) = 3, and\n",
    "    scores[0] cooresponds to the accuracy of kNN with k=1,\n",
    "    scores[1] the accuracy of kNN with k=2, ..., and\n",
    "    scores[2] the accuracy of KNN with k=3.\n",
    "    \n",
    "    \n",
    "    Parameters\n",
    "    ----------\n",
    "    X_train: A pandas.DataFrame\n",
    "    X_valid: A pandas.DataFrame\n",
    "    y_train: A pandas.DataFrame\n",
    "    y_valid: A pandas.DataFrame\n",
    "    start: An int.\n",
    "    end: An int.\n",
    "    \n",
    "    Returns\n",
    "    -------\n",
    "    A numpy.ndarray\n",
    "    '''\n",
    "    scores=np.empty(0)\n",
    "    for nbrs in range(start,end):\n",
    "        knc = neighbors.KNeighborsClassifier(n_neighbors=nbrs)\n",
    "        knc.fit(X_train, y_train)\n",
    "        score=knc.score(X_valid, y_valid)\n",
    "        scores=np.append(scores,score)\n",
    "    return scores"
   ]
  },
  {
   "cell_type": "code",
   "execution_count": 103,
   "metadata": {
    "collapsed": true
   },
   "outputs": [],
   "source": [
    "test6 = compute_accuracy(X_train, X_valid, y_train, y_valid, 2, 5)\n",
    "assert_array_almost_equal(test6, [0.78034487, 0.74846536, 0.78298197])"
   ]
  },
  {
   "cell_type": "code",
   "execution_count": 104,
   "metadata": {},
   "outputs": [
    {
     "name": "stdout",
     "output_type": "stream",
     "text": [
      "The best model: k = 48\n"
     ]
    }
   ],
   "source": [
    "scores = compute_accuracy(X_train, X_valid, y_train, y_valid, 1, 51)\n",
    "k_best = np.argmax(scores) + 1\n",
    "print('The best model: k = {}'.format(k_best))"
   ]
  },
  {
   "cell_type": "code",
   "execution_count": 105,
   "metadata": {},
   "outputs": [
    {
     "name": "stdout",
     "output_type": "stream",
     "text": [
      "The accuracy of k-Nearest Neighbors is 82.0%.\n"
     ]
    }
   ],
   "source": [
    "X_train_valid_normal, X_test_normal = map(normalize, [X_train_valid, X_test])\n",
    "\n",
    "final_model = train_knn(X_train_valid_normal, y_train_valid, n_neighbors=k_best)\n",
    "y_pred = predict_knn(final_model, X_test_normal)\n",
    "\n",
    "accuracy = accuracy_score(y_test, y_pred)\n",
    "print(\"The accuracy of k-Nearest Neighbors is {:2.1f}%.\".format(accuracy * 100))"
   ]
  },
  {
   "cell_type": "code",
   "execution_count": 142,
   "metadata": {
    "collapsed": true
   },
   "outputs": [],
   "source": [
    "def plot_confusion(): \n",
    "    '''\n",
    "    Plots a confusion matrix using numpy.histogram2d() and seaborn.heatmap().\n",
    "    Returns a maptlotlib.axes.Axes instance.\n",
    "    '''\n",
    "    fig, ax = plt.subplots()\n",
    "    names = ['Not delayed', 'Delayed']\n",
    "    pts, xe, ye = np.histogram2d(np.array(y_test).flatten(), np.array(y_pred).flatten(), bins=2)\n",
    "    pd_pts = pd.DataFrame(pts.astype(int), index=names, columns=names )\n",
    "    hm = sns.heatmap(pd_pts, annot=True, fmt=\"d\")\n",
    "    hm.axes.set_title('Confusion matrix for KNN (k=48)')\n",
    "    return ax"
   ]
  },
  {
   "cell_type": "code",
   "execution_count": 144,
   "metadata": {},
   "outputs": [
    {
     "data": {
      "image/png": "[encoded data removed]",
      "text/plain": [
       "<matplotlib.figure.Figure at 0x1179aae48>"
      ]
     },
     "metadata": {},
     "output_type": "display_data"
    }
   ],
   "source": [
    "ax=plot_confusion()"
   ]
  },
  {
   "cell_type": "code",
   "execution_count": 145,
   "metadata": {
    "collapsed": true
   },
   "outputs": [],
   "source": [
    "assert_equal(isinstance(ax, mpl.axes.Axes), True, msg=\"Your function should return a matplotlib.axes.Axes object.\")\n",
    "\n",
    "texts = [t.get_text() for t in ax.texts]\n",
    "assert_equal(texts, ['10558', '3370', '52604', '1725'])\n",
    "             \n",
    "x_tick_labels = [l.get_text() for l in ax.get_xticklabels()]\n",
    "y_tick_labels = [l.get_text() for l in ax.get_yticklabels()]\n",
    "assert_equal(y_tick_labels, ['Delayed', 'Not delayed'])\n",
    "\n",
    "assert_is_not(len(ax.title.get_text()), 0, msg=\"Your plot doesn't have a title.\")"
   ]
  },
  {
   "cell_type": "markdown",
   "metadata": {},
   "source": [
    "## Support Vector Machine"
   ]
  },
  {
   "cell_type": "code",
   "execution_count": 2,
   "metadata": {
    "collapsed": true
   },
   "outputs": [],
   "source": [
    "% matplotlib inline\n",
    "\n",
    "import seaborn as sns\n",
    "import matplotlib as mpl\n",
    "import matplotlib.pyplot as plt\n",
    "import numpy as np\n",
    "import pandas as pd\n",
    "\n",
    "from sklearn import svm, preprocessing\n",
    "from sklearn.cross_validation import train_test_split\n",
    "from sklearn.utils import check_random_state\n",
    "from sklearn.metrics import accuracy_score\n",
    "\n",
    "from nose.tools import assert_equal, assert_in, assert_is_not\n",
    "from numpy.testing import assert_array_equal, assert_array_almost_equal, assert_almost_equal\n",
    "from pandas.util.testing import assert_frame_equal, assert_index_equal\n",
    "\n",
    "sns.set(style=\"white\")"
   ]
  },
  {
   "cell_type": "code",
   "execution_count": 3,
   "metadata": {
    "collapsed": true
   },
   "outputs": [],
   "source": [
    "df = pd.read_csv('2001.csv', encoding='latin-1', usecols=(5, 8, 15, 16, 18))"
   ]
  },
  {
   "cell_type": "code",
   "execution_count": 4,
   "metadata": {
    "collapsed": true
   },
   "outputs": [],
   "source": [
    "local = df[(df['Origin'] == 'ORD') & (df['UniqueCarrier'] == 'AA')]\n",
    "local = local.drop(['UniqueCarrier', 'Origin'], axis=1) \n",
    "local['Delayed'] = (local['DepDelay'] > 0).astype(np.int) \n",
    "local = local.drop('DepDelay', axis=1).dropna() "
   ]
  },
  {
   "cell_type": "code",
   "execution_count": 6,
   "metadata": {},
   "outputs": [
    {
     "name": "stdout",
     "output_type": "stream",
     "text": [
      "Delayed: 61932\n",
      "Not delayed: 44006\n"
     ]
    }
   ],
   "source": [
    "print('Delayed: {}\\nNot delayed: {}'.format(\n",
    "    (local.Delayed == 0).sum(),\n",
    "    (local.Delayed == 1).sum()\n",
    "    ))"
   ]
  },
  {
   "cell_type": "code",
   "execution_count": 6,
   "metadata": {},
   "outputs": [
    {
     "name": "stdout",
     "output_type": "stream",
     "text": [
      "        CRSDepTime  Distance  Delayed\n",
      "398444        1905      1846        1\n",
      "398445        1905      1846        1\n",
      "398446        1905      1846        1\n",
      "398447        1905      1846        0\n",
      "398448        1905      1846        1\n"
     ]
    }
   ],
   "source": [
    "print(local.head(5))"
   ]
  },
  {
   "cell_type": "code",
   "execution_count": 5,
   "metadata": {
    "collapsed": true
   },
   "outputs": [],
   "source": [
    "def split(df, test_column, test_size, random_state):\n",
    "    '''\n",
    "    Uses sklearn.train_test_split to split \"df\" into a testing set and a test set.\n",
    "    The \"test_columns\" lists the column that we are trying to predict.\n",
    "    All columns in \"df\" except \"test_columns\" will be used for training.\n",
    "    The \"test_size\" should be between 0.0 and 1.0 and represents the proportion of the\n",
    "    dataset to include in the test split.\n",
    "    The \"random_state\" parameter is used in sklearn.train_test_split.\n",
    "    \n",
    "    Parameters\n",
    "    ----------\n",
    "    df: A pandas.DataFrame\n",
    "    test_columns: A list of strings\n",
    "    test_size: A float\n",
    "    random_state: A numpy.random.RandomState instance\n",
    "    \n",
    "    Returns\n",
    "    -------\n",
    "    A 4-tuple of numpy.ndarrays\n",
    "    '''\n",
    "    x=df.drop(test_column, axis=1)\n",
    "    y=df[test_column]\n",
    "    (X_train, X_test, y_train, y_test) = train_test_split(x, y, test_size=test_size,random_state=random_state)\n",
    "    X_train=np.array(X_train)\n",
    "    X_test=np.array(X_test)\n",
    "    y_train=np.array(y_train).flatten()\n",
    "    y_test=np.array(y_test).flatten()\n",
    "    return X_train, X_test, y_train, y_test"
   ]
  },
  {
   "cell_type": "code",
   "execution_count": 6,
   "metadata": {
    "collapsed": true
   },
   "outputs": [],
   "source": [
    "X_train, X_test, y_train, y_test = split(\n",
    "    df=local,\n",
    "    test_column=['Delayed'],\n",
    "    test_size=0.4,\n",
    "    random_state=check_random_state(0)\n",
    "    )"
   ]
  },
  {
   "cell_type": "code",
   "execution_count": 7,
   "metadata": {
    "collapsed": true
   },
   "outputs": [],
   "source": [
    "n_samples_train, n_features_train = X_train.shape\n",
    "n_samples_test, n_features_test = X_test.shape\n",
    "\n",
    "assert_equal(n_features_train, 2)\n",
    "assert_equal(n_features_test, 2)\n",
    "n_features = n_features_train\n",
    "\n",
    "assert_equal(np.abs(n_samples_train - np.round(len(local) * 0.6)) <= 1, True)\n",
    "assert_equal(np.abs(n_samples_test - np.round(len(local) * 0.4)) <= 1, True)\n",
    "\n",
    "assert_array_equal(X_train[:5],\n",
    "    np.array(\n",
    "        [[ 1500.,  1846.],\n",
    "         [ 1415.,   802.],\n",
    "         [ 1138.,   409.],\n",
    "         [ 1649.,   723.],\n",
    "         [ 1835.,   678.]]\n",
    "        ))\n",
    "assert_array_equal(X_test[:5],\n",
    "    np.array(\n",
    "        [[  645.,  1745.],\n",
    "         [  620.,   622.],\n",
    "         [  645.,  1745.],\n",
    "         [ 2040.,   678.],\n",
    "         [  835.,   268.]]\n",
    "        ))\n",
    "\n",
    "assert_array_equal(y_train[:10], np.array([1, 0, 1, 0, 1, 1, 1, 1, 0, 1]))\n",
    "assert_array_equal(y_test[:10], np.array([1, 1, 0, 0, 0, 0, 0, 1, 1, 1]))\n"
   ]
  },
  {
   "cell_type": "code",
   "execution_count": 29,
   "metadata": {
    "collapsed": true
   },
   "outputs": [],
   "source": [
    "def standardize(df):\n",
    "    '''\n",
    "    Takes a dataframe and normlizes features to be in range [0, 1].\n",
    "    \n",
    "    Parameters\n",
    "    ----------\n",
    "    df: A pandas.DataFrame\n",
    "    \n",
    "    Returns\n",
    "    -------\n",
    "    A pandas.DataFrame\n",
    "    '''\n",
    "    df_std =(df - df.min(axis=0)) / (df.max(axis=0) - df.min(axis=0))\n",
    "    scaled = df_std * 2 -1\n",
    "    return scaled"
   ]
  },
  {
   "cell_type": "code",
   "execution_count": 30,
   "metadata": {
    "collapsed": true
   },
   "outputs": [],
   "source": [
    "df0 = pd.DataFrame({\n",
    "    'a': [0, 1, 2, 3, 4],\n",
    "    'b': [-50, -20, 10, 45, 50],\n",
    "    'c': [-200, 450, 100, 500, -500]\n",
    "    })\n",
    "test1 = standardize(df0)\n",
    "answer1 = pd.DataFrame({\n",
    "        'a': [ -1., -0.5, 0., 0.5, 1.],\n",
    "        'b': [ -1., -0.4, 0.2, 0.9, 1.],\n",
    "        'c': [ -0.4, 0.9, 0.2, 1., -1.]\n",
    "    })\n",
    "assert_frame_equal(test1, answer1)"
   ]
  },
  {
   "cell_type": "code",
   "execution_count": 31,
   "metadata": {
    "collapsed": true
   },
   "outputs": [],
   "source": [
    "X_train_scaled, X_test_scaled = map(standardize, [X_train, X_test])"
   ]
  },
  {
   "cell_type": "code",
   "execution_count": 33,
   "metadata": {
    "collapsed": true
   },
   "outputs": [],
   "source": [
    "def fit_and_predict(X_train, y_train, X_test, kernel):\n",
    "    '''\n",
    "    Fits a Support Vector Machine on the training data on \"X_train\" and \"y_train\".\n",
    "    Returns the predicted values on \"X_test\".\n",
    "    \n",
    "    Parameters\n",
    "    ----------\n",
    "    X_train: A numpy.ndarray\n",
    "    y_train: A numpy.ndarray\n",
    "    X_test: A numpy.ndarray\n",
    "    kernel: A string that specifies kernel to be used in SVM\n",
    "    \n",
    "    Returns\n",
    "    -------\n",
    "    model: An svm.SVC instance trained on \"X_train\" and \"y_train\"\n",
    "    y_pred: A numpy array. Values predicted by \"model\" on \"X_test\"\n",
    "    '''\n",
    "    svc = svm.SVC(kernel=kernel)\n",
    "    svc.fit(X_train, y_train)\n",
    "    y_pred=svc.predict(X_test)\n",
    "    return svc, y_pred"
   ]
  },
  {
   "cell_type": "code",
   "execution_count": 34,
   "metadata": {
    "collapsed": true
   },
   "outputs": [],
   "source": [
    "X_train_t = [[-2, -1], [-1, -1], [-1, -2], [1, 1], [1, 2], [2, 1]]\n",
    "y_train_t = [1, 1, 1, 2, 2, 2]\n",
    "X_test_t = [[-1, -1], [2, 2], [3, 2]]\n",
    "y_test_t = [1, 2, 2]\n",
    "\n",
    "model1, pred1 = fit_and_predict(X_train_t, y_train_t, X_test_t, 'linear')\n",
    "assert_equal(isinstance(model1, svm.SVC), True)\n",
    "assert_equal(model1.kernel, 'linear')\n",
    "assert_array_equal(pred1, y_test_t)\n",
    "\n",
    "model2, pred2 = fit_and_predict(X_train_t, y_train_t, X_test_t, 'rbf')\n",
    "assert_equal(model2.kernel, 'rbf')\n",
    "assert_array_equal(pred2, y_test_t)"
   ]
  },
  {
   "cell_type": "code",
   "execution_count": 35,
   "metadata": {
    "collapsed": true
   },
   "outputs": [],
   "source": [
    "clf, y_pred = fit_and_predict(X_train_scaled, y_train, X_test_scaled, 'rbf')"
   ]
  },
  {
   "cell_type": "code",
   "execution_count": 36,
   "metadata": {},
   "outputs": [
    {
     "name": "stdout",
     "output_type": "stream",
     "text": [
      "0.593779497829\n"
     ]
    }
   ],
   "source": [
    "print(accuracy_score(y_test, y_pred))"
   ]
  },
  {
   "cell_type": "code",
   "execution_count": 37,
   "metadata": {
    "collapsed": true
   },
   "outputs": [],
   "source": [
    "def plot_confusion():\n",
    "    '''\n",
    "    Plots a confusion matrix using numpy.histogram2d() and seaborn.heatmap().\n",
    "    Returns a maptlotlib.axes.Axes instance.\n",
    "    '''\n",
    "    fig, ax = plt.subplots()\n",
    "    names = ['Not delayed', 'Delayed']\n",
    "    pts, xe, ye = np.histogram2d(np.array(y_test).flatten(), np.array(y_pred).flatten(), bins=2)\n",
    "    pd_pts = pd.DataFrame(pts.astype(int), index=names, columns=names )\n",
    "    hm = sns.heatmap(pd_pts, annot=True, fmt=\"d\")\n",
    "    hm.axes.set_title('Confusion matrix for SVM')\n",
    "    return ax"
   ]
  },
  {
   "cell_type": "code",
   "execution_count": 39,
   "metadata": {},
   "outputs": [
    {
     "data": {
      "image/png": "[encoded data removed]",
      "text/plain": [
       "<matplotlib.figure.Figure at 0x10b1fe9e8>"
      ]
     },
     "metadata": {},
     "output_type": "display_data"
    }
   ],
   "source": [
    "ax=plot_confusion()"
   ]
  },
  {
   "cell_type": "code",
   "execution_count": 40,
   "metadata": {
    "collapsed": true
   },
   "outputs": [],
   "source": [
    "assert_equal(isinstance(ax, mpl.axes.Axes), True, msg=\"Your function should return a matplotlib.axes.Axes object.\")\n",
    "\n",
    "texts = [t.get_text() for t in ax.texts]\n",
    "assert_equal(texts, ['14971', '2712', '22450', '2243'])\n",
    "             \n",
    "x_tick_labels = [l.get_text() for l in ax.get_xticklabels()]\n",
    "y_tick_labels = [l.get_text() for l in ax.get_yticklabels()]\n",
    "assert_equal(y_tick_labels, ['Delayed', 'Not delayed'])\n",
    "\n",
    "assert_is_not(len(ax.title.get_text()), 0, msg=\"Your plot doesn't have a title.\")"
   ]
  },
  {
   "cell_type": "markdown",
   "metadata": {},
   "source": [
    "## Naive Bayes"
   ]
  },
  {
   "cell_type": "code",
   "execution_count": 41,
   "metadata": {
    "collapsed": true
   },
   "outputs": [],
   "source": [
    "import numpy as np\n",
    "from numpy.testing import assert_array_equal, assert_array_almost_equal"
   ]
  },
  {
   "cell_type": "code",
   "execution_count": 136,
   "metadata": {
    "collapsed": true
   },
   "outputs": [],
   "source": [
    "def separate_by_class(X, y):\n",
    "    '''\n",
    "    Separate the training set (\"X\") by class value (\"y\")\n",
    "    so that we can calculate statistics for each class.\n",
    "    \n",
    "    Parameters\n",
    "    ----------\n",
    "    X: A 2d numpy array\n",
    "    y: A 1d numpy array\n",
    "    Returns\n",
    "    -------\n",
    "    A dictionary of 2d numpy arrays\n",
    "    '''\n",
    "    d=np.column_stack((X, y))\n",
    "    separated = {}\n",
    "    for i in range(len(d)):\n",
    "        vector = d[i]\n",
    "        if (vector[-1] not in separated):\n",
    "            separated[vector[-1]] = []\n",
    "        separated[vector[-1]].append(vector[:-1])\n",
    "    for j in range(len(separated)):\n",
    "        separated[j]=np.vstack(separated[j])\n",
    "    return separated"
   ]
  },
  {
   "cell_type": "code",
   "execution_count": 137,
   "metadata": {
    "collapsed": true
   },
   "outputs": [],
   "source": [
    "X_t = np.array( [[2, 21], [1, 20], [3, 22]] )\n",
    "y_t = np.array( [1, 0, 1] )\n",
    "separated_t = separate_by_class(X_t, y_t)\n",
    "assert_array_equal(separated_t[0], np.array( [ [1, 20] ] ))\n",
    "assert_array_equal(separated_t[1], np.array( [ [2, 21], [3, 22] ] ))"
   ]
  },
  {
   "cell_type": "code",
   "execution_count": 140,
   "metadata": {
    "collapsed": true
   },
   "outputs": [],
   "source": [
    "def calculate_mean(array):\n",
    "    '''\n",
    "    Calculates the mean of each column, i.e. each attribute.\n",
    "    \n",
    "    Parameters\n",
    "    ----------\n",
    "    A 1d or 2d numpy array\n",
    "    \n",
    "    Returns\n",
    "    -------\n",
    "    A 1d or 2d numpy array\n",
    "    '''\n",
    "    mean=np.mean(array,axis=0)\n",
    "    return mean"
   ]
  },
  {
   "cell_type": "code",
   "execution_count": 141,
   "metadata": {
    "collapsed": true
   },
   "outputs": [],
   "source": [
    "array_t = np.array( [ [1, 4, 7], [2, 5, 6], [3, 6, 8] ] )\n",
    "mean_t = calculate_mean(array_t)\n",
    "assert_array_equal(mean_t, np.array( [2., 5., 7.] ))"
   ]
  },
  {
   "cell_type": "code",
   "execution_count": 142,
   "metadata": {
    "collapsed": true
   },
   "outputs": [],
   "source": [
    "def calculate_stdev(array):\n",
    "    '''\n",
    "    Calculates the standard deviation (N-1 method) of each column, i.e. each attribute.\n",
    "\n",
    "    Parameters\n",
    "    ----------\n",
    "    A 1d or 2d numpy array\n",
    "    \n",
    "    Returns\n",
    "    -------\n",
    "    A 1d or 2d numpy array\n",
    "    '''\n",
    "    stdev=np.std(array,axis=0,ddof=1)\n",
    "    return stdev"
   ]
  },
  {
   "cell_type": "code",
   "execution_count": 143,
   "metadata": {
    "collapsed": true
   },
   "outputs": [],
   "source": [
    "array_t = np.array( [ [1, 20, 14], [2, 21, 15], [3, 22, 16] ] )\n",
    "stdev_t = calculate_stdev(array_t)\n",
    "assert_array_equal(stdev_t, np.array( [1., 1., 1.] ))"
   ]
  },
  {
   "cell_type": "code",
   "execution_count": 144,
   "metadata": {
    "collapsed": true
   },
   "outputs": [],
   "source": [
    "X_t = np.array( [ [1, 20], [2, 21], [3, 22] ] )"
   ]
  },
  {
   "cell_type": "code",
   "execution_count": 176,
   "metadata": {
    "collapsed": true
   },
   "outputs": [],
   "source": [
    "def summarize(X):\n",
    "    '''\n",
    "    For a given list of instances (for a class value),\n",
    "    calculates the mean and the standard deviation for each attribute.\n",
    "    \n",
    "    Parameters\n",
    "    ----------\n",
    "    A 2d numpy array\n",
    "    \n",
    "    Returns\n",
    "    -------\n",
    "    A 2d numpy array\n",
    "    '''\n",
    "    a=calculate_mean(X)\n",
    "    b=calculate_stdev(X)\n",
    "    summary=np.stack((a, b), axis=1)\n",
    "    return summary"
   ]
  },
  {
   "cell_type": "code",
   "execution_count": 177,
   "metadata": {
    "collapsed": true
   },
   "outputs": [],
   "source": [
    "X_t = np.array( [ [1, 20], [2, 21], [3, 22] ] )\n",
    "summary_t = summarize(X_t)\n",
    "assert_array_equal(summary_t, np.array( [ (2.0, 1.0), (21.0, 1.0) ] ))"
   ]
  },
  {
   "cell_type": "code",
   "execution_count": 178,
   "metadata": {
    "collapsed": true
   },
   "outputs": [],
   "source": [
    "X_t = np.array( [ [1, 20], [2, 21], [3, 22], [4, 22] ] )\n",
    "y_t = np.array( [1, 0, 1, 0] )"
   ]
  },
  {
   "cell_type": "code",
   "execution_count": 180,
   "metadata": {
    "collapsed": true
   },
   "outputs": [],
   "source": [
    "new=separate_by_class(X_t,y_t)"
   ]
  },
  {
   "cell_type": "code",
   "execution_count": 182,
   "metadata": {},
   "outputs": [
    {
     "data": {
      "text/plain": [
       "array([[  3.        ,   1.41421356],\n",
       "       [ 21.5       ,   0.70710678]])"
      ]
     },
     "execution_count": 182,
     "metadata": {},
     "output_type": "execute_result"
    }
   ],
   "source": [
    "summarize(new[0])"
   ]
  },
  {
   "cell_type": "code",
   "execution_count": 190,
   "metadata": {
    "collapsed": true
   },
   "outputs": [],
   "source": [
    "def summarize_by_class(X, y):\n",
    "    '''\n",
    "    Separates a training set into instances grouped by class.\n",
    "    It then calculates the summaries for each attribute.\n",
    "    \n",
    "    Parameters\n",
    "    ----------\n",
    "    X: A 2d numpy array. Represents training attributes.\n",
    "    y: A 1d numpy array. Represents class labels.\n",
    "    Returns\n",
    "    -------\n",
    "    A dictionary of 2d numpy arrays. Uses each class label as keys\n",
    "    and summary for each class label as values.\n",
    "    '''\n",
    "    new=separate_by_class(X,y)\n",
    "    result={}\n",
    "    for i in range((len(new))):\n",
    "        result[i]=summarize(new[i])\n",
    "    return result"
   ]
  },
  {
   "cell_type": "code",
   "execution_count": 191,
   "metadata": {
    "collapsed": true
   },
   "outputs": [],
   "source": [
    "X_t = np.array( [ [1, 20], [2, 21], [3, 22], [4, 22] ] )\n",
    "y_t = np.array( [1, 0, 1, 0] )\n",
    "summaries_t = summarize_by_class(X_t, y_t)\n",
    "assert_array_almost_equal(summaries_t[0], np.array( [ (3., 1.41421356), (21.5, 0.70710678) ] ))\n",
    "assert_array_almost_equal(summaries_t[1], np.array( [ (2., 1.41421356), (21.0, 1.41421356) ] ))"
   ]
  },
  {
   "cell_type": "code",
   "execution_count": 272,
   "metadata": {
    "collapsed": true
   },
   "outputs": [],
   "source": [
    "def calculate_log_probability(x, mean, stdev):\n",
    "    '''\n",
    "    Calculates log of Gaussian function to estimate\n",
    "    the log probability of a given attribute value.\n",
    "    Assume x, mean, stdev have the same length.\n",
    "    \n",
    "    Parameters\n",
    "    ----------\n",
    "    x: A float or 1d numpy array\n",
    "    mean: A float or 1d numpy array\n",
    "    stdev: A float or 1d numpy array\n",
    "    \n",
    "    Returns\n",
    "    -------\n",
    "    A float or 1d numpy array\n",
    "    '''\n",
    "    exponent = np.exp(-(np.power(x-mean,2)/(2*np.power(stdev,2))))\n",
    "    log_probability=np.log((1 / (np.sqrt(2*np.pi) * stdev)) * exponent)\n",
    "    return log_probability"
   ]
  },
  {
   "cell_type": "code",
   "execution_count": 288,
   "metadata": {
    "collapsed": true
   },
   "outputs": [],
   "source": [
    "array_t = calculate_log_probability(np.array( [71.5] ), np.array( [73] ), np.array( [6.2] ))\n",
    "assert_array_almost_equal(array_t, np.array( [ -2.7727542144336588 ] ))\n",
    "\n",
    "array_t2 = calculate_log_probability(np.array( [1, 2] ), np.array( [3, 4] ), np.array( [5, 6] ))\n",
    "assert_array_almost_equal(array_t2, np.array( [-2.60837645, -2.76625356] ))"
   ]
  },
  {
   "cell_type": "code",
   "execution_count": 326,
   "metadata": {
    "collapsed": true
   },
   "outputs": [],
   "source": [
    "def calculate_class_log_probabilities(summaries, input_array):\n",
    "    '''\n",
    "    Combines the probabilities of all of the attribute values for a data instance\n",
    "    and comes up with a probability of the entire data instance belonging to the class.\n",
    "\n",
    "    Parameters\n",
    "    ----------\n",
    "    summaries: A dictionary of 2d numpy arrays\n",
    "    input_array: A numpy array of instances; each instance is a numpy array of attributes\n",
    "    \n",
    "    Returns\n",
    "    -------\n",
    "    A dictionary of 1d numpy arrays of summed log probabilities\n",
    "    '''\n",
    "    probabilities = {}\n",
    "    for classValue, classSummaries in summaries.items():\n",
    "        probabilities[classValue] = []\n",
    "        for i in range(len(classSummaries)):\n",
    "            mean, stdev = classSummaries[i]\n",
    "            for j in range(len(input_array)):\n",
    "                x = input_array[j]\n",
    "                y=calculate_log_probability(x, mean, stdev)\n",
    "                probabilities[classValue].append(y)\n",
    "    for k in range(len(probabilities)):\n",
    "        probabilities[k]=np.vstack(probabilities[k]).flatten()\n",
    "    return probabilities"
   ]
  },
  {
   "cell_type": "code",
   "execution_count": 327,
   "metadata": {
    "collapsed": true
   },
   "outputs": [],
   "source": [
    "summaries_t = {0: np.array( [ (1, 0.5) ]), 1: np.array( [ (20, 5.0) ] )}\n",
    "input_t = np.array( [[1.1]] )\n",
    "log_probabilities = calculate_class_log_probabilities(summaries_t, input_t)\n",
    "assert_array_almost_equal(log_probabilities[0], np.array( [-0.24579135264472743] ))\n",
    "assert_array_almost_equal(log_probabilities[1], np.array( [-9.6725764456387715] ))\n",
    "\n",
    "input_t2 = np.array( [[4], [.9], [0]] )\n",
    "log_probabilities2 = calculate_class_log_probabilities(summaries_t, input_t2)\n",
    "assert_array_almost_equal(log_probabilities2[0], np.array( [-18.225791352644727, -0.24579135264472729, -2.2257913526447273] ))\n",
    "assert_array_almost_equal(log_probabilities2[1], np.array( [-7.6483764456387728, -9.8245764456387743, -10.528376445638774] ))"
   ]
  },
  {
   "cell_type": "code",
   "execution_count": 469,
   "metadata": {
    "collapsed": true
   },
   "outputs": [],
   "source": [
    "def predict(summaries, input_array):\n",
    "    '''\n",
    "    Calculates the probability of each data instance belonging to each class value,\n",
    "    looks for the largest probability, and return the associated class.\n",
    "    \n",
    "    Parameters\n",
    "    ----------\n",
    "    summaries: A dictionary of numpy arrays\n",
    "    input_array: A numpy array of instances; each instance is a numpy array of attributes\n",
    "    \n",
    "    Returns\n",
    "    -------\n",
    "    A 1d numpy array\n",
    "    '''\n",
    "    prob = calculate_class_log_probabilities(summaries, input_array)\n",
    "    new=pd.DataFrame(prob)\n",
    "    return np.array(new.idxmax(axis=1))"
   ]
  },
  {
   "cell_type": "code",
   "execution_count": 472,
   "metadata": {
    "collapsed": true
   },
   "outputs": [],
   "source": [
    "summaries_t = {0: np.array( [ (1, 0.5) ] ), 1: np.array( [ (20, 5.0) ] )}\n",
    "input_t1 = np.array( [[1.1]] )\n",
    "result_t1 = predict(summaries_t, input_t1)\n",
    "assert_array_equal(result_t1, np.array( [0.] ))\n",
    "\n",
    "test_set_t2 = np.array( [[1.1], [19.1]] )\n",
    "result_t2 = predict(summaries_t, test_set_t2)\n",
    "assert_array_equal(result_t2, np.array( [0., 1.] ))\n",
    "\n",
    "test_set_t3 = np.array( [[4], [.9], [0]] )\n",
    "result_t3 = predict(summaries_t, test_set_t3)\n",
    "assert_array_equal(result_t3, np.array( [1., 0., 0.] ))"
   ]
  }
 ],
 "metadata": {
  "kernelspec": {
   "display_name": "Python 3",
   "language": "python",
   "name": "python3"
  },
  "language_info": {
   "codemirror_mode": {
    "name": "ipython",
    "version": 3
   },
   "file_extension": ".py",
   "mimetype": "text/x-python",
   "name": "python",
   "nbconvert_exporter": "python",
   "pygments_lexer": "ipython3",
   "version": "3.6.1"
  }
 },
 "nbformat": 4,
 "nbformat_minor": 2
}
