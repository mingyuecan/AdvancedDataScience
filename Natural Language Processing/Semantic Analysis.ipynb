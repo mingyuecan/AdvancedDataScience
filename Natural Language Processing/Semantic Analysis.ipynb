{
 "cells": [
  {
   "cell_type": "markdown",
   "metadata": {},
   "source": [
    "## Semantic Analysis"
   ]
  },
  {
   "cell_type": "code",
   "execution_count": 28,
   "metadata": {
    "collapsed": true
   },
   "outputs": [],
   "source": [
    "import string\n",
    "import time\n",
    "import numpy as np\n",
    "import gensim\n",
    "from nltk.tokenize import WordPunctTokenizer\n",
    "\n",
    "from nose.tools import (\n",
    "    assert_equal,\n",
    "    assert_is_instance,\n",
    "    assert_almost_equal,\n",
    "    assert_true\n",
    "    )\n",
    "\n",
    "from numpy.testing import assert_array_equal\n"
   ]
  },
  {
   "cell_type": "markdown",
   "metadata": {},
   "source": [
    "### Wordnet"
   ]
  },
  {
   "cell_type": "code",
   "execution_count": 30,
   "metadata": {
    "collapsed": true
   },
   "outputs": [],
   "source": [
    "from nltk.corpus import wordnet as wn"
   ]
  },
  {
   "cell_type": "code",
   "execution_count": 32,
   "metadata": {
    "collapsed": true
   },
   "outputs": [],
   "source": [
    "def find_number_of_entries(word):\n",
    "    '''\n",
    "    Finds the number of entries in the wordnet synset.\n",
    "    \n",
    "    Parameters\n",
    "    ----------\n",
    "    word: A string.\n",
    "    \n",
    "    Returns\n",
    "    -------\n",
    "    An int.\n",
    "    '''\n",
    "    \n",
    "    the_synsets = wn.synsets(word)\n",
    "    result=len(the_synsets)\n",
    "    return result"
   ]
  },
  {
   "cell_type": "code",
   "execution_count": 33,
   "metadata": {},
   "outputs": [
    {
     "name": "stdout",
     "output_type": "stream",
     "text": [
      "10 total entries in synonym ring for love. \n"
     ]
    }
   ],
   "source": [
    "the_word = 'love'\n",
    "n_entries = find_number_of_entries(the_word)\n",
    "print('{0} total entries in synonym ring for {1}. '.format(n_entries, the_word))"
   ]
  },
  {
   "cell_type": "code",
   "execution_count": 34,
   "metadata": {},
   "outputs": [
    {
     "name": "stdout",
     "output_type": "stream",
     "text": [
      "19 total entries in synonym ring for live. \n"
     ]
    }
   ],
   "source": [
    "the_word = 'live'\n",
    "n_entries = find_number_of_entries(the_word)\n",
    "print('{0} total entries in synonym ring for {1}. '.format(n_entries, the_word))"
   ]
  },
  {
   "cell_type": "code",
   "execution_count": 35,
   "metadata": {
    "collapsed": true
   },
   "outputs": [],
   "source": [
    "assert_is_instance(find_number_of_entries('love'), int)\n",
    "assert_equal(find_number_of_entries('love'), 10)\n",
    "assert_equal(find_number_of_entries('live'), 19)"
   ]
  },
  {
   "cell_type": "markdown",
   "metadata": {},
   "source": [
    "### Word Similarities"
   ]
  },
  {
   "cell_type": "code",
   "execution_count": 39,
   "metadata": {
    "collapsed": true
   },
   "outputs": [],
   "source": [
    "def get_path_similarity(word1, word2):\n",
    "    '''\n",
    "    Computes the path similarity between word1 and word1.\n",
    "    \n",
    "    Parameters\n",
    "    ----------\n",
    "    word1: A string.\n",
    "    word2: A string.\n",
    "    \n",
    "    Returns\n",
    "    -------\n",
    "    A float.\n",
    "    '''\n",
    "    \n",
    "    w1 = wn.synset(word1+'.n.01')\n",
    "    w2 = wn.synset(word2+'.n.01')\n",
    "    result=wn.path_similarity(w1, w2)\n",
    "    return result"
   ]
  },
  {
   "cell_type": "code",
   "execution_count": 40,
   "metadata": {},
   "outputs": [
    {
     "name": "stdout",
     "output_type": "stream",
     "text": [
      "Path Similarity:\n",
      "----------------------------------------\n",
      "excess to surplus: 1.000\n",
      "trade to economy: 0.100\n",
      "mean to average: 0.500\n",
      "mean to average: 0.333\n",
      "excess to excess: 1.000\n"
     ]
    }
   ],
   "source": [
    "fmt_str = '{1} to {2}: {0:4.3f}'\n",
    "\n",
    "print('Path Similarity:')\n",
    "print(40*'-')\n",
    "print(fmt_str.format(get_path_similarity('excess', 'surplus'), 'excess', 'surplus'))\n",
    "print(fmt_str.format(get_path_similarity('trade', 'economy'), 'trade', 'economy'))\n",
    "print(fmt_str.format(get_path_similarity('mean', 'average'), 'mean', 'average'))\n",
    "print(fmt_str.format(get_path_similarity('import', 'export'), 'mean', 'average'))\n",
    "print(fmt_str.format(get_path_similarity('excess', 'excess'), 'excess', 'excess'))"
   ]
  },
  {
   "cell_type": "code",
   "execution_count": 41,
   "metadata": {
    "collapsed": true
   },
   "outputs": [],
   "source": [
    "assert_is_instance(get_path_similarity('excess', 'surplus'), float)\n",
    "assert_almost_equal(get_path_similarity('excess', 'surplus'), 1.0)\n",
    "assert_almost_equal(get_path_similarity('trade', 'economy'), 0.1)\n",
    "assert_almost_equal(get_path_similarity('mean', 'average'), 0.5)\n",
    "assert_almost_equal(get_path_similarity('import', 'export'), 0.3333333333333333)\n",
    "assert_almost_equal(get_path_similarity('excess', 'excess'), 1.0)"
   ]
  },
  {
   "cell_type": "markdown",
   "metadata": {},
   "source": [
    "### Word2Vec"
   ]
  },
  {
   "cell_type": "code",
   "execution_count": 42,
   "metadata": {
    "collapsed": true
   },
   "outputs": [],
   "source": [
    "from nltk.corpus import reuters\n",
    "sentences = reuters.sents()[:20000]"
   ]
  },
  {
   "cell_type": "code",
   "execution_count": 43,
   "metadata": {
    "collapsed": true
   },
   "outputs": [],
   "source": [
    "def get_model(sentences):\n",
    "    '''\n",
    "    Builds a Word2Vec model from sentences in corpus.\n",
    "    \n",
    "    Parameters\n",
    "    ----------\n",
    "    sentences: A list of lists(sentences); each sentence is a list of strings(words).\n",
    "    \n",
    "    Returns\n",
    "    -------\n",
    "    A Word2Vec instance.\n",
    "    '''\n",
    "    \n",
    "    model = gensim.models.Word2Vec(sentences, window=10, min_count=6)\n",
    "    return model"
   ]
  },
  {
   "cell_type": "code",
   "execution_count": 44,
   "metadata": {},
   "outputs": [
    {
     "name": "stdout",
     "output_type": "stream",
     "text": [
      "33.050535000000025 seconds\n"
     ]
    }
   ],
   "source": [
    "start_time = time.clock()\n",
    "model = get_model(sentences)\n",
    "print(time.clock() - start_time, \"seconds\")"
   ]
  },
  {
   "cell_type": "code",
   "execution_count": 45,
   "metadata": {
    "collapsed": true
   },
   "outputs": [],
   "source": [
    "assert_is_instance(model, gensim.models.Word2Vec)\n",
    "assert_equal(model.window, 10)\n",
    "assert_equal(model.min_count, 6)"
   ]
  },
  {
   "cell_type": "markdown",
   "metadata": {},
   "source": [
    "### Cosine Similarity"
   ]
  },
  {
   "cell_type": "code",
   "execution_count": 46,
   "metadata": {
    "collapsed": true
   },
   "outputs": [],
   "source": [
    "def get_cosine_similarity(model, word1, word2):\n",
    "    '''\n",
    "    Computes cosine similarity between \"word1\" and \"word2\" using a Word2Vec model.\n",
    "    \n",
    "    Parameters\n",
    "    ----------\n",
    "    model: A gensim.Word2Vec model.\n",
    "    word1: A string.\n",
    "    word2: A string.\n",
    "    \n",
    "    Returns\n",
    "    -------\n",
    "    A float.\n",
    "    '''\n",
    "    \n",
    "    result = model.similarity(word1,word2)\n",
    "    return result"
   ]
  },
  {
   "cell_type": "code",
   "execution_count": 47,
   "metadata": {},
   "outputs": [
    {
     "name": "stdout",
     "output_type": "stream",
     "text": [
      "Cosine Similarity:\n",
      "----------------------------------------\n",
      "excess to surplus: 0.488\n",
      "trade to economy: 0.822\n",
      "mean to average: 0.148\n",
      "mean to average: 0.881\n",
      "excess to excess: 1.000\n"
     ]
    }
   ],
   "source": [
    "fmt_str = '{1} to {2}: {0:4.3f}'\n",
    "\n",
    "print('Cosine Similarity:')\n",
    "print(40*'-')\n",
    "print(fmt_str.format(get_cosine_similarity(model, 'excess', 'surplus'), 'excess', 'surplus'))\n",
    "print(fmt_str.format(get_cosine_similarity(model, 'trade', 'economy'), 'trade', 'economy'))\n",
    "print(fmt_str.format(get_cosine_similarity(model, 'mean', 'average'), 'mean', 'average'))\n",
    "print(fmt_str.format(get_cosine_similarity(model, 'import', 'export'), 'mean', 'average'))\n",
    "print(fmt_str.format(get_cosine_similarity(model, 'excess', 'excess'), 'excess', 'excess'))"
   ]
  },
  {
   "cell_type": "code",
   "execution_count": 48,
   "metadata": {
    "collapsed": true
   },
   "outputs": [],
   "source": [
    "assert_is_instance(get_cosine_similarity(model, 'excess', 'surplus'), float)\n",
    "assert_almost_equal(get_cosine_similarity(model, 'excess', 'surplus'), model.similarity('excess', 'surplus'))\n",
    "assert_almost_equal(get_cosine_similarity(model, 'trade', 'economy'), model.similarity('trade', 'economy'))\n",
    "assert_almost_equal(get_cosine_similarity(model, 'mean', 'average'), model.similarity('mean', 'average'))\n",
    "assert_almost_equal(get_cosine_similarity(model, 'import', 'export'), model.similarity('import', 'export'))\n",
    "assert_almost_equal(get_cosine_similarity(model, 'excess', 'excess'), 1.0)"
   ]
  },
  {
   "cell_type": "markdown",
   "metadata": {},
   "source": [
    "### Most similar words"
   ]
  },
  {
   "cell_type": "code",
   "execution_count": 49,
   "metadata": {
    "collapsed": true
   },
   "outputs": [],
   "source": [
    "def find_most_similar_words(model):\n",
    "    '''\n",
    "    Find the top 5 most similar words,\n",
    "    where \"price\", \"economy\", and \"trade\" contribute positively towards the similarity,\n",
    "    and \"law\" and \"legal\" contribute negatively.\n",
    "    \n",
    "    Parameters\n",
    "    ----------\n",
    "    model: A gensim.Word2Vec model.\n",
    "    \n",
    "    Returns\n",
    "    -------\n",
    "    A list of tuples (word, similarty).\n",
    "    word: A string.\n",
    "    similarity: A float.\n",
    "    '''\n",
    "    \n",
    "    vals = model.most_similar(positive=['price', 'economy', 'trade' ], negative=['law','legal' ], topn=5)\n",
    "    return vals"
   ]
  },
  {
   "cell_type": "code",
   "execution_count": 50,
   "metadata": {},
   "outputs": [
    {
     "name": "stdout",
     "output_type": "stream",
     "text": [
      "Word          : Cosine Similarity\n",
      "----------------------------------------\n",
      "double        :  0.791\n",
      "yen           :  0.768\n",
      "current       :  0.763\n",
      "account       :  0.745\n",
      "rise          :  0.736\n"
     ]
    }
   ],
   "source": [
    "print('{0:14s}: {1}'.format('Word', 'Cosine Similarity'))\n",
    "print(40*'-')\n",
    "for val in find_most_similar_words(model):\n",
    "    print('{0:14s}: {1:6.3f}'.format(val[0], val[1]))"
   ]
  },
  {
   "cell_type": "code",
   "execution_count": 51,
   "metadata": {
    "collapsed": true
   },
   "outputs": [],
   "source": [
    "assert_is_instance(find_most_similar_words(model), list)\n",
    "assert_true(all(isinstance(t[0], str) for t in find_most_similar_words(model)))\n",
    "assert_true(all(isinstance(t[1], float) for t in find_most_similar_words(model)))\n",
    "assert_equal(len(find_most_similar_words(model)), 5)\n",
    "words = [t[0] for t in model.most_similar(positive=['price', 'economy', 'trade'], negative=['law', 'legal'], topn=5)]\n",
    "similarities = [t[1] for t in model.most_similar(positive=['price', 'economy', 'trade'], negative=['law', 'legal'], topn=5)]\n",
    "assert_equal([t[0] for t in find_most_similar_words(model)], words)\n",
    "assert_almost_equal(find_most_similar_words(model)[0][1], similarities[0])\n",
    "assert_almost_equal(find_most_similar_words(model)[1][1], similarities[1])\n",
    "assert_almost_equal(find_most_similar_words(model)[2][1], similarities[2])\n",
    "assert_almost_equal(find_most_similar_words(model)[3][1], similarities[3])\n",
    "assert_almost_equal(find_most_similar_words(model)[4][1], similarities[4])"
   ]
  }
 ],
 "metadata": {
  "kernelspec": {
   "display_name": "Python 3",
   "language": "python",
   "name": "python3"
  },
  "language_info": {
   "codemirror_mode": {
    "name": "ipython",
    "version": 3
   },
   "file_extension": ".py",
   "mimetype": "text/x-python",
   "name": "python",
   "nbconvert_exporter": "python",
   "pygments_lexer": "ipython3",
   "version": "3.6.1"
  }
 },
 "nbformat": 4,
 "nbformat_minor": 2
}
