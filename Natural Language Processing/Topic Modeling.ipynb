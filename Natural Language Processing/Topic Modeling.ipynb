{
 "cells": [
  {
   "cell_type": "markdown",
   "metadata": {},
   "source": [
    "## Topic Modeling"
   ]
  },
  {
   "cell_type": "code",
   "execution_count": 2,
   "metadata": {
    "collapsed": true,
    "scrolled": false
   },
   "outputs": [],
   "source": [
    "import numpy as np\n",
    "import pandas as pd\n",
    "import json\n",
    "\n",
    "from scipy.sparse.csr import csr_matrix\n",
    "from sklearn.pipeline import Pipeline, FeatureUnion\n",
    "from sklearn.feature_extraction.text import CountVectorizer, TfidfVectorizer\n",
    "from sklearn.cross_validation import check_random_state\n",
    "from sklearn.decomposition import NMF\n",
    "from sklearn.preprocessing import normalize\n",
    "from sklearn.svm import LinearSVC\n",
    "from sklearn.metrics import accuracy_score\n",
    "from sklearn.ensemble import RandomForestClassifier\n",
    "from sklearn.metrics import classification_report\n",
    "\n",
    "from gensim.matutils import Sparse2Corpus\n",
    "from gensim.corpora.dictionary import Dictionary\n",
    "from gensim.models import LdaModel\n",
    "\n",
    "import warnings\n",
    "warnings.filterwarnings(\"ignore\") \n",
    "\n",
    "from nose.tools import assert_equal, assert_is_instance, assert_true, assert_almost_equal\n",
    "from numpy.testing import assert_array_equal, assert_array_almost_equal"
   ]
  },
  {
   "cell_type": "code",
   "execution_count": 3,
   "metadata": {
    "collapsed": true
   },
   "outputs": [],
   "source": [
    "from sklearn.datasets import fetch_20newsgroups\n",
    "\n",
    "train = fetch_20newsgroups(\n",
    "    data_home='textdm', \n",
    "    subset='train',\n",
    "    shuffle=True,\n",
    "    random_state=check_random_state(0),\n",
    "    remove=('headers', 'footers', 'quotes')\n",
    "    )\n",
    "\n",
    "test = fetch_20newsgroups(\n",
    "    data_home='textdm', \n",
    "    subset='test',\n",
    "    shuffle=True,\n",
    "    random_state=check_random_state(0),\n",
    "    remove=('headers', 'footers', 'quotes')\n",
    "    )"
   ]
  },
  {
   "cell_type": "markdown",
   "metadata": {},
   "source": [
    "### Document term matrix"
   ]
  },
  {
   "cell_type": "code",
   "execution_count": 5,
   "metadata": {
    "collapsed": true
   },
   "outputs": [],
   "source": [
    "def get_document_term_matrix(train_data, test_data):\n",
    "    '''\n",
    "    Uses TfidfVectorizer to create a document term matrix for \"X_train\" and \"X_test\".\n",
    "    \n",
    "    Paramters\n",
    "    ---------\n",
    "    train_data: A list of strings\n",
    "    test_data:A list of strings\n",
    "    \n",
    "    Returns\n",
    "    -------\n",
    "    A 3-tuple of (model, train_matrix, test_matrix).\n",
    "    model: A TfidfVectorizer instance\n",
    "    train_matrix: A scipy.csr_matrix\n",
    "    test_matrix: A scipy.csr_matrix\n",
    "    '''\n",
    "    \n",
    "    cv = TfidfVectorizer(stop_words = 'english',\n",
    "                     ngram_range=(1,2),\n",
    "                     lowercase=True,\n",
    "                     min_df=2,\n",
    "                     max_features=20000)\n",
    "    cv.fit(train_data)\n",
    "    train_matrix= cv.transform(train_data)\n",
    "    test_matrix = cv.transform(test_data)\n",
    "    return cv, train_matrix, test_matrix"
   ]
  },
  {
   "cell_type": "code",
   "execution_count": 6,
   "metadata": {
    "collapsed": true
   },
   "outputs": [],
   "source": [
    "cv, train_data, test_data = get_document_term_matrix(train['data'], test['data'])"
   ]
  },
  {
   "cell_type": "code",
   "execution_count": 7,
   "metadata": {
    "collapsed": true
   },
   "outputs": [],
   "source": [
    "assert_is_instance(cv, TfidfVectorizer)\n",
    "assert_is_instance(train_data, csr_matrix)\n",
    "assert_is_instance(test_data, csr_matrix)\n",
    "assert_equal(cv.stop_words, 'english')\n",
    "assert_equal(cv.ngram_range, (1, 2))\n",
    "assert_equal(cv.min_df, 2)\n",
    "assert_equal(cv.max_features, 20000)"
   ]
  },
  {
   "cell_type": "markdown",
   "metadata": {},
   "source": [
    "### Non-negative matrix factorization"
   ]
  },
  {
   "cell_type": "code",
   "execution_count": 16,
   "metadata": {
    "collapsed": true
   },
   "outputs": [],
   "source": [
    "def apply_nmf(data, random_state):\n",
    "    '''\n",
    "    Applies non-negative matrix factorization (NMF) to compute topics.\n",
    "    \n",
    "    Parameters\n",
    "    ----------\n",
    "    data: A csr_matrix\n",
    "    random_state: A RandomState instance for NMF\n",
    "    \n",
    "    Returns\n",
    "    -------\n",
    "    A tuple of (nmf, transformed_data)\n",
    "    nmf: An sklearn.NMF instance\n",
    "    transformed_data: A numpy.ndarray\n",
    "    '''\n",
    "    \n",
    "    nmf = NMF(60, random_state=random_state).fit(data)\n",
    "    td = nmf.transform(data)\n",
    "    td_norm = normalize(td, norm='l1', axis=1)\n",
    "    return nmf, td_norm"
   ]
  },
  {
   "cell_type": "code",
   "execution_count": 17,
   "metadata": {
    "collapsed": true
   },
   "outputs": [],
   "source": [
    "nmf, td_norm = apply_nmf(train_data, random_state=check_random_state(0))"
   ]
  },
  {
   "cell_type": "code",
   "execution_count": 18,
   "metadata": {},
   "outputs": [
    {
     "name": "stdout",
     "output_type": "stream",
     "text": [
      "             56        57        58        59                     names\n",
      "label                                                                  \n",
      "0      0.005508  0.003736  0.032166  0.232558               alt.atheism\n",
      "1      0.033090  0.006448  0.023974  0.025799             comp.graphics\n",
      "2      0.022950  0.036914  0.015799  0.013004   comp.os.ms-windows.misc\n",
      "3      0.017276  0.036642  0.013918  0.012025  comp.sys.ibm.pc.hardware\n",
      "4      0.012614  0.031106  0.013396  0.016364     comp.sys.mac.hardware\n",
      "5      0.021772  0.025961  0.022872  0.016832            comp.windows.x\n",
      "6      0.005221  0.012886  0.009409  0.007000              misc.forsale\n",
      "7      0.010737  0.007605  0.021220  0.030602                 rec.autos\n",
      "8      0.009730  0.007368  0.019422  0.028687           rec.motorcycles\n",
      "9      0.011176  0.007581  0.016163  0.034431        rec.sport.baseball\n",
      "10     0.012147  0.002637  0.014880  0.025542          rec.sport.hockey\n",
      "11     0.008274  0.003525  0.019598  0.039459                 sci.crypt\n",
      "12     0.016341  0.009142  0.018971  0.020526           sci.electronics\n",
      "13     0.011142  0.004754  0.036145  0.072996                   sci.med\n",
      "14     0.009134  0.005120  0.028327  0.039625                 sci.space\n",
      "15     0.006894  0.001648  0.048021  0.151466    soc.religion.christian\n",
      "16     0.008237  0.003129  0.024721  0.049757        talk.politics.guns\n",
      "17     0.005745  0.002707  0.032466  0.059202     talk.politics.mideast\n",
      "18     0.009315  0.003349  0.035208  0.082608        talk.politics.misc\n",
      "19     0.007202  0.004878  0.034023  0.173686        talk.religion.misc\n"
     ]
    }
   ],
   "source": [
    "df = pd.DataFrame(td_norm)\n",
    "df.fillna(value=0, inplace=True)\n",
    "df['label'] = pd.Series(train['target'])\n",
    "\n",
    "df_label = df.groupby('label').mean()\n",
    "df_label['names'] = pd.Series(train['target_names'], dtype=\"category\")\n",
    "\n",
    "print(df_label.ix[:, -5:])"
   ]
  },
  {
   "cell_type": "code",
   "execution_count": 19,
   "metadata": {
    "collapsed": true
   },
   "outputs": [],
   "source": [
    "assert_is_instance(nmf, NMF)\n",
    "assert_is_instance(td_norm, np.ndarray)\n",
    "assert_equal(nmf.n_components, 60)\n",
    "assert_equal(nmf.max_iter, 200)\n",
    "assert_equal(td_norm.shape, (11314, 60))"
   ]
  },
  {
   "cell_type": "markdown",
   "metadata": {},
   "source": [
    "### Topic-based Classification"
   ]
  },
  {
   "cell_type": "code",
   "execution_count": 20,
   "metadata": {
    "collapsed": true
   },
   "outputs": [],
   "source": [
    "def classify_topics(nmf, X_train, y_train, X_test, random_state):\n",
    "    '''\n",
    "    \n",
    "    Paramters\n",
    "    ---------\n",
    "    nmf: An sklearn.NMF model.\n",
    "    X_train: A numpy array.\n",
    "    y_train: A numpy array.\n",
    "    X_test: A scipy csr_matrix.\n",
    "    random_state: A RandomState instance for LinearSVC Classifier.\n",
    "    \n",
    "    Returns\n",
    "    -------\n",
    "    A tuple of (clf, y_pred)\n",
    "    clf: A LinearSVC instance.\n",
    "    y_pred: A numpy array.\n",
    "    '''\n",
    "    \n",
    "    clf = RandomForestClassifier(random_state=random_state)\n",
    "    clf.fit(X_train, y_train)\n",
    "    y_pred = clf.predict(nmf.transform(X_test))\n",
    "    return clf, y_pred    "
   ]
  },
  {
   "cell_type": "code",
   "execution_count": 21,
   "metadata": {},
   "outputs": [
    {
     "name": "stdout",
     "output_type": "stream",
     "text": [
      "                          precision    recall  f1-score   support\n",
      "\n",
      "             alt.atheism       0.25      0.31      0.28       319\n",
      "           comp.graphics       0.35      0.45      0.39       389\n",
      " comp.os.ms-windows.misc       0.46      0.58      0.52       394\n",
      "comp.sys.ibm.pc.hardware       0.41      0.40      0.40       392\n",
      "   comp.sys.mac.hardware       0.43      0.46      0.45       385\n",
      "          comp.windows.x       0.57      0.52      0.54       395\n",
      "            misc.forsale       0.70      0.70      0.70       390\n",
      "               rec.autos       0.41      0.67      0.51       396\n",
      "         rec.motorcycles       0.70      0.59      0.64       398\n",
      "      rec.sport.baseball       0.59      0.59      0.59       397\n",
      "        rec.sport.hockey       0.68      0.65      0.66       399\n",
      "               sci.crypt       0.67      0.56      0.61       396\n",
      "         sci.electronics       0.38      0.26      0.31       393\n",
      "                 sci.med       0.60      0.61      0.61       396\n",
      "               sci.space       0.62      0.58      0.60       394\n",
      "  soc.religion.christian       0.54      0.69      0.61       398\n",
      "      talk.politics.guns       0.47      0.46      0.47       364\n",
      "   talk.politics.mideast       0.77      0.66      0.71       376\n",
      "      talk.politics.misc       0.26      0.17      0.20       310\n",
      "      talk.religion.misc       0.15      0.05      0.08       251\n",
      "\n",
      "             avg / total       0.51      0.51      0.51      7532\n",
      "\n"
     ]
    }
   ],
   "source": [
    "clf, ts_preds = classify_topics(\n",
    "    nmf, nmf.transform(train_data), train['target'], test_data, check_random_state(0)\n",
    "    )\n",
    "print(classification_report(test['target'], ts_preds, target_names=test['target_names']))"
   ]
  },
  {
   "cell_type": "code",
   "execution_count": 22,
   "metadata": {
    "collapsed": true
   },
   "outputs": [],
   "source": [
    "assert_is_instance(clf, RandomForestClassifier)\n",
    "assert_is_instance(ts_preds, np.ndarray)\n",
    "assert_equal(len(ts_preds), len(test['target']))"
   ]
  },
  {
   "cell_type": "markdown",
   "metadata": {},
   "source": [
    "### Topic Modeling with Gensim"
   ]
  },
  {
   "cell_type": "code",
   "execution_count": 23,
   "metadata": {
    "collapsed": true
   },
   "outputs": [],
   "source": [
    "def get_topics(cv, train_data):\n",
    "    '''\n",
    "    Uses gensim to perform topic modeling.\n",
    "    \n",
    "    Paramters\n",
    "    ---------\n",
    "    cv: A TfidfVectorizer instance.\n",
    "    train_data: A scipy csr_matrix.\n",
    "    \n",
    "    Returns\n",
    "    -------\n",
    "    A list of strings (functions of the most important terms in each topic).\n",
    "    '''\n",
    "    \n",
    "    td_gensim = Sparse2Corpus(train_data,documents_columns=False)\n",
    "    tmp_dct = dict((idv, word) for word, idv in cv.vocabulary_.items())\n",
    "    dct = Dictionary.from_corpus(td_gensim, id2word=tmp_dct)\n",
    "    lda_gs = LdaModel(corpus=td_gensim, id2word=dct,num_topics=20)\n",
    "    ttps = lda_gs.top_topics(corpus=td_gensim, num_words=5)\n",
    "    return ttps"
   ]
  },
  {
   "cell_type": "code",
   "execution_count": 24,
   "metadata": {
    "collapsed": true
   },
   "outputs": [],
   "source": [
    "topics = get_topics(cv, train_data)"
   ]
  },
  {
   "cell_type": "code",
   "execution_count": 26,
   "metadata": {},
   "outputs": [
    {
     "name": "stdout",
     "output_type": "stream",
     "text": [
      "Topic 0\n",
      "-----------------------------------\n",
      "    game                : 0.0088\n",
      "    team                : 0.0061\n",
      "    games               : 0.0049\n",
      "    season              : 0.0048\n",
      "    year                : 0.0045\n",
      "-----------------------------------\n",
      "Topic 1\n",
      "-----------------------------------\n",
      "    people              : 0.0051\n",
      "    don                 : 0.0044\n",
      "    think               : 0.0040\n",
      "    just                : 0.0039\n",
      "    god                 : 0.0036\n",
      "-----------------------------------\n",
      "Topic 2\n",
      "-----------------------------------\n",
      "    controller          : 0.0051\n",
      "    port                : 0.0049\n",
      "    ide                 : 0.0043\n",
      "    serial              : 0.0040\n",
      "    card                : 0.0038\n",
      "-----------------------------------\n",
      "Topic 3\n",
      "-----------------------------------\n",
      "    apple               : 0.0035\n",
      "    just                : 0.0032\n",
      "    drive               : 0.0031\n",
      "    problem             : 0.0029\n",
      "    mac                 : 0.0027\n",
      "-----------------------------------\n",
      "Topic 4\n",
      "-----------------------------------\n",
      "    cd                  : 0.0040\n",
      "    __                  : 0.0033\n",
      "    uv                  : 0.0031\n",
      "    rom                 : 0.0029\n",
      "    cd rom              : 0.0028\n",
      "-----------------------------------\n",
      "Topic 5\n",
      "-----------------------------------\n",
      "    just                : 0.0022\n",
      "    people              : 0.0021\n",
      "    key                 : 0.0021\n",
      "    know                : 0.0021\n",
      "    wouldn              : 0.0019\n",
      "-----------------------------------\n",
      "Topic 6\n",
      "-----------------------------------\n",
      "    thanks              : 0.0056\n",
      "    windows             : 0.0055\n",
      "    mail                : 0.0046\n",
      "    card                : 0.0039\n",
      "    graphics            : 0.0038\n",
      "-----------------------------------\n",
      "Topic 7\n",
      "-----------------------------------\n",
      "    deleted             : 0.0037\n",
      "    know                : 0.0029\n",
      "    stuff deleted       : 0.0021\n",
      "    good                : 0.0021\n",
      "    program             : 0.0020\n",
      "-----------------------------------\n",
      "Topic 8\n",
      "-----------------------------------\n",
      "    armenian            : 0.0034\n",
      "    armenians           : 0.0034\n",
      "    helmet              : 0.0027\n",
      "    turkish             : 0.0024\n",
      "    jews                : 0.0023\n",
      "-----------------------------------\n",
      "Topic 9\n",
      "-----------------------------------\n",
      "    space               : 0.0057\n",
      "    drive               : 0.0032\n",
      "    scsi                : 0.0023\n",
      "    windows             : 0.0021\n",
      "    version             : 0.0021\n",
      "-----------------------------------\n",
      "Topic 10\n",
      "-----------------------------------\n",
      "    gay                 : 0.0055\n",
      "    homosexual          : 0.0049\n",
      "    cheers kent         : 0.0043\n",
      "    kent                : 0.0034\n",
      "    cheers              : 0.0034\n",
      "-----------------------------------\n",
      "Topic 11\n",
      "-----------------------------------\n",
      "    printer             : 0.0048\n",
      "    cview               : 0.0035\n",
      "    directory           : 0.0030\n",
      "    motorcycle          : 0.0025\n",
      "    email address       : 0.0025\n",
      "-----------------------------------\n",
      "Topic 12\n",
      "-----------------------------------\n",
      "    00                  : 0.0031\n",
      "    mailing             : 0.0029\n",
      "    mb                  : 0.0028\n",
      "    mailing list        : 0.0026\n",
      "    scsi                : 0.0026\n",
      "-----------------------------------\n",
      "Topic 13\n",
      "-----------------------------------\n",
      "    msg                 : 0.0035\n",
      "    00                  : 0.0033\n",
      "    hell                : 0.0029\n",
      "    food                : 0.0027\n",
      "    condition           : 0.0026\n",
      "-----------------------------------\n",
      "Topic 14\n",
      "-----------------------------------\n",
      "    christians          : 0.0052\n",
      "    key                 : 0.0030\n",
      "    beliefs             : 0.0030\n",
      "    heaven              : 0.0026\n",
      "    islam               : 0.0022\n",
      "-----------------------------------\n",
      "Topic 15\n",
      "-----------------------------------\n",
      "    dog                 : 0.0043\n",
      "    car                 : 0.0031\n",
      "    road                : 0.0024\n",
      "    space               : 0.0021\n",
      "    allah               : 0.0020\n",
      "-----------------------------------\n",
      "Topic 16\n",
      "-----------------------------------\n",
      "    supply              : 0.0030\n",
      "    ti                  : 0.0026\n",
      "    icons               : 0.0026\n",
      "    norton              : 0.0025\n",
      "    yep                 : 0.0024\n",
      "-----------------------------------\n",
      "Topic 17\n",
      "-----------------------------------\n",
      "    god                 : 0.0033\n",
      "    just                : 0.0029\n",
      "    bike                : 0.0022\n",
      "    adam                : 0.0021\n",
      "    test                : 0.0020\n",
      "-----------------------------------\n",
      "Topic 18\n",
      "-----------------------------------\n",
      "    jesus               : 0.0040\n",
      "    tek                 : 0.0029\n",
      "    gl                  : 0.0026\n",
      "    swap file           : 0.0025\n",
      "    sea                 : 0.0025\n",
      "-----------------------------------\n",
      "Topic 19\n",
      "-----------------------------------\n",
      "    bat                 : 0.0029\n",
      "    serial number       : 0.0029\n",
      "    orbit               : 0.0026\n",
      "    cells               : 0.0025\n",
      "    huh                 : 0.0024\n",
      "-----------------------------------\n"
     ]
    }
   ],
   "source": [
    "for idx, (lst, val) in enumerate(topics):\n",
    "    print('Topic {0}'.format(idx))\n",
    "    print(35*('-'))\n",
    "    for i, z in lst:\n",
    "        print('    {0:20s}: {1:5.4f}'.format(z, i))\n",
    "    print(35*('-'))"
   ]
  },
  {
   "cell_type": "code",
   "execution_count": 27,
   "metadata": {
    "collapsed": true
   },
   "outputs": [],
   "source": [
    "assert_is_instance(topics, list)\n",
    "assert_equal(len(topics), 20)\n",
    "\n",
    "for topic, score in topics:\n",
    "    assert_is_instance(topic, list)\n",
    "    assert_is_instance(score, float)\n",
    "    assert_equal(len(topic), 5)\n",
    "    for v, k in topic:\n",
    "        assert_is_instance(k, str)\n",
    "        assert_is_instance(v, float)"
   ]
  }
 ],
 "metadata": {
  "kernelspec": {
   "display_name": "Python 3",
   "language": "python",
   "name": "python3"
  },
  "language_info": {
   "codemirror_mode": {
    "name": "ipython",
    "version": 3
   },
   "file_extension": ".py",
   "mimetype": "text/x-python",
   "name": "python",
   "nbconvert_exporter": "python",
   "pygments_lexer": "ipython3",
   "version": "3.6.1"
  }
 },
 "nbformat": 4,
 "nbformat_minor": 2
}
