{
 "cells": [
  {
   "cell_type": "markdown",
   "metadata": {},
   "source": [
    "## Email"
   ]
  },
  {
   "cell_type": "code",
   "execution_count": 1,
   "metadata": {
    "collapsed": true
   },
   "outputs": [],
   "source": [
    "import os\n",
    "import email as em\n",
    "from email import policy\n",
    "import numpy as np\n",
    "from sklearn.feature_extraction.text import TfidfVectorizer\n",
    "from sklearn.svm import LinearSVC\n",
    "from sklearn.pipeline import Pipeline\n",
    "from sklearn.metrics import accuracy_score\n",
    "from sklearn.utils import check_random_state\n",
    "\n",
    "from nose.tools import assert_equal, assert_is_instance, assert_true\n",
    "from numpy.testing import assert_array_equal, assert_almost_equal"
   ]
  },
  {
   "cell_type": "markdown",
   "metadata": {},
   "source": [
    "### Get email info"
   ]
  },
  {
   "cell_type": "code",
   "execution_count": 2,
   "metadata": {
    "collapsed": true
   },
   "outputs": [],
   "source": [
    "def email_info(datapath, key=False):\n",
    "    '''\n",
    "    Extracts the \"To\", \"From\" and \"Subject\" information from a given email.\n",
    "    Also returns either a list of header keys or an empty list, depending on the\n",
    "    value of \"key\".\n",
    "    \n",
    "    Parameters\n",
    "    ----------\n",
    "    datapath: A string\n",
    "    key: A boolean\n",
    "    \n",
    "    Returns\n",
    "    -------\n",
    "    tofromsub = a list of strings\n",
    "    headkey = a list of strings or an empty list\n",
    "    '''\n",
    "    \n",
    "    with open(datapath) as fin:\n",
    "        msg = em.message_from_file(fin, policy=policy.default)\n",
    "    tofromsub=[]\n",
    "    tofromsub.append(msg['To'])\n",
    "    tofromsub.append(msg['From'])\n",
    "    tofromsub.append(msg['Subject'])\n",
    "    if key==True:\n",
    "        headkey=msg.keys()\n",
    "    elif key==False:\n",
    "        headkey=[]\n",
    "    return tofromsub, headkey"
   ]
  },
  {
   "cell_type": "code",
   "execution_count": 3,
   "metadata": {
    "collapsed": true
   },
   "outputs": [],
   "source": [
    "dat1 = 'ham/00001.1a31cc283af0060967a233d26548a6ce'\n",
    "emailhead1, headkey1 = email_info(dat1)\n",
    "assert_is_instance(emailhead1, list)\n",
    "assert_is_instance(headkey1, list)\n",
    "assert_equal(headkey1, [])\n",
    "assert_equal(emailhead1, ['Chris Garrigues <cwg-dated-1030314468.7c7c85@DeepEddy.Com>', 'Robert Elz <kre@munnari.OZ.AU>', 'Re: New Sequences Window'])\n",
    "assert_equal(len(headkey1), 0)\n",
    "assert_equal(len(emailhead1), 3)"
   ]
  },
  {
   "cell_type": "code",
   "execution_count": 4,
   "metadata": {
    "collapsed": true
   },
   "outputs": [],
   "source": [
    "dat2 = 'spam/00001.317e78fa8ee2f54cd4890fdc09ba8176'\n",
    "emailhead2, headkey2 = email_info(dat2, key = True)\n",
    "assert_is_instance(emailhead2, list)\n",
    "assert_is_instance(headkey2, list)\n",
    "assert_equal(headkey2, ['Return-Path', 'Delivered-To' , 'Received', 'Received',\\\n",
    "                        'Received', 'Received', 'Received', \\\n",
    "                        'X-Authentication-Warning', 'Received', 'Message-Id',\\\n",
    "                        'Date', 'To', 'From', 'MIME-Version', 'Content-Type',\\\n",
    "                        'Subject', 'Sender', 'Errors-To', 'X-Mailman-Version',\\\n",
    "                        'Precedence', 'List-Id', 'X-Beenthere'])\n",
    "assert_equal(emailhead2, ['ilug@linux.ie', 'Start Now <startnow2002@hotmail.com>', '[ILUG] STOP THE MLM INSANITY'])\n",
    "assert_equal(len(headkey2), 22)\n",
    "assert_equal(len(emailhead2), 3)"
   ]
  },
  {
   "cell_type": "markdown",
   "metadata": {
    "collapsed": true
   },
   "source": [
    "### Many Payloads"
   ]
  },
  {
   "cell_type": "code",
   "execution_count": 115,
   "metadata": {
    "collapsed": true
   },
   "outputs": [],
   "source": [
    "def many_payloads(path, beg, end, ham = True):\n",
    "    '''\n",
    "    Captures the payloads of the emails specified between beg and end,\n",
    "    and appends the payloads into a list called payloads.\n",
    "    \n",
    "    Parameters\n",
    "    ----------\n",
    "    path: A string\n",
    "    beg: An integer\n",
    "    end: An integer\n",
    "    ham: A boolean\n",
    "    \n",
    "    Returns\n",
    "    -------\n",
    "    payloads: A list of strings.\n",
    "    '''\n",
    "    \n",
    "    payloads=[]\n",
    "    if ham==True:\n",
    "        p='ham'\n",
    "    elif ham==False:\n",
    "        p='spam'\n",
    "    for root, dirs, files in os.walk(os.path.join(path, p)):\n",
    "        for count, file in enumerate(files):\n",
    "            if beg<count <=end+1:\n",
    "                with open(os.path.join(root, file), encoding='ISO-8859-1') as fin:\n",
    "                    msg = em.message_from_file(fin, policy=policy.default)\n",
    "                    for part in msg.walk():\n",
    "                        if part.get_content_type() == 'text/plain':\n",
    "                            data = part.get_payload(None, decode=True)\n",
    "                    payloads.append(data.decode(encoding='ISO-8859-1'))\n",
    "    return payloads"
   ]
  },
  {
   "cell_type": "code",
   "execution_count": 121,
   "metadata": {
    "collapsed": true
   },
   "outputs": [],
   "source": [
    "ham = many_payloads('Desktop/email', 100, 600, ham = True)\n",
    "assert_is_instance(ham, list)\n",
    "assert_true(all(isinstance(h, str) for h in ham))\n",
    "assert_equal(len(ham), 501)\n",
    "assert_true(ham[7].startswith(\"I've got some really interesting wav files here.\"))\n",
    "assert_true(ham[53].startswith('On Tue, Jul 30, 2002 at 11:28:11AM +0200, David Neary mentioned:'))\n",
    "\n",
    "spam = many_payloads('Desktop/email', 100, 600, ham = False)\n",
    "assert_is_instance(spam, list)\n",
    "assert_true(all(isinstance(s, str) for s in spam))\n",
    "assert_equal(len(spam), 501)\n",
    "assert_true(spam[365].startswith(\"1916eEph3-937NQem2852GQnA3-l25\"))\n",
    "assert_true(spam[-1].startswith('Your mortgage has been approved.'))"
   ]
  },
  {
   "cell_type": "markdown",
   "metadata": {},
   "source": [
    "### Convert to arrays"
   ]
  },
  {
   "cell_type": "code",
   "execution_count": 122,
   "metadata": {
    "collapsed": true
   },
   "outputs": [],
   "source": [
    "def to_arrays(ham, spam):\n",
    "    '''\n",
    "    Converts ham and spam to arrays, and also creates two label arrays:\n",
    "    one filled with zeros for spam and one filled with ones for ham. \n",
    "    \n",
    "    Parameters\n",
    "    ----------\n",
    "    spam: A list of strings\n",
    "    ham: A list of strings\n",
    "    \n",
    "    Returns\n",
    "    -------\n",
    "    A tuple of four arrays\n",
    "    '''\n",
    "    \n",
    "    pos_emails = np.array(ham)\n",
    "    neg_emails = np.array(spam) \n",
    "    pos_labels = np.ones(pos_emails.shape[0])\n",
    "    neg_labels = np.zeros(neg_emails.shape[0])\n",
    "    return pos_emails, neg_emails, pos_labels, neg_labels"
   ]
  },
  {
   "cell_type": "code",
   "execution_count": 123,
   "metadata": {
    "collapsed": true
   },
   "outputs": [],
   "source": [
    "pos_emails, neg_emails, pos_labels, neg_labels = to_arrays(ham, spam)\n",
    "\n",
    "assert_is_instance(pos_emails, np.ndarray)\n",
    "assert_is_instance(neg_emails, np.ndarray)\n",
    "assert_is_instance(pos_labels, np.ndarray)\n",
    "assert_is_instance(neg_labels, np.ndarray)\n",
    "\n",
    "assert_array_equal(pos_emails, ham)\n",
    "assert_array_equal(neg_emails, spam)\n",
    "\n",
    "assert_array_equal(pos_labels, [1] * len(ham))\n",
    "assert_array_equal(neg_labels, [0] * len(spam))\n",
    "\n",
    "assert_true(pos_emails[0].startswith(\"Use the GUI and don't delete files, use the other option, whats it called\"))\n",
    "assert_true(neg_emails[60].startswith(\"RECIEVE ALL CHANNELS ON YOUR SATELLITE SYSTEM! 1-888-406-4246\"))"
   ]
  },
  {
   "cell_type": "code",
   "execution_count": 124,
   "metadata": {
    "collapsed": true
   },
   "outputs": [],
   "source": [
    "# Freeing up some memory\n",
    "%xdel ham\n",
    "%xdel spam"
   ]
  },
  {
   "cell_type": "markdown",
   "metadata": {},
   "source": [
    "### Training and testing sets"
   ]
  },
  {
   "cell_type": "code",
   "execution_count": 127,
   "metadata": {
    "collapsed": true
   },
   "outputs": [],
   "source": [
    "def test_train(pos_emails, neg_emails, pos_labels, neg_labels, split):\n",
    "    '''\n",
    "    Splits the emails and labels into training and testing sets.    \n",
    "    \n",
    "    Parameters\n",
    "    ----------\n",
    "    pos_emails: A numpy array of strings\n",
    "    neg_emails: A numpy array of strings\n",
    "    pos_labels: A numpy array of ints or floats\n",
    "    neg_labels: A numpy array of ints or floats\n",
    "    split: an int \n",
    "    \n",
    "    Returns\n",
    "    -------\n",
    "    A tuple of four numpy arrays: X_train, X_test, y_train, y_test.\n",
    "    '''\n",
    "    \n",
    "    X_train = np.concatenate((pos_emails[:split], \n",
    "                              neg_emails[:split]), axis = 0)\n",
    "    X_test = np.concatenate((pos_emails[split:],\n",
    "                             neg_emails[split:]), axis = 0)\n",
    "    y_train = np.concatenate((pos_labels[:split], \n",
    "                              neg_labels[:split]), axis = 0)\n",
    "    y_test = np.concatenate((pos_labels[split:],\n",
    "                             neg_labels[split:]), axis = 0)\n",
    "    return X_train, X_test, y_train, y_test"
   ]
  },
  {
   "cell_type": "code",
   "execution_count": 128,
   "metadata": {
    "collapsed": true
   },
   "outputs": [],
   "source": [
    "X_train, X_test, y_train, y_test = test_train(\n",
    "    pos_emails, neg_emails, pos_labels, neg_labels, split=400\n",
    "    )\n",
    "\n",
    "assert_is_instance(X_train, np.ndarray)\n",
    "assert_is_instance(X_test, np.ndarray)\n",
    "assert_is_instance(y_train, np.ndarray)\n",
    "assert_is_instance(y_test, np.ndarray)\n",
    "\n",
    "assert_array_equal(X_train[:400], pos_emails[:400])\n",
    "assert_array_equal(X_train[400:], neg_emails[:400])\n",
    "\n",
    "assert_array_equal(X_test[:len(pos_emails) - 400], pos_emails[400:])\n",
    "assert_array_equal(X_test[len(pos_emails) - 400:], neg_emails[400:])\n",
    "\n",
    "assert_array_equal(y_train[:400], pos_labels[:400])\n",
    "assert_array_equal(y_train[400:], neg_labels[:400])\n",
    "\n",
    "assert_array_equal(y_test[:len(pos_labels) - 400], pos_labels[400:])\n",
    "assert_array_equal(y_test[len(pos_labels) - 400:], neg_labels[400:])"
   ]
  },
  {
   "cell_type": "code",
   "execution_count": 129,
   "metadata": {
    "collapsed": true
   },
   "outputs": [],
   "source": [
    "# Freeing up some more memory\n",
    "%xdel pos_emails\n",
    "%xdel neg_emails"
   ]
  },
  {
   "cell_type": "markdown",
   "metadata": {},
   "source": [
    "### Spam classification"
   ]
  },
  {
   "cell_type": "code",
   "execution_count": 132,
   "metadata": {
    "collapsed": true
   },
   "outputs": [],
   "source": [
    "def fit_and_predict(X_train, y_train, X_test, random_state):\n",
    "    '''\n",
    "    Creates a document term matrix and uses SVM classifier to make document classifications.\n",
    "    Uses English stop words.\n",
    "    \n",
    "    Parameters\n",
    "    ----------\n",
    "    X_train: A list of strings.\n",
    "    y_train: A list of strings.\n",
    "    X_test: A list of strings.\n",
    "    random_state: A np.random.RandomState instance.\n",
    "    \n",
    "    Returns\n",
    "    -------\n",
    "    A tuple of (clf, y_pred)\n",
    "    clf: A Pipeline instance.\n",
    "    y_pred: A numpy array.    '''\n",
    "    \n",
    "    tools = [('tf', TfidfVectorizer()), ('svc', LinearSVC(random_state=random_state))]\n",
    "    clf = Pipeline(tools)\n",
    "    clf.set_params(tf__stop_words = 'english', \\\n",
    "                    tf__ngram_range=(1,2))\n",
    "    clf.fit(X_train, y_train)\n",
    "    y_pred = clf.predict(X_test)\n",
    "    return clf, y_pred"
   ]
  },
  {
   "cell_type": "code",
   "execution_count": 133,
   "metadata": {},
   "outputs": [
    {
     "name": "stdout",
     "output_type": "stream",
     "text": [
      "SVC prediction accuracy =  72.8%\n"
     ]
    }
   ],
   "source": [
    "clf, y_pred = fit_and_predict(X_train, y_train, X_test, random_state=check_random_state(0))\n",
    "score = accuracy_score(y_test, y_pred)\n",
    "print(\"SVC prediction accuracy = {0:5.1f}%\".format(100.0 * score))\n",
    "\n",
    "assert_is_instance(clf, Pipeline)\n",
    "assert_is_instance(y_pred, np.ndarray)\n",
    "tf = clf.named_steps['tf']\n",
    "assert_is_instance(tf, TfidfVectorizer)\n",
    "assert_is_instance(clf.named_steps['svc'], LinearSVC)\n",
    "assert_equal(tf.ngram_range, (1, 2))\n",
    "assert_equal(tf.stop_words, 'english')\n",
    "assert_equal(len(y_pred), len(y_test))\n",
    "assert_array_equal(y_pred[:10], [1] * 10)\n",
    "assert_array_equal(y_pred[-10:], [0] * 10)\n",
    "assert_almost_equal(score, 0.7277227722772277)"
   ]
  }
 ],
 "metadata": {
  "kernelspec": {
   "display_name": "Python 3",
   "language": "python",
   "name": "python3"
  },
  "language_info": {
   "codemirror_mode": {
    "name": "ipython",
    "version": 3
   },
   "file_extension": ".py",
   "mimetype": "text/x-python",
   "name": "python",
   "nbconvert_exporter": "python",
   "pygments_lexer": "ipython3",
   "version": "3.6.1"
  }
 },
 "nbformat": 4,
 "nbformat_minor": 2
}
