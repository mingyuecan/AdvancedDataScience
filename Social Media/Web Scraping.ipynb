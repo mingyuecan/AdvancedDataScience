{
 "cells": [
  {
   "cell_type": "markdown",
   "metadata": {},
   "source": [
    "## Web Scraping"
   ]
  },
  {
   "cell_type": "code",
   "execution_count": 36,
   "metadata": {
    "collapsed": true
   },
   "outputs": [],
   "source": [
    "from IPython.display import HTML, display\n",
    "import requests\n",
    "import bs4\n",
    "from bs4 import BeautifulSoup\n",
    "import re\n",
    "from lxml import html\n",
    "import numpy as np\n",
    "import pandas as pd\n",
    "\n",
    "from nose.tools import assert_equal, assert_is_instance\n",
    "from numpy.testing import assert_array_equal\n",
    "from pandas.util.testing import assert_frame_equal"
   ]
  },
  {
   "cell_type": "code",
   "execution_count": 37,
   "metadata": {
    "collapsed": true
   },
   "outputs": [],
   "source": [
    "who = 'http://www.who.int/countries/en/'"
   ]
  },
  {
   "cell_type": "markdown",
   "metadata": {},
   "source": [
    "### 1. Function: get_country_url"
   ]
  },
  {
   "cell_type": "code",
   "execution_count": 206,
   "metadata": {
    "collapsed": true
   },
   "outputs": [],
   "source": [
    "def get_country_url(country, url=who):\n",
    "    '''\n",
    "    Finds the url link of the input country on the WHO website.\n",
    "    \n",
    "    Parameters\n",
    "    ----------\n",
    "    country: A string. Name of the country.\n",
    "    url: A string. Default: 'http://www.who.int/countries/en/'\n",
    "    \n",
    "    Returns\n",
    "    -------\n",
    "    A string. Url link of the country.\n",
    "    '''\n",
    "    \n",
    "    html = requests.get(url).content\n",
    "    soup=BeautifulSoup(html, 'lxml')\n",
    "    links=soup.find_all('li')\n",
    "    for i in range(13,207):\n",
    "        if links[i].span.text==country:\n",
    "            add=links[i].a['href']\n",
    "    country_url=url[:18]+add\n",
    "    return country_url"
   ]
  },
  {
   "cell_type": "code",
   "execution_count": 209,
   "metadata": {
    "collapsed": true
   },
   "outputs": [],
   "source": [
    "t1_url = get_country_url('Panama')\n",
    "assert_equal(t1_url, 'http://www.who.int/countries/pan/en')\n",
    "\n",
    "t2_url = get_country_url('United Kingdom')\n",
    "assert_equal(t2_url, 'http://www.who.int/countries/gbr/en')\n",
    "\n",
    "t3_url = get_country_url('Micronesia (Federated States of)')\n",
    "assert_equal(t3_url, 'http://www.who.int/countries/fsm/en')"
   ]
  },
  {
   "cell_type": "markdown",
   "metadata": {},
   "source": [
    "### 2. Function: get_country_stats"
   ]
  },
  {
   "cell_type": "code",
   "execution_count": 333,
   "metadata": {
    "collapsed": true
   },
   "outputs": [],
   "source": [
    "def get_country_stats(country, url=who):\n",
    "    '''\n",
    "    Finds the statistical data of the input country on the country's website.\n",
    "    \n",
    "    Parameters\n",
    "    ----------\n",
    "    country: A string. Name of the country.\n",
    "    url: A string. Default: 'http://www.who.int/countries/en/'\n",
    "    \n",
    "    Returns\n",
    "    -------\n",
    "    A 2d numpy array of identical content as the table on the website of the country.\n",
    "    '''\n",
    "    \n",
    "    coutry_url=get_country_url(country, url=who)\n",
    "    html = requests.get(coutry_url).content\n",
    "    soup=BeautifulSoup(html, 'lxml')\n",
    "    trs=soup.find_all('tr')\n",
    "    a=[]\n",
    "    b=[]\n",
    "    for i in range(len(trs)-1):\n",
    "        a.append(trs[i].th.text)\n",
    "        b.append(trs[i].td.text.strip())\n",
    "    title=np.array(a)\n",
    "    data=np.array(b)\n",
    "    stats=np.column_stack((a,b))\n",
    "    return stats"
   ]
  },
  {
   "cell_type": "code",
   "execution_count": 334,
   "metadata": {},
   "outputs": [
    {
     "name": "stdout",
     "output_type": "stream",
     "text": [
      "Total population (2015)                                                         : 64,395,000\n",
      "Gross national income per capita (PPP international $, 2013)                    : 37\n",
      "Life expectancy at birth m/f (years, 2015)                                      : 79/85\n",
      "Probability of dying under five (per 1 000 live births, 0)                      : not available\n",
      "Probability of dying between 15 and 60 years m/f (per 1 000 population, 2015)   : 104/51\n",
      "Total expenditure on health per capita (Intl $, 2014)                           : 4,508\n",
      "Total expenditure on health as % of GDP (2014)                                  : 11.5\n"
     ]
    }
   ],
   "source": [
    "t1_stats = get_country_stats('France')\n",
    "for col, num in t1_stats:\n",
    "    print('{0:80s}: {1:s}'.format(col, num))"
   ]
  },
  {
   "cell_type": "code",
   "execution_count": 335,
   "metadata": {
    "collapsed": true
   },
   "outputs": [],
   "source": [
    "france = [['Total population (2015)', '64,395,000'],\n",
    "          ['Gross national income per capita (PPP international $, 2013)', '37'],\n",
    "          ['Life expectancy at birth m/f (years, 2015)', '79/85'],\n",
    "          ['Probability of dying under five (per 1 000 live births, 0)', 'not available'],\n",
    "          ['Probability of dying between 15 and 60 years m/f (per 1 000 population, 2015)', '104/51'],\n",
    "          ['Total expenditure on health per capita (Intl $, 2014)', '4,508'],\n",
    "          ['Total expenditure on health as % of GDP (2014)', '11.5']]\n",
    "assert_array_equal(t1_stats, france)\n",
    "\n",
    "germany = [['Total population (2015)', '80,688,000'],\n",
    "           ['Gross national income per capita (PPP international $, 2013)', '44'],\n",
    "           ['Life expectancy at birth m/f (years, 2015)', '79/83'],\n",
    "           ['Probability of dying under five (per 1 000 live births, 0)', 'not available'],\n",
    "           ['Probability of dying between 15 and 60 years m/f (per 1 000 population, 2015)', '87/47'],\n",
    "           ['Total expenditure on health per capita (Intl $, 2014)', '5,182'],\n",
    "           ['Total expenditure on health as % of GDP (2014)', '11.3']]\n",
    "t2_stats = get_country_stats('Germany')\n",
    "assert_array_equal(t2_stats, germany)\n",
    "\n",
    "andorra = [['Total population (2015)', '70,000'],\n",
    "           ['Gross national income per capita (PPP international $, 0)', 'not available'],\n",
    "           ['Life expectancy at birth m/f (years, 0)', 'not available'],\n",
    "           ['Probability of dying under five (per 1 000 live births, 0)', 'not available'],\n",
    "           ['Probability of dying between 15 and 60 years m/f (per 1 000 population, 0)', 'not available'],\n",
    "           ['Total expenditure on health per capita (Intl $, 2014)', '4,273'],\n",
    "           ['Total expenditure on health as % of GDP (2014)', '8.1']]\n",
    "t3_stats = get_country_stats('Andorra')\n",
    "assert_array_equal(t3_stats, andorra)\n"
   ]
  },
  {
   "cell_type": "markdown",
   "metadata": {},
   "source": [
    "### 3. Function: get_all_countries"
   ]
  },
  {
   "cell_type": "code",
   "execution_count": 325,
   "metadata": {
    "collapsed": true
   },
   "outputs": [],
   "source": [
    "def get_all_countries(url=who):\n",
    "    '''\n",
    "    Finds names of 194 memeber states on the WHO webpage as a list of strings.\n",
    "    \n",
    "    Parameters\n",
    "    ----------\n",
    "    url: A string. Default: 'http://www.who.int/countries/en/'\n",
    "    \n",
    "    Returns\n",
    "    -------\n",
    "    A list of the names of 194 WHO member states.\n",
    "    '''\n",
    "    \n",
    "    html = requests.get(url).content\n",
    "    soup=BeautifulSoup(html, 'lxml')\n",
    "    links=soup.find_all('li')\n",
    "    countries=[]\n",
    "    for i in range(13,207):\n",
    "        countries.append(links[i].span.text)\n",
    "    return countries"
   ]
  },
  {
   "cell_type": "code",
   "execution_count": 326,
   "metadata": {
    "collapsed": true
   },
   "outputs": [],
   "source": [
    "country_names = get_all_countries()"
   ]
  },
  {
   "cell_type": "code",
   "execution_count": 328,
   "metadata": {
    "collapsed": true
   },
   "outputs": [],
   "source": [
    "country_names = get_all_countries()\n",
    "answer = ['Afghanistan', 'Albania', 'Algeria', 'Andorra', 'Angola', 'Antigua and Barbuda', 'Argentina', 'Armenia', \n",
    "          'Australia', 'Austria', 'Azerbaijan', 'Bahamas', 'Bahrain', 'Bangladesh', 'Barbados', 'Belarus', 'Belgium', \n",
    "          'Belize', 'Benin', 'Bhutan', 'Bolivia (Plurinational State of)', 'Bosnia and Herzegovina', 'Botswana', 'Brazil', \n",
    "          'Brunei Darussalam', 'Bulgaria', 'Burkina Faso', 'Burundi', 'Cabo Verde', 'Cambodia', 'Cameroon', 'Canada', \n",
    "          'Central African Republic', 'Chad', 'Chile', 'China', 'Colombia', 'Comoros', 'Congo', 'Cook Islands', 'Costa Rica', \n",
    "          \"Côte d'Ivoire\", 'Croatia', 'Cuba', 'Cyprus', 'Czechia', \"Democratic People's Republic of Korea\", \n",
    "          'Democratic Republic of the Congo', 'Denmark', 'Djibouti', 'Dominica', 'Dominican Republic', 'Ecuador', 'Egypt', \n",
    "          'El Salvador', 'Equatorial Guinea', 'Eritrea', 'Estonia', 'Ethiopia', 'Fiji', 'Finland', 'France', 'Gabon', 'Gambia', \n",
    "          'Georgia', 'Germany', 'Ghana', 'Greece', 'Grenada', 'Guatemala', 'Guinea', 'Guinea-Bissau', 'Guyana', 'Haiti', \n",
    "          'Honduras', 'Hungary', 'Iceland', 'India', 'Indonesia', 'Iran (Islamic Republic of)', 'Iraq', 'Ireland', 'Israel', \n",
    "          'Italy', 'Jamaica', 'Japan', 'Jordan', 'Kazakhstan', 'Kenya', 'Kiribati', 'Kuwait', 'Kyrgyzstan', \n",
    "          \"Lao People's Democratic Republic\", 'Latvia', 'Lebanon', 'Lesotho', 'Liberia', 'Libya', 'Lithuania', 'Luxembourg', \n",
    "          'Madagascar', 'Malawi', 'Malaysia', 'Maldives', 'Mali', 'Malta', 'Marshall Islands', 'Mauritania', 'Mauritius', \n",
    "          'Mexico', 'Micronesia (Federated States of)', 'Monaco', 'Mongolia', 'Montenegro', 'Morocco', 'Mozambique', 'Myanmar', \n",
    "          'Namibia', 'Nauru', 'Nepal', 'Netherlands', 'New Zealand', 'Nicaragua', 'Niger', 'Nigeria', 'Niue', 'Norway', 'Oman', \n",
    "          'Pakistan', 'Palau', 'Panama', 'Papua New Guinea', 'Paraguay', 'Peru', 'Philippines', 'Poland', 'Portugal', 'Qatar', \n",
    "          'Republic of Korea', 'Republic of Moldova', 'Romania', 'Russian Federation', 'Rwanda', 'Saint Kitts and Nevis', \n",
    "          'Saint Lucia', 'Saint Vincent and the Grenadines', 'Samoa', 'San Marino', 'Sao Tome and Principe', 'Saudi Arabia', \n",
    "          'Senegal', 'Serbia ', 'Seychelles', 'Sierra Leone', 'Singapore', 'Slovakia', 'Slovenia', 'Solomon Islands', 'Somalia', \n",
    "          'South Africa', 'South Sudan', 'Spain', 'Sri Lanka', 'Sudan', 'Suriname', 'Swaziland', 'Sweden', 'Switzerland', \n",
    "          'Syrian Arab Republic', 'Tajikistan', 'Thailand', 'The former Yugoslav Republic of Macedonia', 'Timor-Leste', 'Togo', \n",
    "          'Tonga', 'Trinidad and Tobago', 'Tunisia', 'Turkey', 'Turkmenistan', 'Tuvalu', 'Uganda', 'Ukraine', \n",
    "          'United Arab Emirates', 'United Kingdom', 'United Republic of Tanzania', 'United States of America', 'Uruguay', \n",
    "          'Uzbekistan', 'Vanuatu', 'Venezuela (Bolivarian Republic of)', 'Viet Nam', 'Yemen', 'Zambia', 'Zimbabwe']\n",
    "assert_array_equal(answer, country_names)\n"
   ]
  },
  {
   "cell_type": "markdown",
   "metadata": {},
   "source": [
    "### 4. Function: get_combined_dataframe"
   ]
  },
  {
   "cell_type": "code",
   "execution_count": 336,
   "metadata": {
    "collapsed": true
   },
   "outputs": [],
   "source": [
    "cols = ['Total population',\n",
    "        'Gross national income per capita (PPP international $)',\n",
    "        'Life expectancy at birth m/f (years)',\n",
    "        'Probability of dying under five (per 1 000 live births)',\n",
    "        'Probability of dying between 15 and 60 years m/f (per 1 000 population)',\n",
    "        'Total expenditure on health per capita (Intl $)',\n",
    "        'Total expenditure on health as % of GDP']"
   ]
  },
  {
   "cell_type": "code",
   "execution_count": 400,
   "metadata": {
    "collapsed": true
   },
   "outputs": [],
   "source": [
    "def get_combined_dataframe(countries, cols=cols):\n",
    "    '''\n",
    "    Combines data for each country as a dataframe using specified column names as columns and country names as index.\n",
    "    \n",
    "    Parameters\n",
    "    ----------\n",
    "    country: A list of string. Names of the countries.\n",
    "    cols: A list of string. Default: the list defined above this cell.\n",
    "    \n",
    "    Returns\n",
    "    -------\n",
    "    A pandas DataFrame object.\n",
    "    '''\n",
    "    \n",
    "    result=[]\n",
    "    for country in countries:\n",
    "        coutry_url=get_country_url(country, url=who)\n",
    "        html = requests.get(coutry_url).content\n",
    "        soup=BeautifulSoup(html, 'lxml')\n",
    "        trs=soup.find_all('tr')\n",
    "        b=[]\n",
    "        for i in range(len(trs)-1):\n",
    "            b.append(trs[i].td.text.strip())\n",
    "        result.append(b)\n",
    "    new=pd.DataFrame(result,columns=cols)\n",
    "    new['countries']=countries\n",
    "    new=new.set_index('countries')\n",
    "    new.index.name=None\n",
    "    return new"
   ]
  },
  {
   "cell_type": "code",
   "execution_count": 401,
   "metadata": {
    "collapsed": true
   },
   "outputs": [],
   "source": [
    "countries1 = ['China', 'Egypt', 'United States of America']\n",
    "df1 = get_combined_dataframe(countries1)"
   ]
  },
  {
   "cell_type": "code",
   "execution_count": 403,
   "metadata": {
    "collapsed": true
   },
   "outputs": [],
   "source": [
    "countries1 = ['China', 'Egypt', 'United States of America']\n",
    "df1 = get_combined_dataframe(countries1)\n",
    "assert_is_instance(df1, pd.DataFrame)\n",
    "a1 = pd.DataFrame ([['1,400,000,000', '11', '75/78', 'not available', '98/71', '731','5.5'],\n",
    "                    ['91,508,000', '10', '69/73', 'not available', '196/119', '594','5.6'],\n",
    "                    ['321,774,000', '53', '77/82', 'not available', '128/77', '9,403','17.1']], \n",
    "                   columns=cols, index=countries1)\n",
    "assert_frame_equal(df1, a1)\n",
    "\n",
    "countries2 = country_names[100:110]\n",
    "df2 = get_combined_dataframe(countries2)\n",
    "a2 = pd.DataFrame([['24,235,000', '1', '64/67', 'not available', '245/196', '44', '3.0'],\n",
    "                   ['17,215,000', '750', '57/60', 'not available', '398/330', '93','11.4'],\n",
    "                   ['30,331,000', '22', '73/77', 'not available', '167/79', '1,040','4.2'],\n",
    "                   ['364,000', '9', '77/80', 'not available', '79/43', '1,996', '13.7'],\n",
    "                   ['17,600,000', '1', '58/58', 'not available', '266/267', '108','6.9'],\n",
    "                   ['419,000', '28', '80/84', 'not available', '70/37', '3,072', '9.8'],\n",
    "                   ['53,000', '4', 'not available', 'not available', 'not available','680', '17.1'],\n",
    "                   ['4,068,000', '2', '62/65', 'not available', '227/182', '148', '3.8'],\n",
    "                   ['1,273,000', '17', '71/78', 'not available', '190/99', '896', '4.8'],\n",
    "                   ['127,017,000', '16', '74/80', 'not available', '161/82', '1,122','6.3']],\n",
    "                 columns=cols, index=countries2)\n",
    "assert_frame_equal(df2, a2)"
   ]
  }
 ],
 "metadata": {
  "kernelspec": {
   "display_name": "Python 3",
   "language": "python",
   "name": "python3"
  },
  "language_info": {
   "codemirror_mode": {
    "name": "ipython",
    "version": 3
   },
   "file_extension": ".py",
   "mimetype": "text/x-python",
   "name": "python",
   "nbconvert_exporter": "python",
   "pygments_lexer": "ipython3",
   "version": "3.6.1"
  }
 },
 "nbformat": 4,
 "nbformat_minor": 2
}
